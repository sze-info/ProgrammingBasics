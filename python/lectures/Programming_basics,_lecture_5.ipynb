{
  "nbformat": 4,
  "nbformat_minor": 0,
  "metadata": {
    "colab": {
      "provenance": []
    },
    "kernelspec": {
      "name": "python3",
      "display_name": "Python 3"
    },
    "language_info": {
      "name": "python"
    }
  },
  "cells": [
    {
      "cell_type": "markdown",
      "source": [
        "# Comprehension\n",
        "\n",
        "A language capability that enables concise entry of sequences.\n",
        "\n",
        "Example: generating a list of square numbers"
      ],
      "metadata": {
        "id": "qpGrURpzHjaD"
      }
    },
    {
      "cell_type": "code",
      "execution_count": 1,
      "metadata": {
        "colab": {
          "base_uri": "https://localhost:8080/"
        },
        "id": "ESZs3OcUHIA4",
        "outputId": "1bd1de16-2021-472f-9c4e-73fb6a254cc0"
      },
      "outputs": [
        {
          "output_type": "stream",
          "name": "stdout",
          "text": [
            "[0, 1, 4, 9, 16, 25, 36, 49, 64, 81, 100]\n"
          ]
        }
      ],
      "source": [
        "sqrNums = []\n",
        "for i in range(11):\n",
        "  sqrNums.append(i**2)\n",
        "print(sqrNums)"
      ]
    },
    {
      "cell_type": "code",
      "source": [
        "sqrNums = [i**2 for i in range(11)]\n",
        "print(sqrNums)"
      ],
      "metadata": {
        "colab": {
          "base_uri": "https://localhost:8080/"
        },
        "id": "tQPW7W_UIH7C",
        "outputId": "457cb2a9-b533-441a-dcef-965839b04a04"
      },
      "execution_count": 2,
      "outputs": [
        {
          "output_type": "stream",
          "name": "stdout",
          "text": [
            "[0, 1, 4, 9, 16, 25, 36, 49, 64, 81, 100]\n"
          ]
        }
      ]
    },
    {
      "cell_type": "markdown",
      "metadata": {
        "id": "mQvaFlca8Kis"
      },
      "source": [
        "If we don't need the list (unpacking):"
      ]
    },
    {
      "cell_type": "code",
      "metadata": {
        "id": "hNC_0bz98N5c",
        "colab": {
          "base_uri": "https://localhost:8080/"
        },
        "outputId": "f081e01a-296c-46f9-b9fc-fa908c484cb9"
      },
      "source": [
        "print(*[i**2 for i in range(11)])"
      ],
      "execution_count": null,
      "outputs": [
        {
          "output_type": "stream",
          "name": "stdout",
          "text": [
            "0 1 4 9 16 25 36 49 64 81 100\n"
          ]
        }
      ]
    },
    {
      "cell_type": "markdown",
      "metadata": {
        "id": "FqOjf85154bw"
      },
      "source": [
        "Unrolling a matrix requires two loops:"
      ]
    },
    {
      "cell_type": "code",
      "metadata": {
        "id": "ezzDV3cj-lkF",
        "colab": {
          "base_uri": "https://localhost:8080/"
        },
        "outputId": "8fd0acab-c94e-4b53-cd78-86986f707634"
      },
      "source": [
        "mtx = (\n",
        "    (11, 12, 13),\n",
        "    (21, 22, 23),\n",
        "    (31, 32, 33)\n",
        ")\n",
        "vector = []\n",
        "for row in mtx:\n",
        "  for item in row:\n",
        "    vector.append(item)\n",
        "print(vector)"
      ],
      "execution_count": 3,
      "outputs": [
        {
          "output_type": "stream",
          "name": "stdout",
          "text": [
            "[11, 12, 13, 21, 22, 23, 31, 32, 33]\n"
          ]
        }
      ]
    },
    {
      "cell_type": "code",
      "metadata": {
        "id": "rzAbzuwi5CMg",
        "colab": {
          "base_uri": "https://localhost:8080/"
        },
        "outputId": "bb5ba618-ea10-4a80-e406-393e8d30eb06"
      },
      "source": [
        "mtx = (\n",
        "    (11, 12, 13),\n",
        "    (21, 22, 23),\n",
        "    (31, 32, 33)\n",
        ")\n",
        "vector = [item for row in mtx for item in row]\n",
        "print(vector)"
      ],
      "execution_count": 4,
      "outputs": [
        {
          "output_type": "stream",
          "name": "stdout",
          "text": [
            "[11, 12, 13, 21, 22, 23, 31, 32, 33]\n"
          ]
        }
      ]
    },
    {
      "cell_type": "markdown",
      "source": [
        "Producing the [transpose](https://en.wikipedia.org/wiki/Transpose) of a matrix needs two loops"
      ],
      "metadata": {
        "id": "DG44r71EJHGt"
      }
    },
    {
      "cell_type": "code",
      "source": [
        "# reading the matrix\n",
        "rows = int(input('How many rows do the matrix have? '))\n",
        "cols = int(input('How many columns do the matrix have? '))\n",
        "mtx = []\n",
        "for r in range(rows):\n",
        "  newRow = []\n",
        "  for c in range(cols):\n",
        "    newRow.append(float(input(f'[{r+1}][{c+1}]: ')))\n",
        "  mtx.append(newRow)\n",
        "# transposing\n",
        "tr = []\n",
        "for c in range(cols):\n",
        "  newRow = []\n",
        "  for r in range(rows):\n",
        "    newRow.append(mtx[r][c])\n",
        "  tr.append(newRow)\n",
        "# printing\n",
        "print('Original:', mtx)\n",
        "print('Transposed:', tr)"
      ],
      "metadata": {
        "colab": {
          "base_uri": "https://localhost:8080/"
        },
        "id": "kkSdQCkCJOv8",
        "outputId": "66fc2ffb-c42d-47f0-e754-df0feecbc250"
      },
      "execution_count": 5,
      "outputs": [
        {
          "output_type": "stream",
          "name": "stdout",
          "text": [
            "How many rows do the matrix have? 2\n",
            "How many columns do the matrix have? 2\n",
            "[1][1]: 11\n",
            "[1][2]: 12\n",
            "[2][1]: 21\n",
            "[2][2]: 22\n",
            "Original: [[11.0, 12.0], [21.0, 22.0]]\n",
            "Transposed: [[11.0, 21.0], [12.0, 22.0]]\n"
          ]
        }
      ]
    },
    {
      "cell_type": "code",
      "source": [
        "# reading the matrix\n",
        "rows = int(input('How many rows do the matrix have? '))\n",
        "cols = int(input('How many columns do the matrix have? '))\n",
        "mtx = []\n",
        "for r in range(rows):\n",
        "  newRow = []\n",
        "  for c in range(cols):\n",
        "    newRow.append(float(input(f'[{r+1}][{c+1}]: ')))\n",
        "  mtx.append(newRow)\n",
        "# transposing\n",
        "tr = [[mtx[r][c] for r in range(rows)] for c in range(cols)]\n",
        "# printing\n",
        "print('Original:', mtx)\n",
        "print('Transposed:', tr)"
      ],
      "metadata": {
        "colab": {
          "base_uri": "https://localhost:8080/"
        },
        "id": "GXNw8g4WKJce",
        "outputId": "6ad5517d-93db-40cc-882b-1ea11eca1347"
      },
      "execution_count": 6,
      "outputs": [
        {
          "output_type": "stream",
          "name": "stdout",
          "text": [
            "How many rows do the matrix have? 2\n",
            "How many columns do the matrix have? 2\n",
            "[1][1]: 11\n",
            "[1][2]: 12\n",
            "[2][1]: 21\n",
            "[2][2]: 22\n",
            "Original: [[11.0, 12.0], [21.0, 22.0]]\n",
            "Transposed: [[11.0, 21.0], [12.0, 22.0]]\n"
          ]
        }
      ]
    },
    {
      "cell_type": "markdown",
      "source": [
        "Conditions may also occur at the end of the comprehension, e.g. generating a list of even numbers:"
      ],
      "metadata": {
        "id": "hql9tCNTKiMO"
      }
    },
    {
      "cell_type": "code",
      "metadata": {
        "id": "kNWWIgLv_JqO",
        "colab": {
          "base_uri": "https://localhost:8080/"
        },
        "outputId": "8c281e0e-0c4e-4a69-c0b6-a895e5fa77c5"
      },
      "source": [
        "even = []\n",
        "for i in range(11):\n",
        "  if i%2 == 0:\n",
        "    even.append(i)\n",
        "print(even)"
      ],
      "execution_count": 7,
      "outputs": [
        {
          "output_type": "stream",
          "name": "stdout",
          "text": [
            "[0, 2, 4, 6, 8, 10]\n"
          ]
        }
      ]
    },
    {
      "cell_type": "code",
      "metadata": {
        "id": "fpkH_-427BRe",
        "colab": {
          "base_uri": "https://localhost:8080/"
        },
        "outputId": "a580d6c0-17f0-45df-ad51-8d568b0f9299"
      },
      "source": [
        "print([i for i in range(11) if i%2 == 0])"
      ],
      "execution_count": 8,
      "outputs": [
        {
          "output_type": "stream",
          "name": "stdout",
          "text": [
            "[0, 2, 4, 6, 8, 10]\n"
          ]
        }
      ]
    },
    {
      "cell_type": "markdown",
      "source": [
        "Of course, this could have been solved in another way:"
      ],
      "metadata": {
        "id": "DPnQdGU2LALL"
      }
    },
    {
      "cell_type": "code",
      "metadata": {
        "id": "wM7r0Ihj7S13",
        "colab": {
          "base_uri": "https://localhost:8080/"
        },
        "outputId": "cad058e8-a901-4bd2-e9cd-d3ed18e73ec4"
      },
      "source": [
        "print([i for i in range(0, 11, 2)])"
      ],
      "execution_count": null,
      "outputs": [
        {
          "output_type": "stream",
          "name": "stdout",
          "text": [
            "[0, 2, 4, 6, 8, 10]\n"
          ]
        }
      ]
    },
    {
      "cell_type": "markdown",
      "source": [
        "FizzBuzz game: every number divisible by 3 should be replaced by \"Fizz\", all divisible by 5 should be replaced by \"Buzz\", all divisible by 3 and 5 (i.e. 15) should be replaced by \"FizzBuzz\". It requires multidirectional branching."
      ],
      "metadata": {
        "id": "-qapthVyLHgn"
      }
    },
    {
      "cell_type": "code",
      "metadata": {
        "id": "BlqYMqLg_bZj",
        "colab": {
          "base_uri": "https://localhost:8080/"
        },
        "outputId": "401c0ef9-b32e-47b8-8684-6db8238eab05"
      },
      "source": [
        "words = []\n",
        "for i in range(1, 21):\n",
        "  if i%15==0:\n",
        "    words.append('FizzBuzz')\n",
        "  elif i%3==0:\n",
        "    words.append('Fizz')\n",
        "  elif i%5==0:\n",
        "    words.append('Buzz')\n",
        "  else:\n",
        "    words.append(i)\n",
        "print(words)"
      ],
      "execution_count": 9,
      "outputs": [
        {
          "output_type": "stream",
          "name": "stdout",
          "text": [
            "[1, 2, 'Fizz', 4, 'Buzz', 'Fizz', 7, 8, 'Fizz', 'Buzz', 11, 'Fizz', 13, 14, 'FizzBuzz', 16, 17, 'Fizz', 19, 'Buzz']\n"
          ]
        }
      ]
    },
    {
      "cell_type": "code",
      "metadata": {
        "id": "K1-8Nyuw74DK",
        "colab": {
          "base_uri": "https://localhost:8080/"
        },
        "outputId": "a87364df-09cc-4397-8683-5bd5b8b77c9d"
      },
      "source": [
        "print(['FizzBuzz' if i%15==0 else 'Fizz' if i%3==0 else 'Buzz' if i%5==0 else i for i in range(1, 21)]) # Pay attention to the place of if!"
      ],
      "execution_count": null,
      "outputs": [
        {
          "output_type": "stream",
          "name": "stdout",
          "text": [
            "[1, 2, 'Fizz', 4, 'Buzz', 'Fizz', 7, 8, 'Fizz', 'Buzz', 11, 'Fizz', 13, 14, 'FizzBuzz', 16, 17, 'Fizz', 19, 'Buzz']\n"
          ]
        }
      ]
    },
    {
      "cell_type": "markdown",
      "source": [
        "Conditional expression (as a reminder)"
      ],
      "metadata": {
        "id": "AA5k3_asMCYZ"
      }
    },
    {
      "cell_type": "code",
      "source": [
        "num = int(input('Enter an integer! '))\n",
        "print('Even' if num%2 == 0 else 'Odd')"
      ],
      "metadata": {
        "id": "nQUKOA0Mgpo0",
        "colab": {
          "base_uri": "https://localhost:8080/"
        },
        "outputId": "8923ec2b-32d3-4a37-9c72-eb3a5ca0f010"
      },
      "execution_count": 10,
      "outputs": [
        {
          "output_type": "stream",
          "name": "stdout",
          "text": [
            "Enter an integer! 2\n",
            "Even\n"
          ]
        }
      ]
    },
    {
      "cell_type": "markdown",
      "source": [
        "# Set\n",
        "\n",
        "* The equivalent of the mathematical set concept\n",
        "* Not sequential\n",
        "* Not indexable\n",
        "* Duplication of data is not allowed\n",
        "* Content checking is very fast (O(1))\n",
        "* It can store different types of data\n",
        "* It cannot store modifiable data (e.g. list)"
      ],
      "metadata": {
        "id": "o54_eqRjMkqr"
      }
    },
    {
      "cell_type": "code",
      "metadata": {
        "id": "Fbfj4_9MC114",
        "colab": {
          "base_uri": "https://localhost:8080/"
        },
        "outputId": "5b409ac3-7298-41c5-dce0-2a2876ac0f91"
      },
      "source": [
        "mySet = {42, 3.14, 'Arnold Schwarzenegger', ('a', 'b')} # definition\n",
        "print(mySet)\n",
        "print('Type of the set:', type(mySet), 'number of elements:', len(mySet))\n",
        "print('Is Sylvester Stallone here?', 'Sylvester Stallone' in mySet)\n",
        "print('What about Arnold Schwarzenegger?', 'Arnold Schwarzenegger' in mySet)\n",
        "mySet.add(52)\n",
        "mySet.add(52) # it does not store anything twice, multiple additions are not a problem\n",
        "mySet.remove(42) # however, an unstored element cannot be removed\n",
        "# mySet.remove(42) # KeyError\n",
        "print('After adding and deleting:', mySet)\n",
        "print('Empty set:', set())"
      ],
      "execution_count": 14,
      "outputs": [
        {
          "output_type": "stream",
          "name": "stdout",
          "text": [
            "{42, 3.14, 'Arnold Schwarzenegger', ('a', 'b')}\n",
            "Type of the set: <class 'set'> number of elements: 4\n",
            "Is Sylvester Stallone here? False\n",
            "What about Arnold Schwarzenegger? True\n",
            "After adding and deleting: {3.14, ('a', 'b'), 52, 'Arnold Schwarzenegger'}\n",
            "Empty set: set()\n"
          ]
        }
      ]
    },
    {
      "cell_type": "markdown",
      "source": [
        "Set operations are supported"
      ],
      "metadata": {
        "id": "DWpnrLeSOWbg"
      }
    },
    {
      "cell_type": "code",
      "metadata": {
        "id": "BodJA4EBFmIt",
        "colab": {
          "base_uri": "https://localhost:8080/"
        },
        "outputId": "4cfcdea1-0f2d-4f67-d4fd-9d8d365dc0c9"
      },
      "source": [
        "even = {i for i in range(2, 11, 2)}\n",
        "three = {i for i in range(3, 11, 3)}\n",
        "print('Numbers divisible by six::', even & three)\n",
        "print('Odd numbers:', {i for i in range(1, 11, 1)} - even)\n",
        "print('Union of sets of even and divisible by three numbers:', even | three)"
      ],
      "execution_count": 15,
      "outputs": [
        {
          "output_type": "stream",
          "name": "stdout",
          "text": [
            "Numbers divisible by six:: {6}\n",
            "Odd numbers: {1, 3, 5, 7, 9}\n",
            "Union of sets of even and divisible by three numbers: {2, 3, 4, 6, 8, 9, 10}\n"
          ]
        }
      ]
    },
    {
      "cell_type": "markdown",
      "source": [
        "Searching in a set is very fast"
      ],
      "metadata": {
        "id": "W4hooryEPC_3"
      }
    },
    {
      "cell_type": "code",
      "metadata": {
        "id": "Ol7C5ldAHJKK",
        "colab": {
          "base_uri": "https://localhost:8080/"
        },
        "outputId": "d39164b6-dd8d-4a9c-eec5-cf27aeb326a1"
      },
      "source": [
        "import time\n",
        "import random\n",
        "mySet = {i for i in range(10_001)}\n",
        "myList = list(mySet)\n",
        "\n",
        "start = time.time()\n",
        "for i in range(100_000):\n",
        "  random.randint(0, 100_000) in mySet\n",
        "end = time.time()\n",
        "print(f'Searching in a set took {end-start:.2f} secs.')\n",
        "\n",
        "start = time.time()\n",
        "for i in range(100_000):\n",
        "  random.randint(0, 100_000) in myList\n",
        "end = time.time()\n",
        "print(f'Searching in a list took {end-start:.2f} secs.')"
      ],
      "execution_count": 16,
      "outputs": [
        {
          "output_type": "stream",
          "name": "stdout",
          "text": [
            "Searching in a set took 0.12 secs.\n",
            "Searching in a list took 10.41 secs.\n"
          ]
        }
      ]
    },
    {
      "cell_type": "markdown",
      "metadata": {
        "id": "V3e2DXxVKOEv"
      },
      "source": [
        "Drawing lottery numbers (5 out of 90)\n",
        "\n"
      ]
    },
    {
      "cell_type": "code",
      "metadata": {
        "id": "fY-zE5SOKQNm",
        "colab": {
          "base_uri": "https://localhost:8080/"
        },
        "outputId": "1086006e-ddb9-4abe-b60d-abe66b8ed00e"
      },
      "source": [
        "import random as rnd\n",
        "numbers = set()\n",
        "while len(numbers) < 5:\n",
        "  numbers.add(rnd.randint(1, 90))\n",
        "print('Lottery numbers in ascending order:', sorted(numbers))"
      ],
      "execution_count": 17,
      "outputs": [
        {
          "output_type": "stream",
          "name": "stdout",
          "text": [
            "Lottery numbers in ascending order: [10, 46, 65, 67, 71]\n"
          ]
        }
      ]
    },
    {
      "cell_type": "markdown",
      "source": [
        "What letters does the poem consist of?"
      ],
      "metadata": {
        "id": "Hkf3doUsQLi3"
      }
    },
    {
      "cell_type": "code",
      "source": [
        "letters = {l.lower() for l in '''\n",
        "And this was the reason that, long ago,\n",
        "In this kingdom by the sea,\n",
        "A wind blew out of a cloud, chilling\n",
        "My beautiful Annabel Lee;\n",
        "So that her highborn kinsmen came\n",
        "And bore her away from me,\n",
        "To shut her up in a sepulchre\n",
        "In this kingdom by the sea.\n",
        "'''}\n",
        "# Edgar Allan Poe: Annabel Lee\n",
        "print(sorted(letters))"
      ],
      "metadata": {
        "colab": {
          "base_uri": "https://localhost:8080/"
        },
        "id": "JLyc8AYkQ5cc",
        "outputId": "a7976b07-5b32-418f-e3d5-4a817280cf32"
      },
      "execution_count": 18,
      "outputs": [
        {
          "output_type": "stream",
          "name": "stdout",
          "text": [
            "['\\n', ' ', ',', '.', ';', 'a', 'b', 'c', 'd', 'e', 'f', 'g', 'h', 'i', 'k', 'l', 'm', 'n', 'o', 'p', 'r', 's', 't', 'u', 'w', 'y']\n"
          ]
        }
      ]
    },
    {
      "cell_type": "markdown",
      "source": [
        "Creating a set from a list with comprehension; by definition, only one of the repeated elements of the list is added to the set."
      ],
      "metadata": {
        "id": "hvmNJyYPRg4E"
      }
    },
    {
      "cell_type": "code",
      "source": [
        "myList = [\"one\", \"two\", \"three\", \"one\", \"four\", \"two\"]\n",
        "mySet = {item for item in myList}\n",
        "print(mySet)"
      ],
      "metadata": {
        "id": "r0fivASw1aSu",
        "colab": {
          "base_uri": "https://localhost:8080/"
        },
        "outputId": "16da477e-d827-4685-b032-c8f9a5e0492b"
      },
      "execution_count": 19,
      "outputs": [
        {
          "output_type": "stream",
          "name": "stdout",
          "text": [
            "{'three', 'one', 'four', 'two'}\n"
          ]
        }
      ]
    },
    {
      "cell_type": "markdown",
      "source": [
        "## Dictionary\n",
        "\n",
        "* In other languages: map, mapping, associative array\n",
        "* Set of key-value pairs\n",
        "* The keys are unique identifiers, they form a set\n",
        "* Preserves order of elements ([since Python 3.6](https://docs.python.org/3/whatsnew/3.6.html#new-dict-implementation))\n",
        "* Fast content check (O(1))\n",
        "* You can index elements with the key"
      ],
      "metadata": {
        "id": "qVTpZgm6TJMT"
      }
    },
    {
      "cell_type": "code",
      "metadata": {
        "id": "mCpg5E61Ol04",
        "colab": {
          "base_uri": "https://localhost:8080/"
        },
        "outputId": "691221ed-caaf-4b4a-87a3-c81aaa687485"
      },
      "source": [
        "students = {\n",
        "  '1Q2W3E': 'John Doe',\n",
        "  'ASD123': 'Jane Doe',\n",
        "  'LKJHGF': 'Baby Doe'\n",
        "}\n",
        "print('Students of the course:')\n",
        "for neptun in students:\n",
        "  print(neptun, ': ', students[neptun])\n",
        "\n",
        "print('Is \"ASD123\" included?', 'ASD123' in students)\n",
        "students['ASD123'] = 'Queen Elizabeth' # modification\n",
        "students['XXXXXX'] = 'Agatha Christie' # adding new student\n",
        "del students['1Q2W3E'] # removal\n",
        "print('Students after modifications:', students)"
      ],
      "execution_count": 20,
      "outputs": [
        {
          "output_type": "stream",
          "name": "stdout",
          "text": [
            "Students of the course:\n",
            "1Q2W3E :  John Doe\n",
            "ASD123 :  Jane Doe\n",
            "LKJHGF :  Baby Doe\n",
            "Is \"ASD123\" included? True\n",
            "Students after modifications: {'ASD123': 'Queen Elizabeth', 'LKJHGF': 'Baby Doe', 'XXXXXX': 'Agatha Christie'}\n"
          ]
        }
      ]
    },
    {
      "cell_type": "code",
      "source": [
        "students = {\n",
        "  '1Q2W3E': 'John Doe',\n",
        "  'ASD123': 'Jane Doe',\n",
        "  'LKJHGF': 'Baby Doe'\n",
        "}\n",
        "teachers = {\n",
        "  '5T6Z7U': 'Smart Stephen',\n",
        "  'MNBVCX': 'Prof. Peter'\n",
        "} \n",
        "print('Students:', students)\n",
        "print('Students\\' codes:', *students)\n",
        "print('All colleagues:', {**students, **teachers}) # unpacking"
      ],
      "metadata": {
        "colab": {
          "base_uri": "https://localhost:8080/"
        },
        "id": "pgCY6pYwVNWs",
        "outputId": "34ee28e7-981d-4056-e54d-9ffb86f47717"
      },
      "execution_count": 22,
      "outputs": [
        {
          "output_type": "stream",
          "name": "stdout",
          "text": [
            "Students: {'1Q2W3E': 'John Doe', 'ASD123': 'Jane Doe', 'LKJHGF': 'Baby Doe'}\n",
            "Students' codes: 1Q2W3E ASD123 LKJHGF\n",
            "All colleagues: {'1Q2W3E': 'John Doe', 'ASD123': 'Jane Doe', 'LKJHGF': 'Baby Doe', '5T6Z7U': 'Smart Stephen', 'MNBVCX': 'Prof. Peter'}\n"
          ]
        }
      ]
    },
    {
      "cell_type": "markdown",
      "source": [
        "The frequency of occurrence of the letters of a poem"
      ],
      "metadata": {
        "id": "CTpNkMWLWW1s"
      }
    },
    {
      "cell_type": "code",
      "source": [
        "poem = '''\n",
        "And this was the reason that, long ago,\n",
        "In this kingdom by the sea,\n",
        "A wind blew out of a cloud, chilling\n",
        "My beautiful Annabel Lee;\n",
        "So that her highborn kinsmen came\n",
        "And bore her away from me,\n",
        "To shut her up in a sepulchre\n",
        "In this kingdom by the sea.\n",
        "'''\n",
        "frequency = {} # empty dictionary\n",
        "for l in poem:\n",
        "  l = l.lower()\n",
        "  frequency[l] = frequency.get(l, 0) + 1 # returns the value associated with the key if the key exists, 0 otherwise\n",
        "print(frequency)"
      ],
      "metadata": {
        "colab": {
          "base_uri": "https://localhost:8080/"
        },
        "id": "jyBsACUsWZgC",
        "outputId": "eabffb9a-c3bd-4622-eedd-2ae2db119689"
      },
      "execution_count": 23,
      "outputs": [
        {
          "output_type": "stream",
          "name": "stdout",
          "text": [
            "{'\\n': 9, 'a': 18, 'n': 16, 'd': 6, ' ': 43, 't': 14, 'h': 16, 'i': 14, 's': 11, 'w': 4, 'e': 20, 'r': 8, 'o': 13, ',': 5, 'l': 9, 'g': 6, 'k': 3, 'm': 7, 'b': 7, 'y': 4, 'u': 7, 'f': 3, 'c': 4, ';': 1, 'p': 2, '.': 1}\n"
          ]
        }
      ]
    },
    {
      "cell_type": "markdown",
      "source": [
        "In the dictionary, we can search very quickly according to the (always unique) key."
      ],
      "metadata": {
        "id": "H1IfCpZyXRGx"
      }
    },
    {
      "cell_type": "code",
      "metadata": {
        "id": "3CsubwhZmc17",
        "colab": {
          "base_uri": "https://localhost:8080/"
        },
        "outputId": "cbc19443-65de-431f-a8f6-44bf8e1675fa"
      },
      "source": [
        "subjects = {\n",
        "    'GKNB_INTA012' : {\n",
        "        'title' : 'Operation of Computers',\n",
        "        'lectures' : 3,\n",
        "        'practices' : 2,\n",
        "        'semester' : 1\n",
        "    },\n",
        "    'GKNB_INTA021' : {\n",
        "        'title' : 'Programming',\n",
        "        'lectures' : 2,\n",
        "        'practices' : 2,\n",
        "        'semester' : 2\n",
        "    },\n",
        "    'GKNB_INTA085' : {\n",
        "        'title' : 'OO programming',\n",
        "        'lectures' : 1,\n",
        "        'practices' : 3,\n",
        "        'semester' : 3\n",
        "    }\n",
        "}\n",
        "neptun = input('What is the Neptun code of the subject? ')\n",
        "if neptun in subjects:\n",
        "  print('Title of the subject is:', subjects[neptun]['title'])\n",
        "  print('Number of lectures per week:', subjects[neptun]['lectures'])\n",
        "  print('Number of practices per week:', subjects[neptun]['practices'])\n",
        "  print('Suggested semester:', subjects[neptun]['semester'])\n",
        "else:\n",
        "  print('There is no subject with this code in the register.')"
      ],
      "execution_count": 24,
      "outputs": [
        {
          "output_type": "stream",
          "name": "stdout",
          "text": [
            "What is the Neptun code of the subject? abc\n",
            "There is no subject with this code in the register.\n"
          ]
        }
      ]
    },
    {
      "cell_type": "code",
      "metadata": {
        "id": "TdkfJomEXZKx",
        "colab": {
          "base_uri": "https://localhost:8080/"
        },
        "outputId": "597631f4-a55e-42ac-8536-120f882cb672"
      },
      "source": [
        "emoji = {\n",
        "    ':)' : '\\N{grinning face}',\n",
        "    '>:|' : '\\N{angry face}'\n",
        "}\n",
        "print(emoji[':)'])"
      ],
      "execution_count": 25,
      "outputs": [
        {
          "output_type": "stream",
          "name": "stdout",
          "text": [
            "😀\n"
          ]
        }
      ]
    },
    {
      "cell_type": "markdown",
      "source": [
        "Creating a dictionary from a list with comprehension"
      ],
      "metadata": {
        "id": "JLjQBdUSYo-S"
      }
    },
    {
      "cell_type": "code",
      "source": [
        "myList = [\"apple\", \"banana\", \"cherry\"]\n",
        "myDict = {key:value for key, value in enumerate(myList)}\n",
        "print(myDict)"
      ],
      "metadata": {
        "id": "lP_wjJdJ0zhe",
        "colab": {
          "base_uri": "https://localhost:8080/"
        },
        "outputId": "cfbd45f8-72e4-428d-b5e7-6a3a283684fb"
      },
      "execution_count": 26,
      "outputs": [
        {
          "output_type": "stream",
          "name": "stdout",
          "text": [
            "{0: 'apple', 1: 'banana', 2: 'cherry'}\n"
          ]
        }
      ]
    },
    {
      "cell_type": "markdown",
      "source": [
        "## Iterate over two sequences at once\n",
        "\n",
        "Sometimes we need to perform an operation with the elements of two lists with the same index, e.g. to calculate the total of an invoice, you need to know the unit price and the quantity. With our current knowledge, e.g. we can solve it like this:"
      ],
      "metadata": {
        "id": "CXkVJN9kZPAP"
      }
    },
    {
      "cell_type": "code",
      "source": [
        "quantity = (1, 2, 3)\n",
        "unitPrice = (10, 20, 30)\n",
        "productSum = 0\n",
        "for i in range(min(len(quantity), len(unitPrice))):\n",
        "  productSum += quantity[i] * unitPrice[i]\n",
        "print('Total:', productSum)"
      ],
      "metadata": {
        "id": "QceJh-lJEm8K",
        "colab": {
          "base_uri": "https://localhost:8080/"
        },
        "outputId": "8c7f3e8c-fd38-4075-de07-ea5f800d174c"
      },
      "execution_count": 27,
      "outputs": [
        {
          "output_type": "stream",
          "name": "stdout",
          "text": [
            "Total: 140\n"
          ]
        }
      ]
    },
    {
      "cell_type": "markdown",
      "source": [
        "The same result can be achieved with the *zip* function, which pairs the next elements of *n* sequences given as arguments and makes it available to us in a single tuple:"
      ],
      "metadata": {
        "id": "cb5FJiehZ92F"
      }
    },
    {
      "cell_type": "code",
      "source": [
        "quantity = (1, 2, 3)\n",
        "unitPrice = (10, 20, 30)\n",
        "productSum = 0\n",
        "for pair in zip(quantity, unitPrice):\n",
        "  productSum += pair[0] * pair[1]\n",
        "print('Total:', productSum)"
      ],
      "metadata": {
        "id": "XgmO9QHPHS6s",
        "colab": {
          "base_uri": "https://localhost:8080/"
        },
        "outputId": "fc7c9098-8a54-4752-d554-4091cacafbce"
      },
      "execution_count": 28,
      "outputs": [
        {
          "output_type": "stream",
          "name": "stdout",
          "text": [
            "Total: 140\n"
          ]
        }
      ]
    },
    {
      "cell_type": "code",
      "source": [
        "quantity = (1, 2, 3)\n",
        "unitPrice = (10, 20, 30)\n",
        "for pair in zip(quantity, unitPrice):\n",
        "  print(pair, type(pair)) # it really uses tuples"
      ],
      "metadata": {
        "id": "FsZrNzAlHlz4",
        "colab": {
          "base_uri": "https://localhost:8080/"
        },
        "outputId": "e0fba608-feee-4f0c-c7cc-315ee0656fe1"
      },
      "execution_count": 29,
      "outputs": [
        {
          "output_type": "stream",
          "name": "stdout",
          "text": [
            "(1, 10) <class 'tuple'>\n",
            "(2, 20) <class 'tuple'>\n",
            "(3, 30) <class 'tuple'>\n"
          ]
        }
      ]
    },
    {
      "cell_type": "markdown",
      "source": [
        "If the sequences do not have the same number of elements, it stops when the end of the shortest one is reached."
      ],
      "metadata": {
        "id": "_X9OjnmGbEeh"
      }
    },
    {
      "cell_type": "code",
      "source": [
        "quantity = (1, 2, 3, 4, 5, 6, 7, 8, 9, 10)\n",
        "unitPrice = (10, 20, 30)\n",
        "for pair in zip(quantity, unitPrice):\n",
        "  print(pair, type(pair))"
      ],
      "metadata": {
        "id": "oYCz4TmcIm2Q",
        "colab": {
          "base_uri": "https://localhost:8080/"
        },
        "outputId": "8616fb85-6ff8-4715-c5c9-243759ccdccd"
      },
      "execution_count": 30,
      "outputs": [
        {
          "output_type": "stream",
          "name": "stdout",
          "text": [
            "(1, 10) <class 'tuple'>\n",
            "(2, 20) <class 'tuple'>\n",
            "(3, 30) <class 'tuple'>\n"
          ]
        }
      ]
    },
    {
      "cell_type": "markdown",
      "source": [
        "If we don't need the tuple, we can split it into separate variables:"
      ],
      "metadata": {
        "id": "B49MOVzWcYd7"
      }
    },
    {
      "cell_type": "code",
      "source": [
        "quantity = (1, 2, 3)\n",
        "unitPrice = (10, 20, 30)\n",
        "productSum = 0\n",
        "for q, u in zip(quantity, unitPrice): # unpacking\n",
        "  productSum += q * u\n",
        "print('Total:', productSum)"
      ],
      "metadata": {
        "id": "bhQgkwszJNat",
        "colab": {
          "base_uri": "https://localhost:8080/"
        },
        "outputId": "bba9fc1e-d039-43b3-b7e5-c123d0e9cd69"
      },
      "execution_count": 31,
      "outputs": [
        {
          "output_type": "stream",
          "name": "stdout",
          "text": [
            "Total: 140\n"
          ]
        }
      ]
    },
    {
      "cell_type": "markdown",
      "source": [
        "We can combine or split sequences with it:"
      ],
      "metadata": {
        "id": "NCVB1aT_cwD5"
      }
    },
    {
      "cell_type": "code",
      "source": [
        "quantity = (1, 2, 3)\n",
        "unitPrice = (10, 20, 30)\n",
        "*items, = zip(quantity, unitPrice)\n",
        "print(items)"
      ],
      "metadata": {
        "id": "VrKBwz1_LzGy",
        "colab": {
          "base_uri": "https://localhost:8080/"
        },
        "outputId": "4294a05f-484b-4b43-d302-ec7da6d48a36"
      },
      "execution_count": 32,
      "outputs": [
        {
          "output_type": "stream",
          "name": "stdout",
          "text": [
            "[(1, 10), (2, 20), (3, 30)]\n"
          ]
        }
      ]
    },
    {
      "cell_type": "code",
      "source": [
        "items = [(1, 10), (2, 20), (3, 30)]\n",
        "quantity, unitPrice = zip(*items)\n",
        "print(quantity, unitPrice)"
      ],
      "metadata": {
        "id": "lmZkL3X7KNfw",
        "colab": {
          "base_uri": "https://localhost:8080/"
        },
        "outputId": "efcd8a35-9b09-4202-e1a1-f2bbad7e2478"
      },
      "execution_count": 33,
      "outputs": [
        {
          "output_type": "stream",
          "name": "stdout",
          "text": [
            "(1, 2, 3) (10, 20, 30)\n"
          ]
        }
      ]
    },
    {
      "cell_type": "markdown",
      "source": [
        "Zip also helps in the mass creation of dictionaries:"
      ],
      "metadata": {
        "id": "kdxSn3QudjJ1"
      }
    },
    {
      "cell_type": "code",
      "source": [
        "keys = ('Name', 'Neptun', 'Program')\n",
        "values = (\n",
        "  ('John Doe', 'ABC123', 'Logistics engineer'),\n",
        "  ('Jane Doe', 'A1B2C3', 'Electrical engineer')\n",
        ")\n",
        "persons = []\n",
        "for value in values:\n",
        "  persons.append(dict(zip(keys, value)))\n",
        "print(persons)"
      ],
      "metadata": {
        "id": "j7Y0COXVNGe5",
        "colab": {
          "base_uri": "https://localhost:8080/"
        },
        "outputId": "ef36b98d-7021-4fae-d585-e9c34b2b792f"
      },
      "execution_count": 34,
      "outputs": [
        {
          "output_type": "stream",
          "name": "stdout",
          "text": [
            "[{'Name': 'John Doe', 'Neptun': 'ABC123', 'Program': 'Logistics engineer'}, {'Name': 'Jane Doe', 'Neptun': 'A1B2C3', 'Program': 'Electrical engineer'}]\n"
          ]
        }
      ]
    },
    {
      "cell_type": "code",
      "source": [
        "names = ('Amelia', 'Olivia', 'Isla')\n",
        "for rank, name in zip(range(1, len(names)+1), names):\n",
        "  print(rank, name)"
      ],
      "metadata": {
        "id": "o3w8JNIi790C",
        "colab": {
          "base_uri": "https://localhost:8080/"
        },
        "outputId": "cc4068f9-48de-45c3-f677-53b377152154"
      },
      "execution_count": 35,
      "outputs": [
        {
          "output_type": "stream",
          "name": "stdout",
          "text": [
            "1 Amelia\n",
            "2 Olivia\n",
            "3 Isla\n"
          ]
        }
      ]
    }
  ]
}