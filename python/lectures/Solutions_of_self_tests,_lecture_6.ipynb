{
  "nbformat": 4,
  "nbformat_minor": 0,
  "metadata": {
    "colab": {
      "provenance": []
    },
    "kernelspec": {
      "name": "python3",
      "display_name": "Python 3"
    },
    "language_info": {
      "name": "python"
    }
  },
  "cells": [
    {
      "cell_type": "markdown",
      "source": [
        "# Solutions of self tests\n",
        "## Lecture 6\n",
        "\n",
        "Write a function that draws a filled rectangle on the screen. The two parameters are the width and height of the rectangle measured in characters. Call this function twice to draw rectangles of different sizes on the screen. "
      ],
      "metadata": {
        "id": "dSHsHzXER5HK"
      }
    },
    {
      "cell_type": "code",
      "source": [
        "def drawRect(width, height):\n",
        "  for h in range(height):\n",
        "    for w in range(width):\n",
        "      print('*', end='')\n",
        "    print()\n",
        "  print()\n",
        "\n",
        "drawRect(5, 10)\n",
        "drawRect(10, 5)"
      ],
      "metadata": {
        "colab": {
          "base_uri": "https://localhost:8080/"
        },
        "id": "06m_qzh9K8vH",
        "outputId": "977c246f-794c-49f2-fca9-636849ed6a11"
      },
      "execution_count": 1,
      "outputs": [
        {
          "output_type": "stream",
          "name": "stdout",
          "text": [
            "*****\n",
            "*****\n",
            "*****\n",
            "*****\n",
            "*****\n",
            "*****\n",
            "*****\n",
            "*****\n",
            "*****\n",
            "*****\n",
            "\n",
            "**********\n",
            "**********\n",
            "**********\n",
            "**********\n",
            "**********\n",
            "\n"
          ]
        }
      ]
    },
    {
      "cell_type": "markdown",
      "source": [
        "Let's say we want to generate the thumbnail of an image so that its aspect ratio is the same as the original image. Create a function that receives the dimensions of the original image (width, height) and the height of the thumbnail, and the return value is the width of the latter, rounded to the nearest integer!"
      ],
      "metadata": {
        "id": "lx71_BMPSRxn"
      }
    },
    {
      "cell_type": "code",
      "source": [
        "def thumbnailSize(width, height, thumbnailHeight):\n",
        "  return int(round((width/height) * thumbnailHeight))\n",
        "\n",
        "print(thumbnailSize(1024, 768, 400))"
      ],
      "metadata": {
        "colab": {
          "base_uri": "https://localhost:8080/"
        },
        "id": "Rfbh-ukhNCle",
        "outputId": "2360da00-0c1e-4824-d15f-d064876c61e3"
      },
      "execution_count": 2,
      "outputs": [
        {
          "output_type": "stream",
          "name": "stdout",
          "text": [
            "533\n"
          ]
        }
      ]
    },
    {
      "cell_type": "markdown",
      "source": [
        "Create a function that returns some terms of an arithmetic progression (sequence) in a tuple! The parameters of the function are the value of the initial term (a), which defaults to 1, the difference of successive members (d), which also defaults to 1, and the number of terms (n), which defaults to 10."
      ],
      "metadata": {
        "id": "Zhm4MylXSg1s"
      }
    },
    {
      "cell_type": "code",
      "source": [
        "def arithmeticProgression(a=1, d=1, n=10):\n",
        "  return tuple(range(a, a+n*d, d))\n",
        "\n",
        "print(arithmeticProgression(2, 2, 20))\n",
        "print(arithmeticProgression(2, 2))\n",
        "print(arithmeticProgression(2))\n",
        "print(arithmeticProgression())"
      ],
      "metadata": {
        "colab": {
          "base_uri": "https://localhost:8080/"
        },
        "id": "riwREpZoP6Qf",
        "outputId": "e62b53aa-e44f-466a-bb84-bf8509fbbe8b"
      },
      "execution_count": 3,
      "outputs": [
        {
          "output_type": "stream",
          "name": "stdout",
          "text": [
            "(2, 4, 6, 8, 10, 12, 14, 16, 18, 20, 22, 24, 26, 28, 30, 32, 34, 36, 38, 40)\n",
            "(2, 4, 6, 8, 10, 12, 14, 16, 18, 20)\n",
            "(2, 3, 4, 5, 6, 7, 8, 9, 10, 11)\n",
            "(1, 2, 3, 4, 5, 6, 7, 8, 9, 10)\n"
          ]
        }
      ]
    },
    {
      "cell_type": "markdown",
      "source": [
        "Create a function that calculates how big the thumbnails of images would be if we wanted to resize them all by a given amount (percentage). This ratio should be the first parameter of the function, which can be followed by any number of sequences (tuple, list) containing the width and height of each image. The return value should be a (two-dimensional) sequence containing the dimensions of the thumbnails."
      ],
      "metadata": {
        "id": "EDRZkj1DSq7m"
      }
    },
    {
      "cell_type": "code",
      "source": [
        "def thumbnailSizes(percentage, *dimensions):\n",
        "  ratio = percentage / 100.\n",
        "  return [[round(size*ratio) for size in d] for d in dimensions]\n",
        "\n",
        "print(thumbnailSizes(10, (2048, 1536), (1920, 1080), (1280, 720)))"
      ],
      "metadata": {
        "colab": {
          "base_uri": "https://localhost:8080/"
        },
        "id": "K1R32ZNUSyb2",
        "outputId": "c9c04a61-5f10-4794-8e6c-7abfdd73f11a"
      },
      "execution_count": 4,
      "outputs": [
        {
          "output_type": "stream",
          "name": "stdout",
          "text": [
            "[[205, 154], [192, 108], [128, 72]]\n"
          ]
        }
      ]
    },
    {
      "cell_type": "markdown",
      "source": [
        "Change the function that calculates the dimensions of thumbnails so that after the percentage value of the scale ratio, it accepts as an argument a list containing the dimensions of the original images, the elements of which are further lists containing the width and height of each image. Change the contents of the lists inside the function!"
      ],
      "metadata": {
        "id": "ewXiAakbTYJR"
      }
    },
    {
      "cell_type": "code",
      "source": [
        "def thumbnailSizes(percentage, dimensions):\n",
        "  ratio = percentage / 100.\n",
        "  for d in range(len(dimensions)):\n",
        "    for size in range(len(dimensions[d])):\n",
        "      dimensions[d][size] = round(dimensions[d][size]*ratio)\n",
        "\n",
        "sizes = [[2048, 1536], [1920, 1080], [1280, 720]]\n",
        "thumbnailSizes(10, sizes)\n",
        "print(sizes)"
      ],
      "metadata": {
        "colab": {
          "base_uri": "https://localhost:8080/"
        },
        "id": "PwvM26cZW85n",
        "outputId": "be006f92-d9b5-434b-b12c-b096bf6ac1d1"
      },
      "execution_count": null,
      "outputs": [
        {
          "output_type": "stream",
          "name": "stdout",
          "text": [
            "[[205, 154], [192, 108], [128, 72]]\n"
          ]
        }
      ]
    },
    {
      "cell_type": "markdown",
      "source": [
        "Write a [minesweeper](https://minesweeper.online/) video game!"
      ],
      "metadata": {
        "id": "ArZZZoW5Trge"
      }
    },
    {
      "cell_type": "code",
      "source": [
        "import random\n",
        "width = 10\n",
        "height = 10\n",
        "playGround = [[True if random.randint(0, 10)==0 else False for w in range(width)] for h in range(height)]\n",
        "\n",
        "def printPlayGround(pg):\n",
        "  print('  ', end='')\n",
        "  for ci in range(len(pg[0])):\n",
        "    print(ci, end='')\n",
        "  print('\\n')\n",
        "  for ri, row in enumerate(pg):\n",
        "    print(ri, ' ', sep='', end='')\n",
        "    for col in row:\n",
        "      print('*' if col else '.', end='')\n",
        "    print()\n",
        "  print()\n",
        "\n",
        "def createCanvas(pg):\n",
        "  return [['?' for col in row] for row in pg]\n",
        "\n",
        "def printCanvas(canvas):\n",
        "  print('  ', end='')\n",
        "  for ci in range(len(canvas[0])):\n",
        "    print(ci, end='')\n",
        "  print('\\n')\n",
        "  for ri, row in enumerate(canvas):\n",
        "    print(ri, ' ', sep='', end='')\n",
        "    for col in row:\n",
        "      print(col, end='')\n",
        "    print()\n",
        "  print()\n",
        "\n",
        "def minesNear(pg, r, c):\n",
        "  minesNear = 0\n",
        "  for rn in range(r-1, r+2):\n",
        "    for cn in range(c-1, c+2):\n",
        "      if (rn!=r or cn!=c) and rn>=0 and rn<len(pg) and cn>=0 and cn<len(pg[0]) and pg[rn][cn]:\n",
        "        minesNear += 1\n",
        "  return minesNear\n",
        "\n",
        "def updateCanvas(pg, canvas, r, c):\n",
        "  if r<0 or r>=len(pg) or c<0 or c>=len(pg[0]) or canvas[r][c]!='?':\n",
        "    return None\n",
        "  if pg[r][c] == True:\n",
        "    canvas[r][c] = '*'\n",
        "    return -1\n",
        "  mn = minesNear(pg, r, c)\n",
        "  if mn==0:\n",
        "    canvas[r][c] = '.'\n",
        "    for rn in range(r-1, r+2):\n",
        "      for cn in range(c-1, c+2):\n",
        "        if rn!=r or cn!=c:\n",
        "          updateCanvas(pg, canvas, rn, cn)\n",
        "  else:\n",
        "    canvas[r][c] = str(mn)\n",
        "\n",
        "def minesOnly(pg, canvas):\n",
        "  for ri, row in enumerate(canvas):\n",
        "    for ci, col in enumerate(row):\n",
        "      if pg[ri][ci]==False and canvas[ri][ci]=='?':\n",
        "        return False\n",
        "  return True\n",
        "\n",
        "printPlayGround(playGround)\n",
        "canvas = createCanvas(playGround)\n",
        "won = True\n",
        "while not minesOnly(playGround, canvas):\n",
        "  printCanvas(canvas)\n",
        "  r = int(input('Row index: '))\n",
        "  c = int(input('Column index: '))\n",
        "  last = updateCanvas(playGround, canvas, r, c)\n",
        "  if last == -1:\n",
        "    won = False\n",
        "    break\n",
        "printCanvas(canvas)\n",
        "if won:\n",
        "  print('Congratulations!')\n",
        "else:\n",
        "  print('Game over')"
      ],
      "metadata": {
        "colab": {
          "base_uri": "https://localhost:8080/"
        },
        "id": "4BwS4LCFZm8G",
        "outputId": "ae171542-6fb7-4728-c59b-2cd7868100e0"
      },
      "execution_count": 8,
      "outputs": [
        {
          "output_type": "stream",
          "name": "stdout",
          "text": [
            "  0123456789\n",
            "\n",
            "0 .........*\n",
            "1 ..........\n",
            "2 *.........\n",
            "3 .*..*.....\n",
            "4 ..........\n",
            "5 ........*.\n",
            "6 ..........\n",
            "7 .....*....\n",
            "8 ........*.\n",
            "9 .*........\n",
            "\n",
            "  0123456789\n",
            "\n",
            "0 ??????????\n",
            "1 ??????????\n",
            "2 ??????????\n",
            "3 ??????????\n",
            "4 ??????????\n",
            "5 ??????????\n",
            "6 ??????????\n",
            "7 ??????????\n",
            "8 ??????????\n",
            "9 ??????????\n",
            "\n",
            "Row index: 0\n",
            "Column index: 0\n",
            "  0123456789\n",
            "\n",
            "0 ........1?\n",
            "1 11......11\n",
            "2 ?21111....\n",
            "3 ?????1....\n",
            "4 111111.111\n",
            "5 .......1??\n",
            "6 ....1111??\n",
            "7 ....1?????\n",
            "8 111.1111??\n",
            "9 ??1....1??\n",
            "\n",
            "Row index: 0\n",
            "Column index: 9\n",
            "  0123456789\n",
            "\n",
            "0 ........1*\n",
            "1 11......11\n",
            "2 ?21111....\n",
            "3 ?????1....\n",
            "4 111111.111\n",
            "5 .......1??\n",
            "6 ....1111??\n",
            "7 ....1?????\n",
            "8 111.1111??\n",
            "9 ??1....1??\n",
            "\n",
            "Game over\n"
          ]
        }
      ]
    },
    {
      "cell_type": "markdown",
      "source": [
        "Exponentiation can be traced back to a series of multiplications, e.g. 2\\*\\*5 == 2\\*2\\*2\\*2\\*2 == 32. However, the number of multiplications can be reduced if we take advantage of the properties of exponentiation, e.g. 2\\*\\*5 == 2\\*\\*2\\*\\*2 \\* 2. Since 2\\*\\*2 == 2\\*2, 2\\*\\*5 can be calculated with a total of 3 multiplications instead of 4. Exponentiation can therefore be traced back to multiplying the results of exponentiations with a lower exponent. Create a recursive exponentiation (power) function and document its use."
      ],
      "metadata": {
        "id": "rfq4xZHRW3ko"
      }
    },
    {
      "cell_type": "code",
      "source": [
        "def recPower(base: float, exponent: int) -> float:\n",
        "  '''Recursive exponentiation to save multiplications.\n",
        "\n",
        "  Parameters\n",
        "  ----------\n",
        "  base : float\n",
        "    The base of the exponentiation.\n",
        "  exponent : int\n",
        "    The exponent of exponentiation. This function works only with positive integer exponents.\n",
        "  \n",
        "  Returns\n",
        "  -------\n",
        "  float\n",
        "    The result of exponentiation.\n",
        "  '''\n",
        "  \n",
        "  if(exponent==0):\n",
        "    return 1\n",
        "  if(exponent==1):\n",
        "    return base\n",
        "  result = recPower(base, exponent//2)\n",
        "  result *= result\n",
        "  if(exponent%2 == 1):\n",
        "    result *= base\n",
        "  return result\n",
        "\n",
        "print(\"2**5 ==\", recPower(2, 5))\n",
        "help(recPower)"
      ],
      "metadata": {
        "colab": {
          "base_uri": "https://localhost:8080/"
        },
        "id": "FdVYjGCkXfdT",
        "outputId": "02c1e2e3-0e4b-4325-c7c8-de19bc58dcc1"
      },
      "execution_count": 10,
      "outputs": [
        {
          "output_type": "stream",
          "name": "stdout",
          "text": [
            "2**5 == 32\n",
            "Help on function recPower in module __main__:\n",
            "\n",
            "recPower(base: float, exponent: int) -> float\n",
            "    Recursive exponentiation to save multiplications.\n",
            "    \n",
            "    Parameters\n",
            "    ----------\n",
            "    base : float\n",
            "      The base of the exponentiation.\n",
            "    exponent : int\n",
            "      The exponent of exponentiation. This function works only with positive integer exponents.\n",
            "    \n",
            "    Returns\n",
            "    -------\n",
            "    float\n",
            "      The result of exponentiation.\n",
            "\n"
          ]
        }
      ]
    },
    {
      "cell_type": "markdown",
      "source": [
        "Create a *Triangle* class that stores the lengths of the three sides of a triangle. Elaborate methods to calculate the perimeter and [area](https://en.wikipedia.org/wiki/Heron%27s_formula) of triangles. Document the methods and the [class](https://realpython.com/documenting-python-code/) as well."
      ],
      "metadata": {
        "id": "JeG_lBCIh2vY"
      }
    },
    {
      "cell_type": "code",
      "source": [
        "import math\n",
        "\n",
        "class Triangle:\n",
        "  '''The Triangle class represents a generic triangle\n",
        "\n",
        "  ...\n",
        "\n",
        "  Attributes\n",
        "  ----------\n",
        "  a : float\n",
        "    The length of the 1st side of the triangle\n",
        "  b : float\n",
        "    The length of the 2nd side of the triangle\n",
        "  c : float\n",
        "    The length of the 3rd side of the triangle\n",
        "  \n",
        "  Methods\n",
        "  -------\n",
        "  perimeter()\n",
        "    Calculates the perimeter of the triangle\n",
        "  area()\n",
        "    Calculates the area of the triangle with Heron's formula\n",
        "  '''\n",
        "\n",
        "  def __init__(self, a, b, c):\n",
        "    '''\n",
        "    Parameters\n",
        "    ----------\n",
        "    a : float\n",
        "      The length of the 1st side of the triangle\n",
        "    b : float\n",
        "      The length of the 2nd side of the triangle\n",
        "    c : float\n",
        "      The length of the 3rd side of the triangle\n",
        "    '''\n",
        "\n",
        "    self.a = a\n",
        "    self.b = b\n",
        "    self.c = c\n",
        "\n",
        "  def perimeter(self):\n",
        "    '''Calculates the perimeter of the triangle\n",
        "\n",
        "    Returns\n",
        "    -------\n",
        "    float\n",
        "      The perimeter of the triangle\n",
        "    '''\n",
        "\n",
        "    return self.a + self.b + self.c\n",
        "\n",
        "  def area(self):\n",
        "    '''Calculates the area of the triangle with Heron's formula\n",
        "\n",
        "    Returns\n",
        "    -------\n",
        "    float\n",
        "      The area of the triangle\n",
        "    '''\n",
        "    \n",
        "    s = self.perimeter() / 2.\n",
        "    return math.sqrt(s * (s-self.a) * (s-self.b) * (s-self.c))\n",
        "\n",
        "t1 = Triangle(3, 4, 5)\n",
        "print('p =', t1.perimeter(), 'A = ', t1.area())\n",
        "t2 = Triangle(4, 13, 15)\n",
        "print('p =', t2.perimeter(), 'A = ', t2.area())"
      ],
      "metadata": {
        "colab": {
          "base_uri": "https://localhost:8080/"
        },
        "id": "sZ9K0jNydK7Y",
        "outputId": "0402b138-5e4c-437d-8b28-cf2ba249492e"
      },
      "execution_count": 13,
      "outputs": [
        {
          "output_type": "stream",
          "name": "stdout",
          "text": [
            "p = 12 A =  6.0\n",
            "p = 32 A =  24.0\n"
          ]
        }
      ]
    }
  ]
}