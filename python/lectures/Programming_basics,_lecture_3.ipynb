{
  "nbformat": 4,
  "nbformat_minor": 0,
  "metadata": {
    "colab": {
      "provenance": []
    },
    "kernelspec": {
      "name": "python3",
      "display_name": "Python 3"
    },
    "language_info": {
      "name": "python"
    }
  },
  "cells": [
    {
      "cell_type": "markdown",
      "metadata": {
        "id": "PAAwKMueqkvr"
      },
      "source": [
        "# Control flow statements: iteration\n",
        "\n",
        "## while loop\n",
        "\n",
        "Using our previous knowledge, let's write a program that creates a table of Fahrenheit - Celsius values!\n",
        "\n",
        "$C = \\frac{5}{9}(F - 32)$"
      ]
    },
    {
      "cell_type": "code",
      "metadata": {
        "id": "rG-QkFlZpZ9W",
        "colab": {
          "base_uri": "https://localhost:8080/"
        },
        "outputId": "f1d1646c-90e9-445b-8a18-87de884086ac"
      },
      "source": [
        "print('Fahrenheit - Celsius')\n",
        "print(f'{0:10d}{5/9 * (0-32):10.2f}')\n",
        "print(f'{10:10d}{5/9 * (10-32):10.2f}')\n",
        "print(f'{20:10d}{5/9 * (20-32):10.2f}')\n",
        "print(f'{30:10d}{5/9 * (30-32):10.2f}')\n",
        "print(f'{40:10d}{5/9 * (40-32):10.2f}')\n",
        "print(f'{50:10d}{5/9 * (50-32):10.2f}')\n",
        "print(f'{60:10d}{5/9 * (60-32):10.2f}')\n",
        "print(f'{70:10d}{5/9 * (70-32):10.2f}')\n",
        "print(f'{80:10d}{5/9 * (80-32):10.2f}')\n",
        "print(f'{90:10d}{5/9 * (90-32):10.2f}')\n",
        "print(f'{100:10d}{5/9 * (100-32):10.2f}')\n",
        "print(f'{110:10d}{5/9 * (110-32):10.2f}')\n",
        "print(f'{120:10d}{5/9 * (120-32):10.2f}')\n",
        "print(f'{130:10d}{5/9 * (130-32):10.2f}')\n",
        "print(f'{140:10d}{5/9 * (140-32):10.2f}')\n",
        "print(f'{150:10d}{5/9 * (150-32):10.2f}')\n",
        "print(f'{160:10d}{5/9 * (160-32):10.2f}')\n",
        "print(f'{170:10d}{5/9 * (170-32):10.2f}')\n",
        "print(f'{180:10d}{5/9 * (180-32):10.2f}')\n",
        "print(f'{190:10d}{5/9 * (190-32):10.2f}')\n",
        "print(f'{200:10d}{5/9 * (200-32):10.2f}')"
      ],
      "execution_count": 1,
      "outputs": [
        {
          "output_type": "stream",
          "name": "stdout",
          "text": [
            "Fahrenheit - Celsius\n",
            "         0    -17.78\n",
            "        10    -12.22\n",
            "        20     -6.67\n",
            "        30     -1.11\n",
            "        40      4.44\n",
            "        50     10.00\n",
            "        60     15.56\n",
            "        70     21.11\n",
            "        80     26.67\n",
            "        90     32.22\n",
            "       100     37.78\n",
            "       110     43.33\n",
            "       120     48.89\n",
            "       130     54.44\n",
            "       140     60.00\n",
            "       150     65.56\n",
            "       160     71.11\n",
            "       170     76.67\n",
            "       180     82.22\n",
            "       190     87.78\n",
            "       200     93.33\n"
          ]
        }
      ]
    },
    {
      "cell_type": "code",
      "metadata": {
        "id": "8fXUAqHbokYN",
        "colab": {
          "base_uri": "https://localhost:8080/"
        },
        "outputId": "d5a97140-9728-4fa3-f4d5-a28f76adf489"
      },
      "source": [
        "print('Fahrenheit - Celsius')\n",
        "f = 0\n",
        "print(f'{f:10d}{5/9 * (f-32):10.2f}')\n",
        "f = 10\n",
        "print(f'{f:10d}{5/9 * (f-32):10.2f}')\n",
        "f = 20\n",
        "print(f'{f:10d}{5/9 * (f-32):10.2f}')\n",
        "f = 30\n",
        "print(f'{f:10d}{5/9 * (f-32):10.2f}')\n",
        "f = 40\n",
        "print(f'{f:10d}{5/9 * (f-32):10.2f}')\n",
        "f = 50\n",
        "print(f'{f:10d}{5/9 * (f-32):10.2f}')\n",
        "f = 60\n",
        "print(f'{f:10d}{5/9 * (f-32):10.2f}')\n",
        "f = 70\n",
        "print(f'{f:10d}{5/9 * (f-32):10.2f}')\n",
        "f = 80\n",
        "print(f'{f:10d}{5/9 * (f-32):10.2f}')\n",
        "f = 90\n",
        "print(f'{f:10d}{5/9 * (f-32):10.2f}')\n",
        "f = 100\n",
        "print(f'{f:10d}{5/9 * (f-32):10.2f}')\n",
        "f = 110\n",
        "print(f'{f:10d}{5/9 * (f-32):10.2f}')\n",
        "f = 120\n",
        "print(f'{f:10d}{5/9 * (f-32):10.2f}')\n",
        "f = 130\n",
        "print(f'{f:10d}{5/9 * (f-32):10.2f}')\n",
        "f = 140\n",
        "print(f'{f:10d}{5/9 * (f-32):10.2f}')\n",
        "f = 150\n",
        "print(f'{f:10d}{5/9 * (f-32):10.2f}')\n",
        "f = 160\n",
        "print(f'{f:10d}{5/9 * (f-32):10.2f}')\n",
        "f = 170\n",
        "print(f'{f:10d}{5/9 * (f-32):10.2f}')\n",
        "f = 180\n",
        "print(f'{f:10d}{5/9 * (f-32):10.2f}')\n",
        "f = 190\n",
        "print(f'{f:10d}{5/9 * (f-32):10.2f}')\n",
        "f = 200\n",
        "print(f'{f:10d}{5/9 * (f-32):10.2f}')"
      ],
      "execution_count": null,
      "outputs": [
        {
          "output_type": "stream",
          "name": "stdout",
          "text": [
            "Fahrenheit - Celsius\n",
            "         0    -17.78\n",
            "        10    -12.22\n",
            "        20     -6.67\n",
            "        30     -1.11\n",
            "        40      4.44\n",
            "        50     10.00\n",
            "        60     15.56\n",
            "        70     21.11\n",
            "        80     26.67\n",
            "        90     32.22\n",
            "       100     37.78\n",
            "       110     43.33\n",
            "       120     48.89\n",
            "       130     54.44\n",
            "       140     60.00\n",
            "       150     65.56\n",
            "       160     71.11\n",
            "       170     76.67\n",
            "       180     82.22\n",
            "       190     87.78\n",
            "       200     93.33\n"
          ]
        }
      ]
    },
    {
      "cell_type": "code",
      "source": [
        "print('Fahrenheit - Celsius')\n",
        "f = 0\n",
        "print(f'{f:10d}{5/9 * (f-32):10.2f}')\n",
        "f = f + 10\n",
        "print(f'{f:10d}{5/9 * (f-32):10.2f}')\n",
        "f = f + 10\n",
        "print(f'{f:10d}{5/9 * (f-32):10.2f}')\n",
        "f = f + 10\n",
        "print(f'{f:10d}{5/9 * (f-32):10.2f}')\n",
        "f = f + 10\n",
        "print(f'{f:10d}{5/9 * (f-32):10.2f}')\n",
        "f = f + 10\n",
        "print(f'{f:10d}{5/9 * (f-32):10.2f}')\n",
        "f = f + 10\n",
        "print(f'{f:10d}{5/9 * (f-32):10.2f}')\n",
        "f = f + 10\n",
        "print(f'{f:10d}{5/9 * (f-32):10.2f}')\n",
        "f = f + 10\n",
        "print(f'{f:10d}{5/9 * (f-32):10.2f}')\n",
        "f = f + 10\n",
        "print(f'{f:10d}{5/9 * (f-32):10.2f}')\n",
        "f = f + 10\n",
        "print(f'{f:10d}{5/9 * (f-32):10.2f}')\n",
        "f = f + 10\n",
        "print(f'{f:10d}{5/9 * (f-32):10.2f}')\n",
        "f = f + 10\n",
        "print(f'{f:10d}{5/9 * (f-32):10.2f}')\n",
        "f = f + 10\n",
        "print(f'{f:10d}{5/9 * (f-32):10.2f}')\n",
        "f = f + 10\n",
        "print(f'{f:10d}{5/9 * (f-32):10.2f}')\n",
        "f = f + 10\n",
        "print(f'{f:10d}{5/9 * (f-32):10.2f}')\n",
        "f = f + 10\n",
        "print(f'{f:10d}{5/9 * (f-32):10.2f}')\n",
        "f = f + 10\n",
        "print(f'{f:10d}{5/9 * (f-32):10.2f}')\n",
        "f = f + 10\n",
        "print(f'{f:10d}{5/9 * (f-32):10.2f}')\n",
        "f = f + 10\n",
        "print(f'{f:10d}{5/9 * (f-32):10.2f}')\n",
        "f = f + 10\n",
        "print(f'{f:10d}{5/9 * (f-32):10.2f}')"
      ],
      "metadata": {
        "colab": {
          "base_uri": "https://localhost:8080/"
        },
        "id": "dMXtPg41mRXl",
        "outputId": "3ba0c2b8-6272-4a39-e6af-36776db1ee8c"
      },
      "execution_count": null,
      "outputs": [
        {
          "output_type": "stream",
          "name": "stdout",
          "text": [
            "Fahrenheit - Celsius\n",
            "         0    -17.78\n",
            "        10    -12.22\n",
            "        20     -6.67\n",
            "        30     -1.11\n",
            "        40      4.44\n",
            "        50     10.00\n",
            "        60     15.56\n",
            "        70     21.11\n",
            "        80     26.67\n",
            "        90     32.22\n",
            "       100     37.78\n",
            "       110     43.33\n",
            "       120     48.89\n",
            "       130     54.44\n",
            "       140     60.00\n",
            "       150     65.56\n",
            "       160     71.11\n",
            "       170     76.67\n",
            "       180     82.22\n",
            "       190     87.78\n",
            "       200     93.33\n"
          ]
        }
      ]
    },
    {
      "cell_type": "markdown",
      "metadata": {
        "id": "g-sIOaZHqvgz"
      },
      "source": [
        "Problems:\n",
        "* very long code with lots of repetition\n",
        "* many possible errors (typing)\n",
        "* difficult to maintain (resolution, changing the examined range?)\n",
        "\n",
        "Solution: using iterations (loops)\n",
        "\n",
        "**while** *repeat_condition*:\n",
        "> loop_body"
      ]
    },
    {
      "cell_type": "code",
      "metadata": {
        "id": "VaW_WPF_rO8w",
        "colab": {
          "base_uri": "https://localhost:8080/"
        },
        "outputId": "05a38a14-9719-48a2-ad88-6550722b5b5b"
      },
      "source": [
        "lower = 0\n",
        "upper = 200\n",
        "step = 10\n",
        "print('Fahrenheit - Celsius')\n",
        "f = lower\n",
        "while f <= upper:\n",
        "  print(f'{f:10d}{5/9 * (f-32):10.2f}')\n",
        "  f += step"
      ],
      "execution_count": 2,
      "outputs": [
        {
          "output_type": "stream",
          "name": "stdout",
          "text": [
            "Fahrenheit - Celsius\n",
            "         0    -17.78\n",
            "        10    -12.22\n",
            "        20     -6.67\n",
            "        30     -1.11\n",
            "        40      4.44\n",
            "        50     10.00\n",
            "        60     15.56\n",
            "        70     21.11\n",
            "        80     26.67\n",
            "        90     32.22\n",
            "       100     37.78\n",
            "       110     43.33\n",
            "       120     48.89\n",
            "       130     54.44\n",
            "       140     60.00\n",
            "       150     65.56\n",
            "       160     71.11\n",
            "       170     76.67\n",
            "       180     82.22\n",
            "       190     87.78\n",
            "       200     93.33\n"
          ]
        }
      ]
    },
    {
      "cell_type": "markdown",
      "metadata": {
        "id": "3P_5gCnvsiTL"
      },
      "source": [
        "If e.g. the data is entered by the user, we no longer have the possibility to solve the task without a loop"
      ]
    },
    {
      "cell_type": "code",
      "metadata": {
        "id": "znFHu2lHsr2W",
        "colab": {
          "base_uri": "https://localhost:8080/"
        },
        "outputId": "0c7e8c68-1baf-43e2-f21a-a5e248d2f051"
      },
      "source": [
        "lower = int(input('Lower bound: '))\n",
        "upper = int(input('Upper bound: '))\n",
        "step = int(input('Step size: '))\n",
        "print('Fahrenheit - Celsius')\n",
        "f = lower\n",
        "while f <= upper:\n",
        "  print(f'{f:10d}{5/9 * (f-32):10.2f}')\n",
        "  f += step"
      ],
      "execution_count": 3,
      "outputs": [
        {
          "output_type": "stream",
          "name": "stdout",
          "text": [
            "Lower bound: -10\n",
            "Upper bound: 30\n",
            "Step size: 5\n",
            "Fahrenheit - Celsius\n",
            "       -10    -23.33\n",
            "        -5    -20.56\n",
            "         0    -17.78\n",
            "         5    -15.00\n",
            "        10    -12.22\n",
            "        15     -9.44\n",
            "        20     -6.67\n",
            "        25     -3.89\n",
            "        30     -1.11\n"
          ]
        }
      ]
    },
    {
      "cell_type": "markdown",
      "metadata": {
        "id": "ZxWaDC01tyZl"
      },
      "source": [
        "# Generating psudorandom numbers\n",
        "\n",
        "* its operation is deterministic, but it is mostly enough for the user if it does not seem so\n",
        "* this can be an advantage if reproducibility is a concern\n",
        "* returns the members of a finitely long series in the same order each time from an initial state (seed) and then restarts\n",
        "* [reference](https://docs.python.org/3/library/random.html)"
      ]
    },
    {
      "cell_type": "code",
      "metadata": {
        "id": "bvGE9pcRuiex",
        "colab": {
          "base_uri": "https://localhost:8080/"
        },
        "outputId": "43bf5e70-b66e-4cdd-f086-2ab1cf188b01"
      },
      "source": [
        "import random\n",
        "i = 0\n",
        "random.seed(1)\n",
        "while i<10:\n",
        "  print(random.uniform(0, 1)) # uniform distribution, interval: [0, 1]\n",
        "  i += 1\n",
        "\n",
        "print()\n",
        "\n",
        "i = 0\n",
        "random.seed(1)\n",
        "while i<10:\n",
        "  print(random.uniform(0, 1))\n",
        "  i += 1"
      ],
      "execution_count": 4,
      "outputs": [
        {
          "output_type": "stream",
          "name": "stdout",
          "text": [
            "0.13436424411240122\n",
            "0.8474337369372327\n",
            "0.763774618976614\n",
            "0.2550690257394217\n",
            "0.49543508709194095\n",
            "0.4494910647887381\n",
            "0.651592972722763\n",
            "0.7887233511355132\n",
            "0.0938595867742349\n",
            "0.02834747652200631\n",
            "\n",
            "0.13436424411240122\n",
            "0.8474337369372327\n",
            "0.763774618976614\n",
            "0.2550690257394217\n",
            "0.49543508709194095\n",
            "0.4494910647887381\n",
            "0.651592972722763\n",
            "0.7887233511355132\n",
            "0.0938595867742349\n",
            "0.02834747652200631\n"
          ]
        }
      ]
    },
    {
      "cell_type": "code",
      "metadata": {
        "id": "gSO0MzeXxZ3Q",
        "colab": {
          "base_uri": "https://localhost:8080/"
        },
        "outputId": "4e5c6d38-b95f-464b-d7e9-4a16ab308f8a"
      },
      "source": [
        "i = 0\n",
        "while i<10:\n",
        "  print(random.randint(1, 5)) # uniform distribution, gives integers from the interval [1, 5]\n",
        "  i += 1"
      ],
      "execution_count": 5,
      "outputs": [
        {
          "output_type": "stream",
          "name": "stdout",
          "text": [
            "4\n",
            "4\n",
            "5\n",
            "1\n",
            "4\n",
            "3\n",
            "2\n",
            "5\n",
            "1\n",
            "3\n"
          ]
        }
      ]
    },
    {
      "cell_type": "code",
      "metadata": {
        "id": "aMUXhnW3wSEe",
        "colab": {
          "base_uri": "https://localhost:8080/"
        },
        "outputId": "aec529c4-b38c-44bf-81d0-dc47ce906454"
      },
      "source": [
        "i = 0\n",
        "while i<10:\n",
        "  print(random.normalvariate(0, 1)) # normal distribution, parameters: mean, deviation\n",
        "  i += 1"
      ],
      "execution_count": 6,
      "outputs": [
        {
          "output_type": "stream",
          "name": "stdout",
          "text": [
            "1.1675147022179206\n",
            "-0.26014459070927415\n",
            "-0.13760740481642664\n",
            "-0.8493775794949604\n",
            "-0.009367675757227498\n",
            "-0.5910070593114993\n",
            "-0.09757755890188685\n",
            "0.27075043892602313\n",
            "0.7024129376326237\n",
            "-1.03052060053716\n"
          ]
        }
      ]
    },
    {
      "cell_type": "markdown",
      "metadata": {
        "id": "lJI6VTZHyA7e"
      },
      "source": [
        "Number guessing game\n",
        "\n",
        "* a lower and an upper limit must be specified\n",
        "* the machine guesses a number in this interval\n",
        "* which must be guessed with as few attempts as possible\n",
        "* after each attempt, the machine informs the player whether the given value is smaller or larger than the generated value, or maybe just the same"
      ]
    },
    {
      "cell_type": "code",
      "metadata": {
        "id": "z9FX4mieyWxB",
        "colab": {
          "base_uri": "https://localhost:8080/"
        },
        "outputId": "99fba87e-5e23-4904-a6a3-50168e2a069b"
      },
      "source": [
        "import random as rnd # introduction of abbreviation, alias\n",
        "print('Number guessing game')\n",
        "lower = int(input('What should be the smallest possible value? '))\n",
        "upper = int(input('What should be the greatest possible value? '))\n",
        "number = rnd.randint(lower, upper)\n",
        "attempts = 0\n",
        "guess = number + 1 # The only important thing is that 'guess' and 'number' are not the same\n",
        "print(f'I thought of a number between {lower} and {upper}, guess!')\n",
        "while guess != number:\n",
        "  guess = int(input('Guess: '))\n",
        "  attempts += 1\n",
        "  if guess < number:\n",
        "    print('I meant a greater number.')\n",
        "  elif guess > number:\n",
        "    print('I meant a smaller number.')\n",
        "  else:\n",
        "    print('You hit it in', attempts, 'attempts!')"
      ],
      "execution_count": 9,
      "outputs": [
        {
          "output_type": "stream",
          "name": "stdout",
          "text": [
            "Number guessing game\n",
            "What should be the smallest possible value? 1\n",
            "What should be the greatest possible value? 100\n",
            "I thought of a number between 1 and 100, guess!\n",
            "Guess: 50\n",
            "I meant a greater number.\n",
            "Guess: 75\n",
            "I meant a smaller number.\n",
            "Guess: 57\n",
            "I meant a greater number.\n",
            "Guess: 61\n",
            "I meant a greater number.\n",
            "Guess: 68\n",
            "I meant a smaller number.\n",
            "Guess: 64\n",
            "I meant a greater number.\n",
            "Guess: 66\n",
            "I meant a smaller number.\n",
            "Guess: 65\n",
            "You hit it in 8 attempts!\n"
          ]
        }
      ]
    },
    {
      "cell_type": "markdown",
      "source": [
        "The repetition condition is checked at the beginning of the loop body, but it should be at the end. That is why it was necessary to choose a suitable value for the _guess_ variable at the start. There is no way to test the condition at the end of the loop body in Python, but we can get around the problem, e.g. like this:"
      ],
      "metadata": {
        "id": "pIpmt0KnvlV5"
      }
    },
    {
      "cell_type": "code",
      "metadata": {
        "id": "TqSty9su0_gW"
      },
      "source": [
        "import random as rnd\n",
        "print('Number guessing game')\n",
        "lower = int(input('What should be the smallest possible value? '))\n",
        "upper = int(input('What should be the greatest possible value? '))\n",
        "number = rnd.randint(lower, upper)\n",
        "attempts = 0\n",
        "print(f'I thought of a number between {lower} and {upper}, guess!')\n",
        "while True: # The computer is forced to enter the loop\n",
        "  guess = int(input('Guess: '))\n",
        "  attempts += 1\n",
        "  if guess < number:\n",
        "    print('I meant a greater number.')\n",
        "  elif guess > number:\n",
        "    print('I meant a smaller number.')\n",
        "  else:\n",
        "    print('You hit it in', attempts, 'attempts!')\n",
        "    break # continues execution with the statement after the loop, if that exists"
      ],
      "execution_count": null,
      "outputs": []
    },
    {
      "cell_type": "markdown",
      "metadata": {
        "id": "F9e1XBsrCn7q"
      },
      "source": [
        "Determining the minimum, maximum and average of numbers\n",
        "\n",
        "Determining the maximum of two numbers"
      ]
    },
    {
      "cell_type": "code",
      "source": [
        "print('Enter two integers and we\\'ll tell you which one is greater.')\n",
        "first = int(input('1st: '))\n",
        "second = int(input('2nd: '))\n",
        "if first < second:\n",
        "  print(f'The second ({second}) is greater.')\n",
        "elif first > second:\n",
        "  print(f'The first ({first}) is greater.')\n",
        "else:\n",
        "  print('They are equal.')"
      ],
      "metadata": {
        "id": "foiN39qxovAx",
        "colab": {
          "base_uri": "https://localhost:8080/"
        },
        "outputId": "f2709cb0-9d7a-4979-807c-4b0bb2e60071"
      },
      "execution_count": 12,
      "outputs": [
        {
          "output_type": "stream",
          "name": "stdout",
          "text": [
            "Enter two integers and we'll tell you which one is bigger.\n",
            "1st: 2\n",
            "2nd: 1\n",
            "The first (2) is greater.\n"
          ]
        }
      ]
    },
    {
      "cell_type": "code",
      "source": [
        "print('Enter three integers and we\\'ll tell you which one is the greatest.')\n",
        "first = int(input('1st: '))\n",
        "second = int(input('2nd: '))\n",
        "third = int(input('3rd:'))\n",
        "if first < second:\n",
        "  if second < third:\n",
        "    print('The greatest value is', third)\n",
        "  else:\n",
        "    print('The greatest value is:', second)\n",
        "elif first < third:\n",
        "  print('The greatest value is:', third)\n",
        "else:\n",
        "  print('The greatest value is:', first)"
      ],
      "metadata": {
        "id": "spYojAHkphYe",
        "colab": {
          "base_uri": "https://localhost:8080/"
        },
        "outputId": "30f6ef3f-4d09-480a-d283-a6a533a6ceb3"
      },
      "execution_count": 13,
      "outputs": [
        {
          "output_type": "stream",
          "name": "stdout",
          "text": [
            "Enter three integers and we'll tell you which one is the greatest.\n",
            "1st: 1\n",
            "2nd: 3\n",
            "3rd:-2\n",
            "The greatest value is: 3\n"
          ]
        }
      ]
    },
    {
      "cell_type": "code",
      "source": [
        "print('Determining the maximum of integers')\n",
        "print('Enter non-negative integers! The program exits as soon as a negative value is entered.')\n",
        "max = number = float(input('Next number: ')) # assignment from right to left\n",
        "count = 0\n",
        "while number >= 0:\n",
        "  if number > max:\n",
        "    max = number\n",
        "  count += 1\n",
        "  number = float(input('Next number: '))\n",
        "if count > 0:\n",
        "  print(f'Maximum: {max}.')\n",
        "else:\n",
        "  print('You have not not provide numbers.')"
      ],
      "metadata": {
        "id": "geS-1WeRqk8z",
        "colab": {
          "base_uri": "https://localhost:8080/"
        },
        "outputId": "d41fae27-a183-4386-83c9-625873534f04"
      },
      "execution_count": 16,
      "outputs": [
        {
          "output_type": "stream",
          "name": "stdout",
          "text": [
            "Determining the maximum of integers\n",
            "Enter non-negative integers! The program exits as soon as a negative value is entered.\n",
            "Next number: 1\n",
            "Next number: 7\n",
            "Next number: 3\n",
            "Next number: -1\n",
            "Maximum: 7.0.\n"
          ]
        }
      ]
    },
    {
      "cell_type": "code",
      "metadata": {
        "id": "vdHtGD0zIDPq",
        "colab": {
          "base_uri": "https://localhost:8080/"
        },
        "outputId": "c3ed79c1-8c8c-467d-9a74-5c063e607357"
      },
      "source": [
        "print('Determining the minimum, maximum and average of numbers')\n",
        "print('Enter non-negative integers! The program exits as soon as a negative value is entered.')\n",
        "min = max = number = float(input('Next number: '))\n",
        "count = 0\n",
        "sum = 0.\n",
        "while number >= 0:\n",
        "  if number < min:\n",
        "    min = number\n",
        "  elif number > max:\n",
        "    max = number\n",
        "  sum += number\n",
        "  count += 1\n",
        "  number = float(input('Next number: '))\n",
        "if count>0:\n",
        "  print(f'Minimum: {min}, maximum: {max}, average: {sum/count:.2f}')\n",
        "else:\n",
        "  print('You have not not provide numbers.')"
      ],
      "execution_count": 18,
      "outputs": [
        {
          "output_type": "stream",
          "name": "stdout",
          "text": [
            "Determining the minimum, maximum and average of numbers\n",
            "Enter non-negative integers! The program exits as soon as a negative value is entered.\n",
            "Next number: 1\n",
            "Next number: 2\n",
            "Next number: -1\n",
            "Minimum: 1.0, maximum: 2.0, average: 1.50\n"
          ]
        }
      ]
    },
    {
      "cell_type": "markdown",
      "metadata": {
        "id": "x5dXQTsgP7S5"
      },
      "source": [
        "Let's draw a circle of radius **R** on the screen from stars!"
      ]
    },
    {
      "cell_type": "code",
      "metadata": {
        "id": "bsOuRdaPLy6c",
        "colab": {
          "base_uri": "https://localhost:8080/"
        },
        "outputId": "08c1e023-65ad-48bc-e5ec-44ab69c3b77e"
      },
      "source": [
        "R = 5\n",
        "row = R\n",
        "while row >= -R:\n",
        "  col = -R\n",
        "  while col <= R:\n",
        "    if row**2 + col**2 <= R**2:\n",
        "      print('*', end='')\n",
        "    else:\n",
        "      print(' ', end='')\n",
        "    col += 1\n",
        "  print()\n",
        "  row -= 1"
      ],
      "execution_count": 19,
      "outputs": [
        {
          "output_type": "stream",
          "name": "stdout",
          "text": [
            "     *     \n",
            "  *******  \n",
            " ********* \n",
            " ********* \n",
            " ********* \n",
            "***********\n",
            " ********* \n",
            " ********* \n",
            " ********* \n",
            "  *******  \n",
            "     *     \n"
          ]
        }
      ]
    },
    {
      "cell_type": "markdown",
      "metadata": {
        "id": "Ix1UFPdEQHyI"
      },
      "source": [
        "The width and height of the characters are different on the screen, so the image will be distorted. We have to draw an [ellipse](https://en.wikipedia.org/wiki/Ellipse) to visually get a circle."
      ]
    },
    {
      "cell_type": "code",
      "metadata": {
        "id": "e43yylPHMzHI",
        "colab": {
          "base_uri": "https://localhost:8080/"
        },
        "outputId": "53fc05ae-4f6f-4888-9f98-511401de90a1"
      },
      "source": [
        "RR = 8\n",
        "RC = 15\n",
        "row = -RR\n",
        "while row <= RR:\n",
        "  col = -RC\n",
        "  while col <= RC:\n",
        "    if row**2/RR**2 + col**2/RC**2 <= 1:\n",
        "      print('*', end='')\n",
        "    else:\n",
        "      print(' ', end='')\n",
        "    col += 1\n",
        "  print()\n",
        "  row += 1"
      ],
      "execution_count": 21,
      "outputs": [
        {
          "output_type": "stream",
          "name": "stdout",
          "text": [
            "               *               \n",
            "        ***************        \n",
            "      *******************      \n",
            "    ***********************    \n",
            "   *************************   \n",
            "  ***************************  \n",
            " ***************************** \n",
            " ***************************** \n",
            "*******************************\n",
            " ***************************** \n",
            " ***************************** \n",
            "  ***************************  \n",
            "   *************************   \n",
            "    ***********************    \n",
            "      *******************      \n",
            "        ***************        \n",
            "               *               \n"
          ]
        }
      ]
    }
  ]
}