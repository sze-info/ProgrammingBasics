{
  "nbformat": 4,
  "nbformat_minor": 0,
  "metadata": {
    "colab": {
      "provenance": []
    },
    "kernelspec": {
      "name": "python3",
      "display_name": "Python 3"
    },
    "language_info": {
      "name": "python"
    }
  },
  "cells": [
    {
      "cell_type": "markdown",
      "source": [
        "# Functions\n",
        "\n",
        "Drawing an [ellipse](https://en.wikipedia.org/wiki/Ellipse) (reminder)"
      ],
      "metadata": {
        "id": "0XOTPi1T-WNu"
      }
    },
    {
      "cell_type": "code",
      "execution_count": null,
      "metadata": {
        "colab": {
          "base_uri": "https://localhost:8080/"
        },
        "id": "R9NUsRoj-AXb",
        "outputId": "797c68c6-07ab-4021-a8b1-490ec972879a"
      },
      "outputs": [
        {
          "output_type": "stream",
          "name": "stdout",
          "text": [
            "               *               \n",
            "        ***************        \n",
            "      *******************      \n",
            "    ***********************    \n",
            "   *************************   \n",
            "  ***************************  \n",
            " ***************************** \n",
            " ***************************** \n",
            "*******************************\n",
            " ***************************** \n",
            " ***************************** \n",
            "  ***************************  \n",
            "   *************************   \n",
            "    ***********************    \n",
            "      *******************      \n",
            "        ***************        \n",
            "               *               \n"
          ]
        }
      ],
      "source": [
        "RR = 8\n",
        "RC = 15\n",
        "row = -RR\n",
        "while row <= RR:\n",
        "  col = -RC\n",
        "  while col <= RC:\n",
        "    if row**2/RR**2 + col**2/RC**2 <= 1:\n",
        "      print('*', end='')\n",
        "    else:\n",
        "      print(' ', end='')\n",
        "    col += 1\n",
        "  print()\n",
        "  row += 1"
      ]
    },
    {
      "cell_type": "markdown",
      "source": [
        "If I want to draw two ellipses, I have to repeat the code:"
      ],
      "metadata": {
        "id": "r268b8Af_tz4"
      }
    },
    {
      "cell_type": "code",
      "source": [
        "RR = 8  # semi minor-axis\n",
        "RC = 15 # semi major-axis\n",
        "row = -RR\n",
        "while row <= RR:\n",
        "  col = -RC\n",
        "  while col <= RC:\n",
        "    if row**2/RR**2 + col**2/RC**2 <= 1:\n",
        "      print('*', end='')\n",
        "    else:\n",
        "      print(' ', end='')\n",
        "    col += 1\n",
        "  print()\n",
        "  row += 1\n",
        "\n",
        "RR = 4\n",
        "RC = 8\n",
        "row = -RR\n",
        "while row <= RR:\n",
        "  col = -RC\n",
        "  while col <= RC:\n",
        "    if row**2/RR**2 + col**2/RC**2 <= 1:\n",
        "      print('*', end='')\n",
        "    else:\n",
        "      print(' ', end='')\n",
        "    col += 1\n",
        "  print()\n",
        "  row += 1"
      ],
      "metadata": {
        "colab": {
          "base_uri": "https://localhost:8080/"
        },
        "id": "saVN0WvO_xoS",
        "outputId": "417e01fe-d428-4a0f-8a04-2f7a3705235a"
      },
      "execution_count": null,
      "outputs": [
        {
          "output_type": "stream",
          "name": "stdout",
          "text": [
            "               *               \n",
            "        ***************        \n",
            "      *******************      \n",
            "    ***********************    \n",
            "   *************************   \n",
            "  ***************************  \n",
            " ***************************** \n",
            " ***************************** \n",
            "*******************************\n",
            " ***************************** \n",
            " ***************************** \n",
            "  ***************************  \n",
            "   *************************   \n",
            "    ***********************    \n",
            "      *******************      \n",
            "        ***************        \n",
            "               *               \n",
            "        *        \n",
            "   ***********   \n",
            "  *************  \n",
            " *************** \n",
            "*****************\n",
            " *************** \n",
            "  *************  \n",
            "   ***********   \n",
            "        *        \n"
          ]
        }
      ]
    },
    {
      "cell_type": "markdown",
      "source": [
        "This is not an elegant solution:\n",
        "\n",
        "- the code is very long, I use it unnecessarily to fill the machine's memory\n",
        "- if it is found to be faulty, all repeated occurrences must be corrected\n",
        "\n",
        "The function is a named unit of data and instructions, the operation of which can be modified by parameterization, can provide a value and/or can trigger *side effects* (e.g. print to the screen).\n",
        "\n",
        "It helps to break down and modularize our program into smaller units. This makes it easier to see and understand, and can even reduce its size.\n",
        "\n",
        "With the help of functions, we can write a program section only once and use it (call/invoke) several times. In addition, the operation of the function can be parameterized, i.e. it is easy to e.g. draw ellipses of different sizes.\n",
        "\n",
        "Define a function: with the *def* keyword, the parameters are enclosed in a pair of round brackets:\n",
        "\n",
        "- The parameters included in the definition of the function are the *(formal) parameters*. We can work with these within the function as with any variable.\n",
        "- When calling the function, the *current parameters* (arguments, args) are included.\n",
        "\n",
        "The names of the formal parameters and arguments do not have to match, in fact, the arguments are often not variables in the first place (constants/literals), they do not even have names."
      ],
      "metadata": {
        "id": "p1acXmXLAix7"
      }
    },
    {
      "cell_type": "code",
      "source": [
        "def ellipse(rr, rc): # definition of a function: the def keyword, unique identifier (the name of the fn.), parameters \n",
        "  row = -rr          # This is where the sequence of data and operations begins, i.e. the body of the function\n",
        "  while row <= rr:\n",
        "    col = -rc\n",
        "    while col <= rc:\n",
        "      if row**2/rr**2 + col**2/rc**2 <= 1:\n",
        "        print('*', end='')\n",
        "      else:\n",
        "        print(' ', end='')\n",
        "      col += 1\n",
        "    print()\n",
        "    row += 1\n",
        "\n",
        "ellipse(8, 15) # 1st call of the function with arguments 8 and 15, i.e. with two literals\n",
        "ellipse(4, 8)  # 2nd invocation of the fn."
      ],
      "metadata": {
        "colab": {
          "base_uri": "https://localhost:8080/"
        },
        "id": "4x3gCEmGBkDI",
        "outputId": "6aaf7a48-dfd9-48df-805e-f9fc491e38a6"
      },
      "execution_count": null,
      "outputs": [
        {
          "output_type": "stream",
          "name": "stdout",
          "text": [
            "               *               \n",
            "        ***************        \n",
            "      *******************      \n",
            "    ***********************    \n",
            "   *************************   \n",
            "  ***************************  \n",
            " ***************************** \n",
            " ***************************** \n",
            "*******************************\n",
            " ***************************** \n",
            " ***************************** \n",
            "  ***************************  \n",
            "   *************************   \n",
            "    ***********************    \n",
            "      *******************      \n",
            "        ***************        \n",
            "               *               \n",
            "        *        \n",
            "   ***********   \n",
            "  *************  \n",
            " *************** \n",
            "*****************\n",
            " *************** \n",
            "  *************  \n",
            "   ***********   \n",
            "        *        \n"
          ]
        }
      ]
    },
    {
      "cell_type": "markdown",
      "source": [
        "### SELF TEST\n",
        "\n",
        "> Write a function that draws a filled rectangle on the screen. The two parameters are the width and height of the rectangle measured in characters.\n",
        "Call this function twice to draw rectangles of different sizes on the screen. "
      ],
      "metadata": {
        "id": "CPjgbpUcKRh7"
      }
    },
    {
      "cell_type": "markdown",
      "source": [
        "The purpose of a function is not only to generate a side effect, but also to produce a value. For example, knowing the length of two sides of a rectangle, it can calculate its perimeter:"
      ],
      "metadata": {
        "id": "fIk1nEp0DQR_"
      }
    },
    {
      "cell_type": "code",
      "source": [
        "def rectanglePerimeter(a, b):\n",
        "  return 2 * (a + b)\n",
        "\n",
        "print(rectanglePerimeter(2, 3))\n",
        "print(rectanglePerimeter(2.5, 4))"
      ],
      "metadata": {
        "colab": {
          "base_uri": "https://localhost:8080/"
        },
        "id": "cY0fnB0ZDU15",
        "outputId": "43e0838e-fb75-490b-9063-06cdb28f283f"
      },
      "execution_count": null,
      "outputs": [
        {
          "output_type": "stream",
          "name": "stdout",
          "text": [
            "10\n",
            "13.0\n"
          ]
        }
      ]
    },
    {
      "cell_type": "markdown",
      "source": [
        "The return value is determined by the expression following the *return* keyword. Return also ends the execution of the function and returns control to the caller of the function. Several returns can be included in a function.\n",
        "\n",
        "Task: determine whether a string can formally be considered a Neptun code! (6 characters long, can only consist of alphanumeric characters.)"
      ],
      "metadata": {
        "id": "HD-9ysrBDoBC"
      }
    },
    {
      "cell_type": "code",
      "source": [
        "def isNeptun(code):\n",
        "  if len(code) != 6:\n",
        "    return False\n",
        "  for char in code:\n",
        "    if not (char.isdigit() or char.isalpha()):\n",
        "      return False\n",
        "  return True\n",
        "\n",
        "print(isNeptun('Abc123'))\n",
        "print(isNeptun('1a'))\n",
        "print(isNeptun('1a2b3c4d'))\n",
        "print(isNeptun('1a+!3c'))"
      ],
      "metadata": {
        "colab": {
          "base_uri": "https://localhost:8080/"
        },
        "id": "5AmTX6OcD0dH",
        "outputId": "550692d6-e884-497b-9484-2c619ba86a00"
      },
      "execution_count": null,
      "outputs": [
        {
          "output_type": "stream",
          "name": "stdout",
          "text": [
            "True\n",
            "False\n",
            "False\n",
            "False\n"
          ]
        }
      ]
    },
    {
      "cell_type": "markdown",
      "source": [
        "Python can also return multiple values at once with a single return."
      ],
      "metadata": {
        "id": "Ijz7E3nbEFVu"
      }
    },
    {
      "cell_type": "code",
      "source": [
        "def rectangle(a, b):\n",
        "  perimeter = 2 * (a + b)\n",
        "  area = a * b\n",
        "  return perimeter, area\n",
        "\n",
        "p, a = rectangle(2, 3)\n",
        "print(f'The perimeter of the rectangle is {p}, it\\'s area is {a}.')"
      ],
      "metadata": {
        "colab": {
          "base_uri": "https://localhost:8080/"
        },
        "id": "RnMtxeB8EIBd",
        "outputId": "790bc540-8813-4b65-96ce-011cb75d8bc6"
      },
      "execution_count": null,
      "outputs": [
        {
          "output_type": "stream",
          "name": "stdout",
          "text": [
            "The perimeter of the rectangle is 10, it's area is 6.\n"
          ]
        }
      ]
    },
    {
      "cell_type": "markdown",
      "source": [
        "It actually returns a single tuple and then unpacks it:"
      ],
      "metadata": {
        "id": "mYfQgJGDElBU"
      }
    },
    {
      "cell_type": "code",
      "source": [
        "result = rectangle(2, 3)\n",
        "print(result)\n",
        "print(type(result))"
      ],
      "metadata": {
        "colab": {
          "base_uri": "https://localhost:8080/"
        },
        "id": "Y1F8zHa7Enm4",
        "outputId": "f945b3f1-ddba-48c6-f39a-0a84cb03f64c"
      },
      "execution_count": null,
      "outputs": [
        {
          "output_type": "stream",
          "name": "stdout",
          "text": [
            "(10, 6)\n",
            "<class 'tuple'>\n"
          ]
        }
      ]
    },
    {
      "cell_type": "markdown",
      "source": [
        "### SELF TEST\n",
        "\n",
        "> Let's say we want to generate the thumbnail of an image so that its aspect ratio is the same as the original image. Create a function that receives the dimensions of the original image (width, height) and the height of the thumbnail, and the return value is the width of the latter, rounded to the nearest integer!"
      ],
      "metadata": {
        "id": "veDgt51-L82K"
      }
    },
    {
      "cell_type": "markdown",
      "source": [
        "The function must be given exactly as many arguments when called as the number of parameters in the definition."
      ],
      "metadata": {
        "id": "o9qzGV2lE4hl"
      }
    },
    {
      "cell_type": "code",
      "source": [
        "ellipse(3)"
      ],
      "metadata": {
        "colab": {
          "base_uri": "https://localhost:8080/",
          "height": 174
        },
        "id": "tmyilCnzE9am",
        "outputId": "70c6e9a9-d9ce-4a8c-effe-a80c3e3b7e12"
      },
      "execution_count": null,
      "outputs": [
        {
          "output_type": "error",
          "ename": "TypeError",
          "evalue": "ignored",
          "traceback": [
            "\u001b[0;31m---------------------------------------------------------------------------\u001b[0m",
            "\u001b[0;31mTypeError\u001b[0m                                 Traceback (most recent call last)",
            "\u001b[0;32m<ipython-input-9-a42c0ec713bf>\u001b[0m in \u001b[0;36m<module>\u001b[0;34m\u001b[0m\n\u001b[0;32m----> 1\u001b[0;31m \u001b[0mellipse\u001b[0m\u001b[0;34m(\u001b[0m\u001b[0;36m3\u001b[0m\u001b[0;34m)\u001b[0m\u001b[0;34m\u001b[0m\u001b[0;34m\u001b[0m\u001b[0m\n\u001b[0m",
            "\u001b[0;31mTypeError\u001b[0m: ellipse() missing 1 required positional argument: 'rc'"
          ]
        }
      ]
    },
    {
      "cell_type": "code",
      "source": [
        "ellipse(1, 2, 3)"
      ],
      "metadata": {
        "colab": {
          "base_uri": "https://localhost:8080/",
          "height": 174
        },
        "id": "d7ATu6bMFCkC",
        "outputId": "ceed6bfd-287f-454e-d1dc-bc60e50b0e5a"
      },
      "execution_count": null,
      "outputs": [
        {
          "output_type": "error",
          "ename": "TypeError",
          "evalue": "ignored",
          "traceback": [
            "\u001b[0;31m---------------------------------------------------------------------------\u001b[0m",
            "\u001b[0;31mTypeError\u001b[0m                                 Traceback (most recent call last)",
            "\u001b[0;32m<ipython-input-10-6e190fe57690>\u001b[0m in \u001b[0;36m<module>\u001b[0;34m\u001b[0m\n\u001b[0;32m----> 1\u001b[0;31m \u001b[0mellipse\u001b[0m\u001b[0;34m(\u001b[0m\u001b[0;36m1\u001b[0m\u001b[0;34m,\u001b[0m \u001b[0;36m2\u001b[0m\u001b[0;34m,\u001b[0m \u001b[0;36m3\u001b[0m\u001b[0;34m)\u001b[0m\u001b[0;34m\u001b[0m\u001b[0;34m\u001b[0m\u001b[0m\n\u001b[0m",
            "\u001b[0;31mTypeError\u001b[0m: ellipse() takes 2 positional arguments but 3 were given"
          ]
        }
      ]
    },
    {
      "cell_type": "markdown",
      "source": [
        "Sometimes, however, certain default parameter values can make sense, e.g. if we want to draw a circle instead of a general ellipse, it is unnecessary to specify radii in both directions (semi major-axis, semi minor-axis)."
      ],
      "metadata": {
        "id": "Kg2R32DvFPBA"
      }
    },
    {
      "cell_type": "code",
      "source": [
        "def ellipse(rr, rc=None): # the default value is None, which cannot be used meaningfully; from here we know that the value of the two radii should be the same\n",
        "  rc = rr if rc is None else rc\n",
        "  row = -rr\n",
        "  while row <= rr:\n",
        "    col = -rc\n",
        "    while col <= rc:\n",
        "      if row**2/rr**2 + col**2/rc**2 <= 1:\n",
        "        print('*', end='')\n",
        "      else:\n",
        "        print(' ', end='')\n",
        "      col += 1\n",
        "    print()\n",
        "    row += 1\n",
        "\n",
        "ellipse(3)\n",
        "ellipse(3, 5)"
      ],
      "metadata": {
        "colab": {
          "base_uri": "https://localhost:8080/"
        },
        "id": "_fc9RPhWF5ld",
        "outputId": "48dc5825-2406-49d4-b5f1-a0012287202c"
      },
      "execution_count": null,
      "outputs": [
        {
          "output_type": "stream",
          "name": "stdout",
          "text": [
            "   *   \n",
            " ***** \n",
            " ***** \n",
            "*******\n",
            " ***** \n",
            " ***** \n",
            "   *   \n",
            "     *     \n",
            "  *******  \n",
            " ********* \n",
            "***********\n",
            " ********* \n",
            "  *******  \n",
            "     *     \n"
          ]
        }
      ]
    },
    {
      "cell_type": "markdown",
      "source": [
        "### SELF TEST\n",
        "\n",
        "> Create a function that returns some *terms* of an [*arithmetic progression*](https://en.wikipedia.org/wiki/Arithmetic_progression) (sequence) in a tuple! The parameters of the function are the value of the initial term (*a*), which defaults to 1, the difference of successive members (*d*), which also defaults to 1, and the number of terms (*n*), which defaults to 10."
      ],
      "metadata": {
        "id": "hm3QZ3zcPJT3"
      }
    },
    {
      "cell_type": "markdown",
      "source": [
        "Sometimes it is impossible to predict how many parameters will be needed (remember the print function). Let's create a function that provides the sum of all its arguments! In this case, an asterisk must be placed in front of the parameter, which means that it accepts all arguments in the tuple type (packing)."
      ],
      "metadata": {
        "id": "_Q50aiAbJUGw"
      }
    },
    {
      "cell_type": "code",
      "source": [
        "def summarize(*operands):\n",
        "  total = 0\n",
        "  for operand in operands:\n",
        "    total += operand\n",
        "  return total\n",
        "\n",
        "print(summarize(1, 2, 3))\n",
        "print(summarize(1, 2, 3, 4, 5))"
      ],
      "metadata": {
        "colab": {
          "base_uri": "https://localhost:8080/"
        },
        "id": "kHIRh9ynJfZi",
        "outputId": "56fb34d6-0fca-4369-886d-11bd86b02ebc"
      },
      "execution_count": null,
      "outputs": [
        {
          "output_type": "stream",
          "name": "stdout",
          "text": [
            "6\n",
            "15\n"
          ]
        }
      ]
    },
    {
      "cell_type": "markdown",
      "source": [
        "Of course, we could have made the function accept a list/tuple by default:"
      ],
      "metadata": {
        "id": "2WAmGsTjJ15V"
      }
    },
    {
      "cell_type": "code",
      "source": [
        "def sumList(operands):\n",
        "  total = 0\n",
        "  for operand in operands:\n",
        "    total += operand\n",
        "  return total\n",
        "\n",
        "print(sumList((1, 2, 3)))        # tuple\n",
        "print(sumList([1, 2, 3, 4, 5]))  # list\n",
        "\n",
        "*numbers, = 1, 2, 3              # packing\n",
        "print(sumList(numbers))"
      ],
      "metadata": {
        "colab": {
          "base_uri": "https://localhost:8080/"
        },
        "id": "Bb2pNeO9J48g",
        "outputId": "7a46fa43-7726-4f89-ee5f-1345f99fcfe9"
      },
      "execution_count": null,
      "outputs": [
        {
          "output_type": "stream",
          "name": "stdout",
          "text": [
            "6\n",
            "15\n",
            "6\n"
          ]
        }
      ]
    },
    {
      "cell_type": "markdown",
      "source": [
        "### SELF TEST\n",
        "\n",
        "> Create a function that calculates how big the thumbnails of images would be if we wanted to resize them all by a given amount (percentage). This ratio should be the first parameter of the function, which can be followed by any number of sequences (tuple, list) containing the width and height of each image. The return value should be a (two-dimensional) sequence containing the dimensions of the thumbnails."
      ],
      "metadata": {
        "id": "N5UWuR_ERtDF"
      }
    },
    {
      "cell_type": "markdown",
      "source": [
        "The order in which the arguments are specified is generally important. For example the order of radii matters when drawing an ellipse."
      ],
      "metadata": {
        "id": "NVr9PJ--KTER"
      }
    },
    {
      "cell_type": "code",
      "source": [
        "ellipse(5, 10)\n",
        "ellipse(10, 5)"
      ],
      "metadata": {
        "colab": {
          "base_uri": "https://localhost:8080/"
        },
        "id": "8j1ujOR2LKL-",
        "outputId": "aeca64f8-ad5b-4a0d-b5fa-c7dc284a09f6"
      },
      "execution_count": null,
      "outputs": [
        {
          "output_type": "stream",
          "name": "stdout",
          "text": [
            "          *          \n",
            "    *************    \n",
            "  *****************  \n",
            " ******************* \n",
            " ******************* \n",
            "*********************\n",
            " ******************* \n",
            " ******************* \n",
            "  *****************  \n",
            "    *************    \n",
            "          *          \n",
            "     *     \n",
            "   *****   \n",
            "  *******  \n",
            "  *******  \n",
            " ********* \n",
            " ********* \n",
            " ********* \n",
            " ********* \n",
            " ********* \n",
            " ********* \n",
            "***********\n",
            " ********* \n",
            " ********* \n",
            " ********* \n",
            " ********* \n",
            " ********* \n",
            " ********* \n",
            "  *******  \n",
            "  *******  \n",
            "   *****   \n",
            "     *     \n"
          ]
        }
      ]
    },
    {
      "cell_type": "markdown",
      "source": [
        "When a function receives many parameters, it is easy to confuse the order of arguments, but fortunately Python has a solution for this: when calling, you can specify which value you want to assign to which parameter (*keyword arguments*). Positional arguments are not allowed to follow keyword arguments."
      ],
      "metadata": {
        "id": "7EamwdmHLUyV"
      }
    },
    {
      "cell_type": "code",
      "source": [
        "ellipse(rr=5, rc=10)\n",
        "ellipse(rc=10, rr=5)"
      ],
      "metadata": {
        "colab": {
          "base_uri": "https://localhost:8080/"
        },
        "id": "M-STv0ySLfSv",
        "outputId": "9777dfee-065b-44c6-9834-24f78c1afa3f"
      },
      "execution_count": null,
      "outputs": [
        {
          "output_type": "stream",
          "name": "stdout",
          "text": [
            "          *          \n",
            "    *************    \n",
            "  *****************  \n",
            " ******************* \n",
            " ******************* \n",
            "*********************\n",
            " ******************* \n",
            " ******************* \n",
            "  *****************  \n",
            "    *************    \n",
            "          *          \n",
            "          *          \n",
            "    *************    \n",
            "  *****************  \n",
            " ******************* \n",
            " ******************* \n",
            "*********************\n",
            " ******************* \n",
            " ******************* \n",
            "  *****************  \n",
            "    *************    \n",
            "          *          \n"
          ]
        }
      ]
    },
    {
      "cell_type": "markdown",
      "source": [
        "Method of passing parameters: according to *assignment*\n",
        "\n",
        "Task: write a function that swaps the values of two variables!"
      ],
      "metadata": {
        "id": "8qIH4SX7Luc5"
      }
    },
    {
      "cell_type": "code",
      "source": [
        "x = 2\n",
        "y = 5\n",
        "\n",
        "def swap(a, b):\n",
        "  a, b = b, a\n",
        "\n",
        "swap(x, y)\n",
        "print(f'x={x}, y={y}') # Ooops!"
      ],
      "metadata": {
        "colab": {
          "base_uri": "https://localhost:8080/"
        },
        "id": "vf-kZLVEMC3X",
        "outputId": "54ce73c1-0e10-46f1-83ea-42509cc3ad51"
      },
      "execution_count": null,
      "outputs": [
        {
          "output_type": "stream",
          "name": "stdout",
          "text": [
            "x=2, y=5\n"
          ]
        }
      ]
    },
    {
      "cell_type": "markdown",
      "source": [
        "What happened in the background?"
      ],
      "metadata": {
        "id": "8SR_moExMOj-"
      }
    },
    {
      "cell_type": "code",
      "source": [
        "x = 2\n",
        "y = 5\n",
        "\n",
        "def swap(a, b):\n",
        "  print(f'id of a: {id(a)}, id of b: {id(b)}')\n",
        "  a, b = b, a\n",
        "  print(f'id of a: {id(a)}, id of b: {id(b)}')\n",
        "\n",
        "print(f'id of x: {id(x)}, id of y: {id(y)}')\n",
        "swap(x, y)\n",
        "print(f'id of x: {id(x)}, id of y: {id(y)}')\n",
        "print(f'x={x}, y={y}')"
      ],
      "metadata": {
        "colab": {
          "base_uri": "https://localhost:8080/"
        },
        "id": "pRlU82aZMRvS",
        "outputId": "28d642c6-a45e-41d4-9643-d8757a4477e4"
      },
      "execution_count": null,
      "outputs": [
        {
          "output_type": "stream",
          "name": "stdout",
          "text": [
            "id of x: 139869280532816, id of y: 139869280532912\n",
            "id of a: 139869280532816, id of b: 139869280532912\n",
            "id of a: 139869280532912, id of b: 139869280532816\n",
            "id of x: 139869280532816, id of y: 139869280532912\n",
            "x=2, y=5\n"
          ]
        }
      ]
    },
    {
      "cell_type": "markdown",
      "source": [
        "1)\n",
        "> x --> 2\n",
        "\n",
        "> y --> 5\n",
        "\n",
        "2) \n",
        "> x --> 2 <-- a\n",
        "\n",
        "> y --> 5 <-- b\n",
        "\n",
        "3)\n",
        "> x --> 2 <-- b\n",
        "\n",
        "> y --> 5 <-- a\n",
        "\n",
        "4)\n",
        "> x --> 2\n",
        "\n",
        "> y --> 5"
      ],
      "metadata": {
        "id": "-SZIGPc2Msdy"
      }
    },
    {
      "cell_type": "code",
      "source": [
        "x = 2\n",
        "\n",
        "def cubic(a):\n",
        "  print(f'id of a: {id(a)}')\n",
        "  a = a**3\n",
        "  print(f'id of a: {id(a)}')\n",
        "\n",
        "print(f'id of x: {id(x)}')\n",
        "cubic(x)\n",
        "print(f'id of x: {id(x)}')\n",
        "print(x)"
      ],
      "metadata": {
        "colab": {
          "base_uri": "https://localhost:8080/"
        },
        "id": "dlYVMrGiNLYc",
        "outputId": "28d4f788-b3ca-4a7a-cc3e-25d52b6ab8cf"
      },
      "execution_count": null,
      "outputs": [
        {
          "output_type": "stream",
          "name": "stdout",
          "text": [
            "id of x: 139869280532816\n",
            "id of a: 139869280532816\n",
            "id of a: 139869280533008\n",
            "id of x: 139869280532816\n",
            "2\n"
          ]
        }
      ]
    },
    {
      "cell_type": "markdown",
      "source": [
        "1)\n",
        "> x --> 2\n",
        "\n",
        "2)\n",
        "> x --> 2 <-- a\n",
        "\n",
        "3)\n",
        "> x --> 2\n",
        "\n",
        "> a --> 8\n",
        "\n",
        "4)\n",
        "> x --> 2"
      ],
      "metadata": {
        "id": "VyvD9g7sNdOI"
      }
    },
    {
      "cell_type": "markdown",
      "source": [
        "Variables defined in the _global_ scope (outside of any functions) can be accessed (read) in functions."
      ],
      "metadata": {
        "id": "0E5aQNW1UWrt"
      }
    },
    {
      "cell_type": "code",
      "source": [
        "x = 2\n",
        "\n",
        "def myFunc():\n",
        "  print(x)\n",
        "\n",
        "myFunc()"
      ],
      "metadata": {
        "colab": {
          "base_uri": "https://localhost:8080/"
        },
        "id": "CjRKUvVCUMOl",
        "outputId": "7c9e0db5-8ff8-4d87-a343-d6838abb8165"
      },
      "execution_count": 1,
      "outputs": [
        {
          "output_type": "stream",
          "name": "stdout",
          "text": [
            "2\n"
          ]
        }
      ]
    },
    {
      "cell_type": "code",
      "source": [
        "x = 2\n",
        "\n",
        "def cubic():\n",
        "  x = x**3 # it does not reach the global variable defined outside the function\n",
        "\n",
        "cubic()\n",
        "print(x)"
      ],
      "metadata": {
        "colab": {
          "base_uri": "https://localhost:8080/",
          "height": 358
        },
        "id": "JSAYITJwNi-e",
        "outputId": "610cc0c7-a1bc-40d2-deb1-5cde4d61f05d"
      },
      "execution_count": null,
      "outputs": [
        {
          "output_type": "error",
          "ename": "UnboundLocalError",
          "evalue": "ignored",
          "traceback": [
            "\u001b[0;31m---------------------------------------------------------------------------\u001b[0m",
            "\u001b[0;31mUnboundLocalError\u001b[0m                         Traceback (most recent call last)",
            "\u001b[0;32m<ipython-input-20-dfa0956dd020>\u001b[0m in \u001b[0;36m<module>\u001b[0;34m\u001b[0m\n\u001b[1;32m      4\u001b[0m   \u001b[0mx\u001b[0m \u001b[0;34m=\u001b[0m \u001b[0mx\u001b[0m\u001b[0;34m**\u001b[0m\u001b[0;36m3\u001b[0m \u001b[0;31m# it does not reach the global variable defined outside the function\u001b[0m\u001b[0;34m\u001b[0m\u001b[0;34m\u001b[0m\u001b[0m\n\u001b[1;32m      5\u001b[0m \u001b[0;34m\u001b[0m\u001b[0m\n\u001b[0;32m----> 6\u001b[0;31m \u001b[0mcubic\u001b[0m\u001b[0;34m(\u001b[0m\u001b[0;34m)\u001b[0m\u001b[0;34m\u001b[0m\u001b[0;34m\u001b[0m\u001b[0m\n\u001b[0m\u001b[1;32m      7\u001b[0m \u001b[0mprint\u001b[0m\u001b[0;34m(\u001b[0m\u001b[0mx\u001b[0m\u001b[0;34m)\u001b[0m\u001b[0;34m\u001b[0m\u001b[0;34m\u001b[0m\u001b[0m\n",
            "\u001b[0;32m<ipython-input-20-dfa0956dd020>\u001b[0m in \u001b[0;36mcubic\u001b[0;34m()\u001b[0m\n\u001b[1;32m      2\u001b[0m \u001b[0;34m\u001b[0m\u001b[0m\n\u001b[1;32m      3\u001b[0m \u001b[0;32mdef\u001b[0m \u001b[0mcubic\u001b[0m\u001b[0;34m(\u001b[0m\u001b[0;34m)\u001b[0m\u001b[0;34m:\u001b[0m\u001b[0;34m\u001b[0m\u001b[0;34m\u001b[0m\u001b[0m\n\u001b[0;32m----> 4\u001b[0;31m   \u001b[0mx\u001b[0m \u001b[0;34m=\u001b[0m \u001b[0mx\u001b[0m\u001b[0;34m**\u001b[0m\u001b[0;36m3\u001b[0m \u001b[0;31m# it does not reach the global variable defined outside the function\u001b[0m\u001b[0;34m\u001b[0m\u001b[0;34m\u001b[0m\u001b[0m\n\u001b[0m\u001b[1;32m      5\u001b[0m \u001b[0;34m\u001b[0m\u001b[0m\n\u001b[1;32m      6\u001b[0m \u001b[0mcubic\u001b[0m\u001b[0;34m(\u001b[0m\u001b[0;34m)\u001b[0m\u001b[0;34m\u001b[0m\u001b[0;34m\u001b[0m\u001b[0m\n",
            "\u001b[0;31mUnboundLocalError\u001b[0m: local variable 'x' referenced before assignment"
          ]
        }
      ]
    },
    {
      "cell_type": "markdown",
      "source": [
        "The statement \"x = x**3\" in _cubic_ function tries to create a new local variable instead of modifying the existing global variable. But the old value is not set, thus the new value of _x_ cannot be calculated 😞\n",
        "\n",
        "What are the global and local variables for the function?"
      ],
      "metadata": {
        "id": "D0NnrBBqN4ST"
      }
    },
    {
      "cell_type": "code",
      "source": [
        "x = 2\n",
        "\n",
        "def cubic(a):\n",
        "  a = a**3\n",
        "  print(f'Local variables: {locals()}')\n",
        "\n",
        "print(f'Global variables: {globals()}')\n",
        "cubic(x)\n",
        "print(x)"
      ],
      "metadata": {
        "colab": {
          "base_uri": "https://localhost:8080/"
        },
        "id": "noELV8LXN9Sx",
        "outputId": "9fe418b8-a66d-496d-b89f-cec45c67dce3"
      },
      "execution_count": null,
      "outputs": [
        {
          "output_type": "stream",
          "name": "stdout",
          "text": [
            "Global variables: {'__name__': '__main__', '__doc__': 'Automatically created module for IPython interactive environment', '__package__': None, '__loader__': None, '__spec__': None, '__builtin__': <module 'builtins' (built-in)>, '__builtins__': <module 'builtins' (built-in)>, '_ih': ['', \"RR = 8\\nRC = 15\\nrow = -RR\\nwhile row <= RR:\\n  col = -RC\\n  while col <= RC:\\n    if row**2/RR**2 + col**2/RC**2 <= 1:\\n      print('*', end='')\\n    else:\\n      print(' ', end='')\\n    col += 1\\n  print()\\n  row += 1\", 'import platform\\nprint(platform.python_version())', \"RR = 8  # minor semi-axis\\nRC = 15 # major semi-axis\\nrow = -RR\\nwhile row <= RR:\\n  col = -RC\\n  while col <= RC:\\n    if row**2/RR**2 + col**2/RC**2 <= 1:\\n      print('*', end='')\\n    else:\\n      print(' ', end='')\\n    col += 1\\n  print()\\n  row += 1\\n\\nRR = 4\\nRC = 8\\nrow = -RR\\nwhile row <= RR:\\n  col = -RC\\n  while col <= RC:\\n    if row**2/RR**2 + col**2/RC**2 <= 1:\\n      print('*', end='')\\n    else:\\n      print(' ', end='')\\n    col += 1\\n  print()\\n  row += 1\", \"def ellipse(rr, rc):\\n  row = -rr\\n  while row <= rr:\\n    col = -rc\\n    while col <= rc:\\n      if row**2/rr**2 + col**2/rc**2 <= 1:\\n        print('*', end='')\\n      else:\\n        print(' ', end='')\\n      col += 1\\n    print()\\n    row += 1\\n\\nellipse(8, 15)\\nellipse(4, 8)\", 'def rectanglePerimeter(a, b):\\n  return 2 * (a + b)\\n\\nprint(rectanglePerimeter(2, 3))\\nprint(rectanglePerimeter(2.5, 4))', \"def isNeptun(code):\\n  if len(code) != 6:\\n    return False\\n  for char in code:\\n    if not (char.isdigit() or char.isalpha()):\\n      return False\\n  return True\\n\\nprint(isNeptun('Abc123'))\\nprint(isNeptun('1a'))\\nprint(isNeptun('1a2b3c4d'))\\nprint(isNeptun('1a+!3c'))\", \"def rectangle(a, b):\\n  perimeter = 2 * (a + b)\\n  area = a * b\\n  return perimeter, area\\n\\np, a = rectangle(2, 3)\\nprint(f'The perimeter of the rectangle is {p}, it\\\\'s area is {a}.')\", 'result = rectangle(2, 3)\\nprint(result)\\nprint(type(result))', 'ellipse(3)', 'ellipse(1, 2, 3)', \"def ellipse(rr, rc=None): # default value is None, which cannot be used meaningfully; from here we know that the value of the two radii should be the same\\n  row = -rr\\n  while row <= rr:\\n    col = -rc\\n    while col <= rc:\\n      if row**2/rr**2 + col**2/rc**2 <= 1:\\n        print('*', end='')\\n      else:\\n        print(' ', end='')\\n      col += 1\\n    print()\\n    row += 1\\n\\nellipse(3)\\nellipse(3, 5)\", \"def ellipse(rr, rc=None): # default value is None, which cannot be used meaningfully; from here we know that the value of the two radii should be the same\\n  rc = rr if rc is None else rc\\n  row = -rr\\n  while row <= rr:\\n    col = -rc\\n    while col <= rc:\\n      if row**2/rr**2 + col**2/rc**2 <= 1:\\n        print('*', end='')\\n      else:\\n        print(' ', end='')\\n      col += 1\\n    print()\\n    row += 1\\n\\nellipse(3)\\nellipse(3, 5)\", 'def summarize(*operands):\\n  total = 0\\n  for operand in operands:\\n    total += operand\\n  return total\\n\\nprint(summarize(1, 2, 3))\\nprint(summarize(1, 2, 3, 4, 5))', 'def sumList(operands):\\n  total = 0\\n  for operand in operands:\\n    total += operand\\n  return total\\n\\nprint(sumList((1, 2, 3)))        # tuple\\nprint(sumList([1, 2, 3, 4, 5]))  # list\\n\\n*numbers, = 1, 2, 3              # packing\\nprint(sumList(numbers))', 'ellipse(5, 10)\\nellipse(10, 5)', 'ellipse(rr=5, rc=10)\\nellipse(rc=10, rr=5)', \"x = 2\\ny = 5\\n\\ndef swap(a, b):\\n  a, b = b, a\\n\\nswap(x, y)\\nprint(f'x={x}, y={y}') # Ooops!\", \"x = 2\\ny = 5\\n\\ndef swap(a, b):\\n  print(f'id of a: {id(a)}, id of b: {id(b)}')\\n  a, b = b, a\\n  print(f'id of a: {id(a)}, id of b: {id(b)}')\\n\\nprint(f'id of x: {id(x)}, id of y: {id(y)}')\\nswap(x, y)\\nprint(f'id of x: {id(x)}, id of y: {id(y)}')\\nprint(f'x={x}, y={y}')\", \"x = 2\\n\\ndef cubic(a):\\n  print(f'id of a: {id(a)}')\\n  a = a**3\\n  print(f'id of a: {id(a)}')\\n\\nprint(f'id of x: {id(x)}')\\ncubic(x)\\nprint(f'id of x: {id(x)}')\\nprint(x)\", 'x = 2\\n\\ndef cubic():\\n  x = x**3 # it does not reach the global variable defined outside the function\\n\\ncubic()\\nprint(x)', \"x = 2\\n\\ndef cubic(a):\\n  a = a**3\\n  print(f'Local variables: {locals()}')\\n\\nprint(f'Global variables: {globals()}')\\ncubic(x)\\nprint(x)\"], '_oh': {}, '_dh': ['/content'], 'In': ['', \"RR = 8\\nRC = 15\\nrow = -RR\\nwhile row <= RR:\\n  col = -RC\\n  while col <= RC:\\n    if row**2/RR**2 + col**2/RC**2 <= 1:\\n      print('*', end='')\\n    else:\\n      print(' ', end='')\\n    col += 1\\n  print()\\n  row += 1\", 'import platform\\nprint(platform.python_version())', \"RR = 8  # minor semi-axis\\nRC = 15 # major semi-axis\\nrow = -RR\\nwhile row <= RR:\\n  col = -RC\\n  while col <= RC:\\n    if row**2/RR**2 + col**2/RC**2 <= 1:\\n      print('*', end='')\\n    else:\\n      print(' ', end='')\\n    col += 1\\n  print()\\n  row += 1\\n\\nRR = 4\\nRC = 8\\nrow = -RR\\nwhile row <= RR:\\n  col = -RC\\n  while col <= RC:\\n    if row**2/RR**2 + col**2/RC**2 <= 1:\\n      print('*', end='')\\n    else:\\n      print(' ', end='')\\n    col += 1\\n  print()\\n  row += 1\", \"def ellipse(rr, rc):\\n  row = -rr\\n  while row <= rr:\\n    col = -rc\\n    while col <= rc:\\n      if row**2/rr**2 + col**2/rc**2 <= 1:\\n        print('*', end='')\\n      else:\\n        print(' ', end='')\\n      col += 1\\n    print()\\n    row += 1\\n\\nellipse(8, 15)\\nellipse(4, 8)\", 'def rectanglePerimeter(a, b):\\n  return 2 * (a + b)\\n\\nprint(rectanglePerimeter(2, 3))\\nprint(rectanglePerimeter(2.5, 4))', \"def isNeptun(code):\\n  if len(code) != 6:\\n    return False\\n  for char in code:\\n    if not (char.isdigit() or char.isalpha()):\\n      return False\\n  return True\\n\\nprint(isNeptun('Abc123'))\\nprint(isNeptun('1a'))\\nprint(isNeptun('1a2b3c4d'))\\nprint(isNeptun('1a+!3c'))\", \"def rectangle(a, b):\\n  perimeter = 2 * (a + b)\\n  area = a * b\\n  return perimeter, area\\n\\np, a = rectangle(2, 3)\\nprint(f'The perimeter of the rectangle is {p}, it\\\\'s area is {a}.')\", 'result = rectangle(2, 3)\\nprint(result)\\nprint(type(result))', 'ellipse(3)', 'ellipse(1, 2, 3)', \"def ellipse(rr, rc=None): # default value is None, which cannot be used meaningfully; from here we know that the value of the two radii should be the same\\n  row = -rr\\n  while row <= rr:\\n    col = -rc\\n    while col <= rc:\\n      if row**2/rr**2 + col**2/rc**2 <= 1:\\n        print('*', end='')\\n      else:\\n        print(' ', end='')\\n      col += 1\\n    print()\\n    row += 1\\n\\nellipse(3)\\nellipse(3, 5)\", \"def ellipse(rr, rc=None): # default value is None, which cannot be used meaningfully; from here we know that the value of the two radii should be the same\\n  rc = rr if rc is None else rc\\n  row = -rr\\n  while row <= rr:\\n    col = -rc\\n    while col <= rc:\\n      if row**2/rr**2 + col**2/rc**2 <= 1:\\n        print('*', end='')\\n      else:\\n        print(' ', end='')\\n      col += 1\\n    print()\\n    row += 1\\n\\nellipse(3)\\nellipse(3, 5)\", 'def summarize(*operands):\\n  total = 0\\n  for operand in operands:\\n    total += operand\\n  return total\\n\\nprint(summarize(1, 2, 3))\\nprint(summarize(1, 2, 3, 4, 5))', 'def sumList(operands):\\n  total = 0\\n  for operand in operands:\\n    total += operand\\n  return total\\n\\nprint(sumList((1, 2, 3)))        # tuple\\nprint(sumList([1, 2, 3, 4, 5]))  # list\\n\\n*numbers, = 1, 2, 3              # packing\\nprint(sumList(numbers))', 'ellipse(5, 10)\\nellipse(10, 5)', 'ellipse(rr=5, rc=10)\\nellipse(rc=10, rr=5)', \"x = 2\\ny = 5\\n\\ndef swap(a, b):\\n  a, b = b, a\\n\\nswap(x, y)\\nprint(f'x={x}, y={y}') # Ooops!\", \"x = 2\\ny = 5\\n\\ndef swap(a, b):\\n  print(f'id of a: {id(a)}, id of b: {id(b)}')\\n  a, b = b, a\\n  print(f'id of a: {id(a)}, id of b: {id(b)}')\\n\\nprint(f'id of x: {id(x)}, id of y: {id(y)}')\\nswap(x, y)\\nprint(f'id of x: {id(x)}, id of y: {id(y)}')\\nprint(f'x={x}, y={y}')\", \"x = 2\\n\\ndef cubic(a):\\n  print(f'id of a: {id(a)}')\\n  a = a**3\\n  print(f'id of a: {id(a)}')\\n\\nprint(f'id of x: {id(x)}')\\ncubic(x)\\nprint(f'id of x: {id(x)}')\\nprint(x)\", 'x = 2\\n\\ndef cubic():\\n  x = x**3 # it does not reach the global variable defined outside the function\\n\\ncubic()\\nprint(x)', \"x = 2\\n\\ndef cubic(a):\\n  a = a**3\\n  print(f'Local variables: {locals()}')\\n\\nprint(f'Global variables: {globals()}')\\ncubic(x)\\nprint(x)\"], 'Out': {}, 'get_ipython': <bound method InteractiveShell.get_ipython of <google.colab._shell.Shell object at 0x7f35d752bb20>>, 'exit': <IPython.core.autocall.ZMQExitAutocall object at 0x7f35d4496b20>, 'quit': <IPython.core.autocall.ZMQExitAutocall object at 0x7f35d4496b20>, '_': '', '__': '', '___': '', '_i': 'x = 2\\n\\ndef cubic():\\n  x = x**3 # it does not reach the global variable defined outside the function\\n\\ncubic()\\nprint(x)', '_ii': \"x = 2\\n\\ndef cubic(a):\\n  print(f'id of a: {id(a)}')\\n  a = a**3\\n  print(f'id of a: {id(a)}')\\n\\nprint(f'id of x: {id(x)}')\\ncubic(x)\\nprint(f'id of x: {id(x)}')\\nprint(x)\", '_iii': \"x = 2\\ny = 5\\n\\ndef swap(a, b):\\n  print(f'id of a: {id(a)}, id of b: {id(b)}')\\n  a, b = b, a\\n  print(f'id of a: {id(a)}, id of b: {id(b)}')\\n\\nprint(f'id of x: {id(x)}, id of y: {id(y)}')\\nswap(x, y)\\nprint(f'id of x: {id(x)}, id of y: {id(y)}')\\nprint(f'x={x}, y={y}')\", '_i1': \"RR = 8\\nRC = 15\\nrow = -RR\\nwhile row <= RR:\\n  col = -RC\\n  while col <= RC:\\n    if row**2/RR**2 + col**2/RC**2 <= 1:\\n      print('*', end='')\\n    else:\\n      print(' ', end='')\\n    col += 1\\n  print()\\n  row += 1\", 'RR': 4, 'RC': 8, 'row': 5, 'col': 9, '_i2': 'import platform\\nprint(platform.python_version())', 'platform': <module 'platform' from '/usr/lib/python3.9/platform.py'>, '_i3': \"RR = 8  # minor semi-axis\\nRC = 15 # major semi-axis\\nrow = -RR\\nwhile row <= RR:\\n  col = -RC\\n  while col <= RC:\\n    if row**2/RR**2 + col**2/RC**2 <= 1:\\n      print('*', end='')\\n    else:\\n      print(' ', end='')\\n    col += 1\\n  print()\\n  row += 1\\n\\nRR = 4\\nRC = 8\\nrow = -RR\\nwhile row <= RR:\\n  col = -RC\\n  while col <= RC:\\n    if row**2/RR**2 + col**2/RC**2 <= 1:\\n      print('*', end='')\\n    else:\\n      print(' ', end='')\\n    col += 1\\n  print()\\n  row += 1\", '_i4': \"def ellipse(rr, rc):\\n  row = -rr\\n  while row <= rr:\\n    col = -rc\\n    while col <= rc:\\n      if row**2/rr**2 + col**2/rc**2 <= 1:\\n        print('*', end='')\\n      else:\\n        print(' ', end='')\\n      col += 1\\n    print()\\n    row += 1\\n\\nellipse(8, 15)\\nellipse(4, 8)\", 'ellipse': <function ellipse at 0x7f3597c64940>, '_i5': 'def rectanglePerimeter(a, b):\\n  return 2 * (a + b)\\n\\nprint(rectanglePerimeter(2, 3))\\nprint(rectanglePerimeter(2.5, 4))', 'rectanglePerimeter': <function rectanglePerimeter at 0x7f3597d099d0>, '_i6': \"def isNeptun(code):\\n  if len(code) != 6:\\n    return False\\n  for char in code:\\n    if not (char.isdigit() or char.isalpha()):\\n      return False\\n  return True\\n\\nprint(isNeptun('Abc123'))\\nprint(isNeptun('1a'))\\nprint(isNeptun('1a2b3c4d'))\\nprint(isNeptun('1a+!3c'))\", 'isNeptun': <function isNeptun at 0x7f3597d3d040>, '_i7': \"def rectangle(a, b):\\n  perimeter = 2 * (a + b)\\n  area = a * b\\n  return perimeter, area\\n\\np, a = rectangle(2, 3)\\nprint(f'The perimeter of the rectangle is {p}, it\\\\'s area is {a}.')\", 'rectangle': <function rectangle at 0x7f3597d09ca0>, 'p': 10, 'a': 6, '_i8': 'result = rectangle(2, 3)\\nprint(result)\\nprint(type(result))', 'result': (10, 6), '_i9': 'ellipse(3)', '_i10': 'ellipse(1, 2, 3)', '_i11': \"def ellipse(rr, rc=None): # default value is None, which cannot be used meaningfully; from here we know that the value of the two radii should be the same\\n  row = -rr\\n  while row <= rr:\\n    col = -rc\\n    while col <= rc:\\n      if row**2/rr**2 + col**2/rc**2 <= 1:\\n        print('*', end='')\\n      else:\\n        print(' ', end='')\\n      col += 1\\n    print()\\n    row += 1\\n\\nellipse(3)\\nellipse(3, 5)\", '_i12': \"def ellipse(rr, rc=None): # default value is None, which cannot be used meaningfully; from here we know that the value of the two radii should be the same\\n  rc = rr if rc is None else rc\\n  row = -rr\\n  while row <= rr:\\n    col = -rc\\n    while col <= rc:\\n      if row**2/rr**2 + col**2/rc**2 <= 1:\\n        print('*', end='')\\n      else:\\n        print(' ', end='')\\n      col += 1\\n    print()\\n    row += 1\\n\\nellipse(3)\\nellipse(3, 5)\", '_i13': 'def summarize(*operands):\\n  total = 0\\n  for operand in operands:\\n    total += operand\\n  return total\\n\\nprint(summarize(1, 2, 3))\\nprint(summarize(1, 2, 3, 4, 5))', 'summarize': <function summarize at 0x7f3597d1d700>, '_i14': 'def sumList(operands):\\n  total = 0\\n  for operand in operands:\\n    total += operand\\n  return total\\n\\nprint(sumList((1, 2, 3)))        # tuple\\nprint(sumList([1, 2, 3, 4, 5]))  # list\\n\\n*numbers, = 1, 2, 3              # packing\\nprint(sumList(numbers))', 'sumList': <function sumList at 0x7f3597d1d4c0>, 'numbers': [1, 2, 3], '_i15': 'ellipse(5, 10)\\nellipse(10, 5)', '_i16': 'ellipse(rr=5, rc=10)\\nellipse(rc=10, rr=5)', '_i17': \"x = 2\\ny = 5\\n\\ndef swap(a, b):\\n  a, b = b, a\\n\\nswap(x, y)\\nprint(f'x={x}, y={y}') # Ooops!\", 'x': 2, 'y': 5, 'swap': <function swap at 0x7f3597c64700>, '_i18': \"x = 2\\ny = 5\\n\\ndef swap(a, b):\\n  print(f'id of a: {id(a)}, id of b: {id(b)}')\\n  a, b = b, a\\n  print(f'id of a: {id(a)}, id of b: {id(b)}')\\n\\nprint(f'id of x: {id(x)}, id of y: {id(y)}')\\nswap(x, y)\\nprint(f'id of x: {id(x)}, id of y: {id(y)}')\\nprint(f'x={x}, y={y}')\", '_i19': \"x = 2\\n\\ndef cubic(a):\\n  print(f'id of a: {id(a)}')\\n  a = a**3\\n  print(f'id of a: {id(a)}')\\n\\nprint(f'id of x: {id(x)}')\\ncubic(x)\\nprint(f'id of x: {id(x)}')\\nprint(x)\", 'cubic': <function cubic at 0x7f3597c71d30>, '_i20': 'x = 2\\n\\ndef cubic():\\n  x = x**3 # it does not reach the global variable defined outside the function\\n\\ncubic()\\nprint(x)', '_i21': \"x = 2\\n\\ndef cubic(a):\\n  a = a**3\\n  print(f'Local variables: {locals()}')\\n\\nprint(f'Global variables: {globals()}')\\ncubic(x)\\nprint(x)\"}\n",
            "Local variables: {'a': 8}\n",
            "2\n"
          ]
        }
      ]
    },
    {
      "cell_type": "markdown",
      "source": [
        "We can tell it not to look for *x* in local variables as usual."
      ],
      "metadata": {
        "id": "3qMTqmLnOW_C"
      }
    },
    {
      "cell_type": "code",
      "source": [
        "x = 2\n",
        "\n",
        "def cubic():\n",
        "  global x  # makes the global variable available\n",
        "  x = x**3\n",
        "  print(f'Local variables: {locals()}')\n",
        "\n",
        "print(f'Global variables: {globals()}')\n",
        "cubic()\n",
        "print(x)"
      ],
      "metadata": {
        "colab": {
          "base_uri": "https://localhost:8080/"
        },
        "id": "OpMEUujtOcE5",
        "outputId": "bbc9ee24-08f3-4ef4-d34e-d2ed24cf50f6"
      },
      "execution_count": null,
      "outputs": [
        {
          "output_type": "stream",
          "name": "stdout",
          "text": [
            "Global variables: {'__name__': '__main__', '__doc__': 'Automatically created module for IPython interactive environment', '__package__': None, '__loader__': None, '__spec__': None, '__builtin__': <module 'builtins' (built-in)>, '__builtins__': <module 'builtins' (built-in)>, '_ih': ['', \"RR = 8\\nRC = 15\\nrow = -RR\\nwhile row <= RR:\\n  col = -RC\\n  while col <= RC:\\n    if row**2/RR**2 + col**2/RC**2 <= 1:\\n      print('*', end='')\\n    else:\\n      print(' ', end='')\\n    col += 1\\n  print()\\n  row += 1\", 'import platform\\nprint(platform.python_version())', \"RR = 8  # minor semi-axis\\nRC = 15 # major semi-axis\\nrow = -RR\\nwhile row <= RR:\\n  col = -RC\\n  while col <= RC:\\n    if row**2/RR**2 + col**2/RC**2 <= 1:\\n      print('*', end='')\\n    else:\\n      print(' ', end='')\\n    col += 1\\n  print()\\n  row += 1\\n\\nRR = 4\\nRC = 8\\nrow = -RR\\nwhile row <= RR:\\n  col = -RC\\n  while col <= RC:\\n    if row**2/RR**2 + col**2/RC**2 <= 1:\\n      print('*', end='')\\n    else:\\n      print(' ', end='')\\n    col += 1\\n  print()\\n  row += 1\", \"def ellipse(rr, rc):\\n  row = -rr\\n  while row <= rr:\\n    col = -rc\\n    while col <= rc:\\n      if row**2/rr**2 + col**2/rc**2 <= 1:\\n        print('*', end='')\\n      else:\\n        print(' ', end='')\\n      col += 1\\n    print()\\n    row += 1\\n\\nellipse(8, 15)\\nellipse(4, 8)\", 'def rectanglePerimeter(a, b):\\n  return 2 * (a + b)\\n\\nprint(rectanglePerimeter(2, 3))\\nprint(rectanglePerimeter(2.5, 4))', \"def isNeptun(code):\\n  if len(code) != 6:\\n    return False\\n  for char in code:\\n    if not (char.isdigit() or char.isalpha()):\\n      return False\\n  return True\\n\\nprint(isNeptun('Abc123'))\\nprint(isNeptun('1a'))\\nprint(isNeptun('1a2b3c4d'))\\nprint(isNeptun('1a+!3c'))\", \"def rectangle(a, b):\\n  perimeter = 2 * (a + b)\\n  area = a * b\\n  return perimeter, area\\n\\np, a = rectangle(2, 3)\\nprint(f'The perimeter of the rectangle is {p}, it\\\\'s area is {a}.')\", 'result = rectangle(2, 3)\\nprint(result)\\nprint(type(result))', 'ellipse(3)', 'ellipse(1, 2, 3)', \"def ellipse(rr, rc=None): # default value is None, which cannot be used meaningfully; from here we know that the value of the two radii should be the same\\n  row = -rr\\n  while row <= rr:\\n    col = -rc\\n    while col <= rc:\\n      if row**2/rr**2 + col**2/rc**2 <= 1:\\n        print('*', end='')\\n      else:\\n        print(' ', end='')\\n      col += 1\\n    print()\\n    row += 1\\n\\nellipse(3)\\nellipse(3, 5)\", \"def ellipse(rr, rc=None): # default value is None, which cannot be used meaningfully; from here we know that the value of the two radii should be the same\\n  rc = rr if rc is None else rc\\n  row = -rr\\n  while row <= rr:\\n    col = -rc\\n    while col <= rc:\\n      if row**2/rr**2 + col**2/rc**2 <= 1:\\n        print('*', end='')\\n      else:\\n        print(' ', end='')\\n      col += 1\\n    print()\\n    row += 1\\n\\nellipse(3)\\nellipse(3, 5)\", 'def summarize(*operands):\\n  total = 0\\n  for operand in operands:\\n    total += operand\\n  return total\\n\\nprint(summarize(1, 2, 3))\\nprint(summarize(1, 2, 3, 4, 5))', 'def sumList(operands):\\n  total = 0\\n  for operand in operands:\\n    total += operand\\n  return total\\n\\nprint(sumList((1, 2, 3)))        # tuple\\nprint(sumList([1, 2, 3, 4, 5]))  # list\\n\\n*numbers, = 1, 2, 3              # packing\\nprint(sumList(numbers))', 'ellipse(5, 10)\\nellipse(10, 5)', 'ellipse(rr=5, rc=10)\\nellipse(rc=10, rr=5)', \"x = 2\\ny = 5\\n\\ndef swap(a, b):\\n  a, b = b, a\\n\\nswap(x, y)\\nprint(f'x={x}, y={y}') # Ooops!\", \"x = 2\\ny = 5\\n\\ndef swap(a, b):\\n  print(f'id of a: {id(a)}, id of b: {id(b)}')\\n  a, b = b, a\\n  print(f'id of a: {id(a)}, id of b: {id(b)}')\\n\\nprint(f'id of x: {id(x)}, id of y: {id(y)}')\\nswap(x, y)\\nprint(f'id of x: {id(x)}, id of y: {id(y)}')\\nprint(f'x={x}, y={y}')\", \"x = 2\\n\\ndef cubic(a):\\n  print(f'id of a: {id(a)}')\\n  a = a**3\\n  print(f'id of a: {id(a)}')\\n\\nprint(f'id of x: {id(x)}')\\ncubic(x)\\nprint(f'id of x: {id(x)}')\\nprint(x)\", 'x = 2\\n\\ndef cubic():\\n  x = x**3 # it does not reach the global variable defined outside the function\\n\\ncubic()\\nprint(x)', \"x = 2\\n\\ndef cubic(a):\\n  a = a**3\\n  print(f'Local variables: {locals()}')\\n\\nprint(f'Global variables: {globals()}')\\ncubic(x)\\nprint(x)\", \"x = 2\\n\\ndef cubic():\\n  global x  # makes the global variable available\\n  x = x**3\\n  print(f'Local variables: {locals()}')\\n\\nprint(f'Global variables: {globals()}')\\ncubic()\\nprint(x)\"], '_oh': {}, '_dh': ['/content'], 'In': ['', \"RR = 8\\nRC = 15\\nrow = -RR\\nwhile row <= RR:\\n  col = -RC\\n  while col <= RC:\\n    if row**2/RR**2 + col**2/RC**2 <= 1:\\n      print('*', end='')\\n    else:\\n      print(' ', end='')\\n    col += 1\\n  print()\\n  row += 1\", 'import platform\\nprint(platform.python_version())', \"RR = 8  # minor semi-axis\\nRC = 15 # major semi-axis\\nrow = -RR\\nwhile row <= RR:\\n  col = -RC\\n  while col <= RC:\\n    if row**2/RR**2 + col**2/RC**2 <= 1:\\n      print('*', end='')\\n    else:\\n      print(' ', end='')\\n    col += 1\\n  print()\\n  row += 1\\n\\nRR = 4\\nRC = 8\\nrow = -RR\\nwhile row <= RR:\\n  col = -RC\\n  while col <= RC:\\n    if row**2/RR**2 + col**2/RC**2 <= 1:\\n      print('*', end='')\\n    else:\\n      print(' ', end='')\\n    col += 1\\n  print()\\n  row += 1\", \"def ellipse(rr, rc):\\n  row = -rr\\n  while row <= rr:\\n    col = -rc\\n    while col <= rc:\\n      if row**2/rr**2 + col**2/rc**2 <= 1:\\n        print('*', end='')\\n      else:\\n        print(' ', end='')\\n      col += 1\\n    print()\\n    row += 1\\n\\nellipse(8, 15)\\nellipse(4, 8)\", 'def rectanglePerimeter(a, b):\\n  return 2 * (a + b)\\n\\nprint(rectanglePerimeter(2, 3))\\nprint(rectanglePerimeter(2.5, 4))', \"def isNeptun(code):\\n  if len(code) != 6:\\n    return False\\n  for char in code:\\n    if not (char.isdigit() or char.isalpha()):\\n      return False\\n  return True\\n\\nprint(isNeptun('Abc123'))\\nprint(isNeptun('1a'))\\nprint(isNeptun('1a2b3c4d'))\\nprint(isNeptun('1a+!3c'))\", \"def rectangle(a, b):\\n  perimeter = 2 * (a + b)\\n  area = a * b\\n  return perimeter, area\\n\\np, a = rectangle(2, 3)\\nprint(f'The perimeter of the rectangle is {p}, it\\\\'s area is {a}.')\", 'result = rectangle(2, 3)\\nprint(result)\\nprint(type(result))', 'ellipse(3)', 'ellipse(1, 2, 3)', \"def ellipse(rr, rc=None): # default value is None, which cannot be used meaningfully; from here we know that the value of the two radii should be the same\\n  row = -rr\\n  while row <= rr:\\n    col = -rc\\n    while col <= rc:\\n      if row**2/rr**2 + col**2/rc**2 <= 1:\\n        print('*', end='')\\n      else:\\n        print(' ', end='')\\n      col += 1\\n    print()\\n    row += 1\\n\\nellipse(3)\\nellipse(3, 5)\", \"def ellipse(rr, rc=None): # default value is None, which cannot be used meaningfully; from here we know that the value of the two radii should be the same\\n  rc = rr if rc is None else rc\\n  row = -rr\\n  while row <= rr:\\n    col = -rc\\n    while col <= rc:\\n      if row**2/rr**2 + col**2/rc**2 <= 1:\\n        print('*', end='')\\n      else:\\n        print(' ', end='')\\n      col += 1\\n    print()\\n    row += 1\\n\\nellipse(3)\\nellipse(3, 5)\", 'def summarize(*operands):\\n  total = 0\\n  for operand in operands:\\n    total += operand\\n  return total\\n\\nprint(summarize(1, 2, 3))\\nprint(summarize(1, 2, 3, 4, 5))', 'def sumList(operands):\\n  total = 0\\n  for operand in operands:\\n    total += operand\\n  return total\\n\\nprint(sumList((1, 2, 3)))        # tuple\\nprint(sumList([1, 2, 3, 4, 5]))  # list\\n\\n*numbers, = 1, 2, 3              # packing\\nprint(sumList(numbers))', 'ellipse(5, 10)\\nellipse(10, 5)', 'ellipse(rr=5, rc=10)\\nellipse(rc=10, rr=5)', \"x = 2\\ny = 5\\n\\ndef swap(a, b):\\n  a, b = b, a\\n\\nswap(x, y)\\nprint(f'x={x}, y={y}') # Ooops!\", \"x = 2\\ny = 5\\n\\ndef swap(a, b):\\n  print(f'id of a: {id(a)}, id of b: {id(b)}')\\n  a, b = b, a\\n  print(f'id of a: {id(a)}, id of b: {id(b)}')\\n\\nprint(f'id of x: {id(x)}, id of y: {id(y)}')\\nswap(x, y)\\nprint(f'id of x: {id(x)}, id of y: {id(y)}')\\nprint(f'x={x}, y={y}')\", \"x = 2\\n\\ndef cubic(a):\\n  print(f'id of a: {id(a)}')\\n  a = a**3\\n  print(f'id of a: {id(a)}')\\n\\nprint(f'id of x: {id(x)}')\\ncubic(x)\\nprint(f'id of x: {id(x)}')\\nprint(x)\", 'x = 2\\n\\ndef cubic():\\n  x = x**3 # it does not reach the global variable defined outside the function\\n\\ncubic()\\nprint(x)', \"x = 2\\n\\ndef cubic(a):\\n  a = a**3\\n  print(f'Local variables: {locals()}')\\n\\nprint(f'Global variables: {globals()}')\\ncubic(x)\\nprint(x)\", \"x = 2\\n\\ndef cubic():\\n  global x  # makes the global variable available\\n  x = x**3\\n  print(f'Local variables: {locals()}')\\n\\nprint(f'Global variables: {globals()}')\\ncubic()\\nprint(x)\"], 'Out': {}, 'get_ipython': <bound method InteractiveShell.get_ipython of <google.colab._shell.Shell object at 0x7f35d752bb20>>, 'exit': <IPython.core.autocall.ZMQExitAutocall object at 0x7f35d4496b20>, 'quit': <IPython.core.autocall.ZMQExitAutocall object at 0x7f35d4496b20>, '_': '', '__': '', '___': '', '_i': \"x = 2\\n\\ndef cubic(a):\\n  a = a**3\\n  print(f'Local variables: {locals()}')\\n\\nprint(f'Global variables: {globals()}')\\ncubic(x)\\nprint(x)\", '_ii': 'x = 2\\n\\ndef cubic():\\n  x = x**3 # it does not reach the global variable defined outside the function\\n\\ncubic()\\nprint(x)', '_iii': \"x = 2\\n\\ndef cubic(a):\\n  print(f'id of a: {id(a)}')\\n  a = a**3\\n  print(f'id of a: {id(a)}')\\n\\nprint(f'id of x: {id(x)}')\\ncubic(x)\\nprint(f'id of x: {id(x)}')\\nprint(x)\", '_i1': \"RR = 8\\nRC = 15\\nrow = -RR\\nwhile row <= RR:\\n  col = -RC\\n  while col <= RC:\\n    if row**2/RR**2 + col**2/RC**2 <= 1:\\n      print('*', end='')\\n    else:\\n      print(' ', end='')\\n    col += 1\\n  print()\\n  row += 1\", 'RR': 4, 'RC': 8, 'row': 5, 'col': 9, '_i2': 'import platform\\nprint(platform.python_version())', 'platform': <module 'platform' from '/usr/lib/python3.9/platform.py'>, '_i3': \"RR = 8  # minor semi-axis\\nRC = 15 # major semi-axis\\nrow = -RR\\nwhile row <= RR:\\n  col = -RC\\n  while col <= RC:\\n    if row**2/RR**2 + col**2/RC**2 <= 1:\\n      print('*', end='')\\n    else:\\n      print(' ', end='')\\n    col += 1\\n  print()\\n  row += 1\\n\\nRR = 4\\nRC = 8\\nrow = -RR\\nwhile row <= RR:\\n  col = -RC\\n  while col <= RC:\\n    if row**2/RR**2 + col**2/RC**2 <= 1:\\n      print('*', end='')\\n    else:\\n      print(' ', end='')\\n    col += 1\\n  print()\\n  row += 1\", '_i4': \"def ellipse(rr, rc):\\n  row = -rr\\n  while row <= rr:\\n    col = -rc\\n    while col <= rc:\\n      if row**2/rr**2 + col**2/rc**2 <= 1:\\n        print('*', end='')\\n      else:\\n        print(' ', end='')\\n      col += 1\\n    print()\\n    row += 1\\n\\nellipse(8, 15)\\nellipse(4, 8)\", 'ellipse': <function ellipse at 0x7f3597c64940>, '_i5': 'def rectanglePerimeter(a, b):\\n  return 2 * (a + b)\\n\\nprint(rectanglePerimeter(2, 3))\\nprint(rectanglePerimeter(2.5, 4))', 'rectanglePerimeter': <function rectanglePerimeter at 0x7f3597d099d0>, '_i6': \"def isNeptun(code):\\n  if len(code) != 6:\\n    return False\\n  for char in code:\\n    if not (char.isdigit() or char.isalpha()):\\n      return False\\n  return True\\n\\nprint(isNeptun('Abc123'))\\nprint(isNeptun('1a'))\\nprint(isNeptun('1a2b3c4d'))\\nprint(isNeptun('1a+!3c'))\", 'isNeptun': <function isNeptun at 0x7f3597d3d040>, '_i7': \"def rectangle(a, b):\\n  perimeter = 2 * (a + b)\\n  area = a * b\\n  return perimeter, area\\n\\np, a = rectangle(2, 3)\\nprint(f'The perimeter of the rectangle is {p}, it\\\\'s area is {a}.')\", 'rectangle': <function rectangle at 0x7f3597d09ca0>, 'p': 10, 'a': 6, '_i8': 'result = rectangle(2, 3)\\nprint(result)\\nprint(type(result))', 'result': (10, 6), '_i9': 'ellipse(3)', '_i10': 'ellipse(1, 2, 3)', '_i11': \"def ellipse(rr, rc=None): # default value is None, which cannot be used meaningfully; from here we know that the value of the two radii should be the same\\n  row = -rr\\n  while row <= rr:\\n    col = -rc\\n    while col <= rc:\\n      if row**2/rr**2 + col**2/rc**2 <= 1:\\n        print('*', end='')\\n      else:\\n        print(' ', end='')\\n      col += 1\\n    print()\\n    row += 1\\n\\nellipse(3)\\nellipse(3, 5)\", '_i12': \"def ellipse(rr, rc=None): # default value is None, which cannot be used meaningfully; from here we know that the value of the two radii should be the same\\n  rc = rr if rc is None else rc\\n  row = -rr\\n  while row <= rr:\\n    col = -rc\\n    while col <= rc:\\n      if row**2/rr**2 + col**2/rc**2 <= 1:\\n        print('*', end='')\\n      else:\\n        print(' ', end='')\\n      col += 1\\n    print()\\n    row += 1\\n\\nellipse(3)\\nellipse(3, 5)\", '_i13': 'def summarize(*operands):\\n  total = 0\\n  for operand in operands:\\n    total += operand\\n  return total\\n\\nprint(summarize(1, 2, 3))\\nprint(summarize(1, 2, 3, 4, 5))', 'summarize': <function summarize at 0x7f3597d1d700>, '_i14': 'def sumList(operands):\\n  total = 0\\n  for operand in operands:\\n    total += operand\\n  return total\\n\\nprint(sumList((1, 2, 3)))        # tuple\\nprint(sumList([1, 2, 3, 4, 5]))  # list\\n\\n*numbers, = 1, 2, 3              # packing\\nprint(sumList(numbers))', 'sumList': <function sumList at 0x7f3597d1d4c0>, 'numbers': [1, 2, 3], '_i15': 'ellipse(5, 10)\\nellipse(10, 5)', '_i16': 'ellipse(rr=5, rc=10)\\nellipse(rc=10, rr=5)', '_i17': \"x = 2\\ny = 5\\n\\ndef swap(a, b):\\n  a, b = b, a\\n\\nswap(x, y)\\nprint(f'x={x}, y={y}') # Ooops!\", 'x': 2, 'y': 5, 'swap': <function swap at 0x7f3597c64700>, '_i18': \"x = 2\\ny = 5\\n\\ndef swap(a, b):\\n  print(f'id of a: {id(a)}, id of b: {id(b)}')\\n  a, b = b, a\\n  print(f'id of a: {id(a)}, id of b: {id(b)}')\\n\\nprint(f'id of x: {id(x)}, id of y: {id(y)}')\\nswap(x, y)\\nprint(f'id of x: {id(x)}, id of y: {id(y)}')\\nprint(f'x={x}, y={y}')\", '_i19': \"x = 2\\n\\ndef cubic(a):\\n  print(f'id of a: {id(a)}')\\n  a = a**3\\n  print(f'id of a: {id(a)}')\\n\\nprint(f'id of x: {id(x)}')\\ncubic(x)\\nprint(f'id of x: {id(x)}')\\nprint(x)\", 'cubic': <function cubic at 0x7f3597c710d0>, '_i20': 'x = 2\\n\\ndef cubic():\\n  x = x**3 # it does not reach the global variable defined outside the function\\n\\ncubic()\\nprint(x)', '_i21': \"x = 2\\n\\ndef cubic(a):\\n  a = a**3\\n  print(f'Local variables: {locals()}')\\n\\nprint(f'Global variables: {globals()}')\\ncubic(x)\\nprint(x)\", '_i22': \"x = 2\\n\\ndef cubic():\\n  global x  # makes the global variable available\\n  x = x**3\\n  print(f'Local variables: {locals()}')\\n\\nprint(f'Global variables: {globals()}')\\ncubic()\\nprint(x)\"}\n",
            "Local variables: {}\n",
            "8\n"
          ]
        }
      ]
    },
    {
      "cell_type": "markdown",
      "source": [
        "Of course this works, but:\n",
        "\n",
        "- The function cannot be transferred to another program without matching the variable names, this can be the source of many errors\n",
        "- The variable *x* appears \"out of nowhere\" in the code of the function, which makes it difficult to understand its operation\n",
        "- It can only calculate the cube of one variable, it cannot work with other variables\n",
        "- (Not thread-safe)\n",
        "\n",
        "This is such a disadvantage that we should rather FORGET this \"solution\"!\n",
        "\n",
        "Suggested solution #1: return and reassign the values to variables."
      ],
      "metadata": {
        "id": "YEj_Le-6O3wj"
      }
    },
    {
      "cell_type": "code",
      "source": [
        "x = 2\n",
        "y = 5\n",
        "\n",
        "def swap(a, b):\n",
        "  return b, a\n",
        "\n",
        "x, y = swap(x, y)\n",
        "print(f'x={x}, y={y}') # It's a bit clunky, but it works"
      ],
      "metadata": {
        "colab": {
          "base_uri": "https://localhost:8080/"
        },
        "id": "QIgwChhQPbEA",
        "outputId": "fb338842-68fe-4615-883c-ad23a2e1adbb"
      },
      "execution_count": null,
      "outputs": [
        {
          "output_type": "stream",
          "name": "stdout",
          "text": [
            "x=5, y=2\n"
          ]
        }
      ]
    },
    {
      "cell_type": "markdown",
      "source": [
        "Suggested solution #2: let's use (*subscriptable* [its elements are accessible by indexing] & *mutable* [its content can be changed]) *objects* (list, dictionary) in the parameter list!"
      ],
      "metadata": {
        "id": "CYqc8yR3P0EP"
      }
    },
    {
      "cell_type": "code",
      "source": [
        "numbers = [2, 5]\n",
        "\n",
        "def swap(l):\n",
        "  l[0], l[1] = l[1], l[0]\n",
        "\n",
        "print(numbers)\n",
        "swap(numbers)\n",
        "print(numbers)"
      ],
      "metadata": {
        "colab": {
          "base_uri": "https://localhost:8080/"
        },
        "id": "nqbO4rKDP_Iq",
        "outputId": "a5331d5d-c3f7-48f1-cfff-4b419c39eba1"
      },
      "execution_count": null,
      "outputs": [
        {
          "output_type": "stream",
          "name": "stdout",
          "text": [
            "[2, 5]\n",
            "[5, 2]\n"
          ]
        }
      ]
    },
    {
      "cell_type": "code",
      "source": [
        "d = {'x' : 2}\n",
        "\n",
        "def cubic(a):\n",
        "  a['x'] = a['x']**3\n",
        "\n",
        "print(d)\n",
        "cubic(d)\n",
        "print(d)"
      ],
      "metadata": {
        "colab": {
          "base_uri": "https://localhost:8080/"
        },
        "id": "ZPmpYXndQOcy",
        "outputId": "5d09ff30-5f71-4086-d9cf-1adc99a01b45"
      },
      "execution_count": null,
      "outputs": [
        {
          "output_type": "stream",
          "name": "stdout",
          "text": [
            "{'x': 2}\n",
            "{'x': 8}\n"
          ]
        }
      ]
    },
    {
      "cell_type": "markdown",
      "source": [
        "### SELF TEST\n",
        "\n",
        "> Change the function that calculates the dimensions of thumbnails so that after the percentage value of the scale ratio, it accepts a list containing the dimensions of the original images, the elements of which are further lists containing the width and height of each image. Change the contents of the lists inside the function! Example usage of the function:\n",
        "\n",
        "dimensions = [[10, 20], [30, 40]]\n",
        "\n",
        "thumbnail(10., dimensions)\n",
        "\n",
        "print(dimensions)\n",
        "\n",
        "\\# Output: [[1, 2], [3, 4]]"
      ],
      "metadata": {
        "id": "g0GvCZJIX3p7"
      }
    },
    {
      "cell_type": "markdown",
      "source": [
        "Task: create a function that returns the element with index *n* of the [Fibonacci](https://en.wikipedia.org/wiki/Fibonacci_sequence) series!"
      ],
      "metadata": {
        "id": "xWJqg8lgQrn9"
      }
    },
    {
      "cell_type": "code",
      "source": [
        "def fibonacci(n):\n",
        "  a = 0\n",
        "  b = 1\n",
        "  for i in range(n):\n",
        "    a, b = b, a+b\n",
        "  return a\n",
        "\n",
        "print(fibonacci(0))\n",
        "print(fibonacci(1))\n",
        "print(fibonacci(2))\n",
        "print(fibonacci(3))\n",
        "print(fibonacci(4))\n",
        "print(fibonacci(5))"
      ],
      "metadata": {
        "colab": {
          "base_uri": "https://localhost:8080/"
        },
        "id": "1EYAOVckQ8jz",
        "outputId": "e68c14ff-a3eb-4047-dabe-01dd120bba1f"
      },
      "execution_count": null,
      "outputs": [
        {
          "output_type": "stream",
          "name": "stdout",
          "text": [
            "0\n",
            "1\n",
            "1\n",
            "2\n",
            "3\n",
            "5\n"
          ]
        }
      ]
    },
    {
      "cell_type": "markdown",
      "source": [
        "Of course, we could also take advantage of the fact that the sequence itself is second-order recursive, i.e. the element with index *n* can be obtained as the sum of the elements with index *n-2* and *n-1*. However, these two elements must be defined using the same method as the element with index *n*, i.e. the function can call itself twice: this is the technique of the so-called (self) *recursive* function call.\n",
        "\n",
        "<div><img src=\"data:image/jpeg;base64,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\"></div>\n",
        "\n",
        "During each call, if necessary, new \"instances\" are created from the local variables, so they do not overwrite each other, there will be no problem. However, it must be avoided that the function calls itself \"infinitely\"!"
      ],
      "metadata": {
        "id": "z9g5L-5BRe2h"
      }
    },
    {
      "cell_type": "code",
      "source": [
        "def recFibonacci(n):\n",
        "  if n==0 or n==1:\n",
        "    return n\n",
        "  return recFibonacci(n-2) + recFibonacci(n-1)\n",
        "\n",
        "print(recFibonacci(0))\n",
        "print(recFibonacci(1))\n",
        "print(recFibonacci(2))\n",
        "print(recFibonacci(3))\n",
        "print(recFibonacci(4))\n",
        "print(recFibonacci(5))"
      ],
      "metadata": {
        "colab": {
          "base_uri": "https://localhost:8080/"
        },
        "id": "sk5Ipp4XTjCZ",
        "outputId": "0ebdf8e5-6ec8-4e73-89ec-842a16a5b7ad"
      },
      "execution_count": null,
      "outputs": [
        {
          "output_type": "stream",
          "name": "stdout",
          "text": [
            "0\n",
            "1\n",
            "1\n",
            "2\n",
            "3\n",
            "5\n"
          ]
        }
      ]
    },
    {
      "cell_type": "markdown",
      "source": [
        "### SELF TEST\n",
        "\n",
        "> Write a [minesweeper](https://minesweeper.online/) video game!"
      ],
      "metadata": {
        "id": "iNFu3lF3sSPh"
      }
    },
    {
      "cell_type": "markdown",
      "source": [
        "The functions can be assigned as values to variables, in fact a new name can be given to functions."
      ],
      "metadata": {
        "id": "NI5ubmNjUBZV"
      }
    },
    {
      "cell_type": "code",
      "source": [
        "def add(a, b):\n",
        "  return a+b\n",
        "\n",
        "def mult(a, b):\n",
        "  return a*b\n",
        "\n",
        "operation = add\n",
        "print(operation(2, 3))\n",
        "\n",
        "operation = mult\n",
        "print(operation(2, 3))"
      ],
      "metadata": {
        "colab": {
          "base_uri": "https://localhost:8080/"
        },
        "id": "DXZmobwqUHxl",
        "outputId": "33670a0b-934d-4107-cc95-56e40e55cc80"
      },
      "execution_count": null,
      "outputs": [
        {
          "output_type": "stream",
          "name": "stdout",
          "text": [
            "5\n",
            "6\n"
          ]
        }
      ]
    },
    {
      "cell_type": "markdown",
      "source": [
        "Functions can also be nested within each other if we want to hide certain sub-functions from the outside world:"
      ],
      "metadata": {
        "id": "kIwHojjkUi2t"
      }
    },
    {
      "cell_type": "code",
      "source": [
        "def operation(a, op, b):\n",
        "  def add(a, b):\n",
        "    return a+b\n",
        "\n",
        "  def sub(a, b):\n",
        "    return a-b\n",
        "\n",
        "  def mult(a, b):\n",
        "    return a*b\n",
        "\n",
        "  def div(a, b):\n",
        "    return a/b\n",
        "\n",
        "  operations = {\n",
        "      '+' : add,\n",
        "      '-' : sub,\n",
        "      '*' : mult,\n",
        "      '/' : div\n",
        "  }\n",
        "\n",
        "  return operations[op](a, b)\n",
        "\n",
        "print(operation(2, '+', 3))\n",
        "print(operation(2, '-', 3))\n",
        "print(operation(2, '*', 3))\n",
        "print(operation(2, '/', 3))"
      ],
      "metadata": {
        "colab": {
          "base_uri": "https://localhost:8080/"
        },
        "id": "_2LrtDcCUlR7",
        "outputId": "360ad6bd-a608-4e02-89c0-183b3068b217"
      },
      "execution_count": null,
      "outputs": [
        {
          "output_type": "stream",
          "name": "stdout",
          "text": [
            "5\n",
            "-1\n",
            "6\n",
            "0.6666666666666666\n"
          ]
        }
      ]
    },
    {
      "cell_type": "markdown",
      "source": [
        "*Closures*: the returned internal function \"remembers\" the environment in which it was created, i.e. in this case the value of the *exp* variable, so it is enough to specify the *base* when calling it.\n",
        "\n",
        "If we have a variable that we don't want to pass over and over again with every call, but we also want to avoid using global variables, this option comes in handy."
      ],
      "metadata": {
        "id": "oOXt0BGFVGUq"
      }
    },
    {
      "cell_type": "code",
      "source": [
        "def power(exp):\n",
        "  def internal(base):\n",
        "    return base**exp\n",
        "  return internal\n",
        "\n",
        "square = power(2)\n",
        "cubic = power(3)\n",
        "print(square(3))\n",
        "print(cubic(3))"
      ],
      "metadata": {
        "colab": {
          "base_uri": "https://localhost:8080/"
        },
        "id": "MBjcXkqXVbED",
        "outputId": "cb7113b5-b821-4946-97eb-3ece8cdb19d6"
      },
      "execution_count": null,
      "outputs": [
        {
          "output_type": "stream",
          "name": "stdout",
          "text": [
            "9\n",
            "27\n"
          ]
        }
      ]
    },
    {
      "cell_type": "markdown",
      "source": [
        "## Documentation of functions\n",
        "[Type hinting](https://peps.python.org/pep-0484/): the expected type of function parameters and the type of the return value can also be specified:"
      ],
      "metadata": {
        "id": "aVl6fX94bnuj"
      }
    },
    {
      "cell_type": "code",
      "source": [
        "def fibonacci(n: int) -> int:\n",
        "  a = 0\n",
        "  b = 1\n",
        "  for i in range(n):\n",
        "    a, b = b, a+b\n",
        "  return a\n",
        "\n",
        "print(fibonacci(4))"
      ],
      "metadata": {
        "colab": {
          "base_uri": "https://localhost:8080/"
        },
        "id": "cDxkoH4RbsrX",
        "outputId": "f6e127e9-b24c-4cc2-8f1a-5ec82afb3673"
      },
      "execution_count": null,
      "outputs": [
        {
          "output_type": "stream",
          "name": "stdout",
          "text": [
            "3\n"
          ]
        }
      ]
    },
    {
      "cell_type": "markdown",
      "source": [
        "For more complicated cases, the [typing](https://docs.python.org/3/library/typing.html) library can be used.\n",
        "\n",
        "Docstring: every built-in function or object has a short description that can be read with the *help()* function, e.g.:"
      ],
      "metadata": {
        "id": "QughnHIrb3N5"
      }
    },
    {
      "cell_type": "code",
      "source": [
        "help(min)"
      ],
      "metadata": {
        "colab": {
          "base_uri": "https://localhost:8080/"
        },
        "id": "wCjBvLHVb94d",
        "outputId": "807dc622-e154-49ec-9e6b-fb493d36ff09"
      },
      "execution_count": null,
      "outputs": [
        {
          "output_type": "stream",
          "name": "stdout",
          "text": [
            "Help on built-in function min in module builtins:\n",
            "\n",
            "min(...)\n",
            "    min(iterable, *[, default=obj, key=func]) -> value\n",
            "    min(arg1, arg2, *args, *[, key=func]) -> value\n",
            "    \n",
            "    With a single iterable argument, return its smallest item. The\n",
            "    default keyword-only argument specifies an object to return if\n",
            "    the provided iterable is empty.\n",
            "    With two or more arguments, return the smallest argument.\n",
            "\n"
          ]
        }
      ]
    },
    {
      "cell_type": "markdown",
      "source": [
        "We can also easily integrate similar documentation into our own functions. The usual expectations are set out in [PEP 257](https://peps.python.org/pep-0257/):\n",
        "- must be enclosed in triple quotation marks,\n",
        "- a line should not be longer than 72 characters,\n",
        "- it should consist of at least a one-line summary,\n",
        "- the summary is followed by an empty line,\n",
        "- which can be followed by a further, more detailed description,\n",
        "- which, if given, should be closed with another empty line.\n",
        "\n",
        "It is customary to document the method of parameterization and the return value. There are several versions and styles of this ([Google](https://github.com/google/styleguide/blob/gh-pages/pyguide.md#38-comments-and-docstrings), [reStructuredText](https://docutils.sourceforge.io/rst.html), [NumPy/SciPy](https://numpydoc.readthedocs.io/en/latest/format.html), [Epytext](http://epydoc.sourceforge.net/epytext.html)), which should be used consistently. This allows various documentation generator software (e.g. [Sphinx](http://www.sphinx-doc.org/en/stable/), [Epydoc](http://epydoc.sourceforge.net/), [Doxygen ](https://www.doxygen.nl/manual/docblocks.html#pythonblocks)) and seems familiar and easy to understand for users. The example below follows the NumPy/SciPy style.\n",
        "\n",
        "It is customary to place documentation at the beginning of the files we create, describing the task of the script, the way it is used, its conditions, the list of available functions and an outline of their purpose."
      ],
      "metadata": {
        "id": "ou_WKpBicW6p"
      }
    },
    {
      "cell_type": "code",
      "source": [
        "def fibonacci(n: int) -> int:\n",
        "  \"\"\"Iterative calculation of the elements of the Fibonacci sequence.\n",
        "  \n",
        "  Parameters\n",
        "  ----------\n",
        "  n : int\n",
        "    The index of the element of the series, it must be a non-negative integer.\n",
        "    \n",
        "  Returns\n",
        "  -------\n",
        "  int\n",
        "    The value of the element with index n of the sequence.\n",
        "  \"\"\"\n",
        "\n",
        "  a = 0\n",
        "  b = 1\n",
        "  for i in range(n):\n",
        "    a, b = b, a+b\n",
        "  return a\n",
        "\n",
        "help(fibonacci)"
      ],
      "metadata": {
        "colab": {
          "base_uri": "https://localhost:8080/"
        },
        "id": "GiIBQ0F4d7l4",
        "outputId": "d9d4c3c7-527d-4ad9-99a5-58742e96e4a7"
      },
      "execution_count": null,
      "outputs": [
        {
          "output_type": "stream",
          "name": "stdout",
          "text": [
            "Help on function fibonacci in module __main__:\n",
            "\n",
            "fibonacci(n: int) -> int\n",
            "    Iterative calculation of the elements of the Fibonacci sequence.\n",
            "    \n",
            "    Parameters\n",
            "    ----------\n",
            "    n : int\n",
            "      The index of the element of the series, it must be a non-negative integer.\n",
            "      \n",
            "    Returns\n",
            "    -------\n",
            "    int\n",
            "      The value of the element with index n of the sequence.\n",
            "\n"
          ]
        }
      ]
    },
    {
      "cell_type": "markdown",
      "source": [
        "### SELF TEST\n",
        "\n",
        "> Exponentiation can be traced back to a series of multiplications, e.g. 2\\*\\*5 == 2\\*2\\*2\\*2\\*2 == 32. However, the number of multiplications can be reduced if we take advantage of the properties of exponentiation, e.g. 2\\*\\*5 == 2\\*\\*2\\*\\*2 \\* 2. Since 2\\*\\*2 == 2\\*2, 2\\*\\*5 can be calculated with a total of 3 multiplications instead of 4. Exponentiation can therefore be traced back to multiplying the results of exponentiations with a lower exponent. Create a recursive exponentiation (power) function and document its use."
      ],
      "metadata": {
        "id": "rfq4xZHRW3ko"
      }
    },
    {
      "cell_type": "markdown",
      "source": [
        "## Examples of using functions\n",
        "\n",
        "### Calculating integral value by approximation [Source (page 51)](http://www.informatom.hu/sze/01/LGB_SZ001/Algoritmusok_%C3%A9s_adatstrukt%C3%BAr%C3%A1k.pdf)\n",
        "\n",
        "Let's calculate the definite integral of a function $f(x)$ taken on a given interval $[a, b]$!\n",
        "\n",
        "Divide the interval $[a, b]$ into $n$ equal parts, then draw lines parallel to the $y$ axis at these division points. Connect the points of the intersection of the adjacent parallel lines and the function!\n",
        "\n",
        "![kép.png](data:image/png;base64,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)\n",
        "\n",
        "We get a trapezoid system whose area sum approximates the definite integral of the function. By refining the division (e.g. by halving each subinterval), the area sum of the trapezoids gives an even better approximation of the definite integral. The solution can therefore be formulated as creating the series consisting of the sum of the areas of the trapezoids belonging to the refined classification. This series is close to the integral value sought, and if two consecutive sums of areas hardly differ from each other (the absolute value of the deviation is less than $ϵ$), then we accept the last generated sum as an approximation of the definite integral.\n",
        "\n",
        "Formalized, if the interval is divided into $n$ equal parts, the function value taken at the $i$th division point is denoted by $y_i$, then the sum of the trapezoids can be written as follows:\n",
        "\n",
        "$A = l \\left( \\frac{y_0 - y_n}{2} + \\sum^{n-1}_{i=1} y_i\\right)$\n",
        "\n",
        "where $y_0$ is the value of the function at $a$, $y_n$ is the value of the function at $b$ and $l=\\frac{b-a}{n}$."
      ],
      "metadata": {
        "id": "Qr7XSBmXegEK"
      }
    },
    {
      "cell_type": "code",
      "source": [
        "from typing import Callable\n",
        "\n",
        "def f(x: float) -> float:\n",
        "  return x**2.\n",
        "\n",
        "# https://docs.python.org/3/library/typing.html#callable\n",
        "def integralApprox(f: Callable[[float], float], a: float, b: float) -> float:\n",
        "  EPS = 1e-6\n",
        "  if a > b:\n",
        "    a, b = b, a\n",
        "  y0 = f(a)\n",
        "  yn = f(b)\n",
        "  area = (b-a) * (y0+yn)/2.\n",
        "  n = 2\n",
        "  while True:\n",
        "    previous = area\n",
        "    length = (b-a) / n\n",
        "    area = (y0+yn) / 2.\n",
        "    for i in range(1, n):\n",
        "      area += f(a+i*length)\n",
        "    area *= length\n",
        "    n *= 2\n",
        "    if abs(area - previous) < EPS:\n",
        "      break\n",
        "  return area\n",
        "\n",
        "print(f\"{integralApprox(f, 0, 1):.6f}\")"
      ],
      "metadata": {
        "colab": {
          "base_uri": "https://localhost:8080/"
        },
        "id": "LZqP5GU9imAr",
        "outputId": "3e3a072c-229a-4776-de38-41288fafb9bb"
      },
      "execution_count": null,
      "outputs": [
        {
          "output_type": "stream",
          "name": "stdout",
          "text": [
            "0.333333\n"
          ]
        }
      ]
    },
    {
      "cell_type": "markdown",
      "source": [
        "As a check, calculate the following analytically: $\\int^b_a x^2 dx = \\left[ \\frac{x^3}{3} \\right]^1_0 = \\frac{1^3}{3}-\\frac{0^3}{3} = \\frac{1}{3}$\n",
        "\n",
        "![kép.png](data:image/png;base64,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)\n",
        "\n",
        "[Source](https://www.mateking.hu/matek-1/hatarozott-integralas/a-gorbe-alatti-terulet-es-a-hatarozott-integralas#20)"
      ],
      "metadata": {
        "id": "sP4lV_gsjVAZ"
      }
    },
    {
      "cell_type": "markdown",
      "source": [
        "### Approximation of the value of $\\pi$\n",
        "\n",
        "It can be determined in several ways, but one of the best-known methods solves the problem by finding the zero point of the $cos\\left(\\frac{\\pi}{2}\\right) = 0$ function.\n",
        "\n",
        "Finding the zero point of a function can often be solved using [Newton's method](https://en.wikipedia.org/wiki/Newton's_method) in this case as well, if we start the search from a point close enough to the solution (this is 4 in the example). The function to be solved must be differentiable, but this is not a problem in our case, because we know that $cos(x)' = -sin(x)$. The method is iterative, i.e. we approach the result in several steps, but not by an infinite amount, since we can only achieve smaller and smaller improvements with newer and newer approximations: we will stop if the improvement is less than *EPSILON*.\n",
        "\n",
        "The *cos* function is of course available in the *math* library, but it is also interesting to write it if we know the [Taylor series of the *cos* function](https://en.wikipedia.org/wiki/Trigonometric_functions#Power_series_expansion). This means the summation of members of decreasing value. Obviously, there is no point, nor is it possible for us to refine the result indefinitely, so we stop when we reach a certain *EPSILON* precision. Although we can exponentiate (\\*\\* operator) and calculate factorials in Python ([*math.factorial()*](https://docs.python.org/3/library/math.html#math.factorial)), the number of operations can be reduced by multiplying the powers and factorials calculated earlier.\n",
        "\n",
        "Since we know that $sin(x) = cos(\\frac{\\pi}{2} - x)$, it would be tempting to entrust the calculation of the *sin* function to our existing *cos* function, but we are looking for the value of $\\pi$. With Taylor series development, the value of *sin* could be calculated in a very similar way."
      ],
      "metadata": {
        "id": "DpWvnVsdkKp5"
      }
    },
    {
      "cell_type": "code",
      "source": [
        "import math\n",
        "from typing import Callable\n",
        "\n",
        "EPSILON = 1e-6\n",
        "\n",
        "def myCos(x: float) -> float:\n",
        "  numerator = 1\n",
        "  exp = 0\n",
        "  denominator = 1\n",
        "  sign = 1\n",
        "  member = 1\n",
        "  total = member\n",
        "  while(abs(member) > EPSILON):\n",
        "    numerator *= x*x\n",
        "    exp += 2\n",
        "    denominator *= (exp-1)*exp\n",
        "    sign *= -1\n",
        "    member = sign * numerator / denominator\n",
        "    total += member\n",
        "  return total\n",
        "\n",
        "def Fx(x: float) -> float:\n",
        "  return myCos(x/2.)\n",
        "def dFx(x: float) -> float:\n",
        "  return -math.sin(x/2.)\n",
        "  \n",
        "def tangentLine(Fx: Callable[[float], float], dFx: Callable[[float], float], x0: float) -> float:\n",
        "  x1 = x0 - Fx(x0)/dFx(x0)\n",
        "  while abs(x1-x0) > EPSILON:\n",
        "    x0, x1 = x1, x1 - Fx(x0)/dFx(x0)\n",
        "  return x1\n",
        "\n",
        "print(f'\\N{Greek Small Letter Pi} \\N{Almost Equal To} {tangentLine(Fx, dFx, 4.)} vs. {math.pi}')"
      ],
      "metadata": {
        "id": "DRQN9wqjf21c",
        "colab": {
          "base_uri": "https://localhost:8080/"
        },
        "outputId": "47125c52-ba38-4c48-a993-52943f7a69bc"
      },
      "execution_count": null,
      "outputs": [
        {
          "output_type": "stream",
          "name": "stdout",
          "text": [
            "π ≈ 3.1415891134038008 vs. 3.141592653589793\n"
          ]
        }
      ]
    },
    {
      "cell_type": "markdown",
      "source": [
        "# An insight into object-oriented (OO) programming\n",
        "Our programs so far have been made in a *procedural* approach, i.e. we focused primarily on how we can achieve a specific goal with the help of which data structure and which operations and in which order.\n",
        "\n",
        "In contrast, during *OO* programming, the focus is on planning the hierarchy of interconnected program units. During the creation of OO programs, several OO principles must be observed, and opportunities can be used, such as *abstraction*, *encapsulation*, *inheritence* and *polymorphism*. In the context of this subject, our goal is not to fully master OO programming, however, Python's function library relies extensively on OO options, so we consider it important to understand at least the basics of what happens in these libraries and how to use them.\n",
        "\n",
        "An important concept is the *class* marked with the same keyword, which encloses logically related data and the operations that can be performed on them in a single unit (principle of encapsulation). For example, a rectangle class encloses the two side lengths of the rectangle (these are the so-called *data members*, *attributes* or *properties*) and the functions that calculate the perimeter and area (these are the *methods*). This class generally tells what data is important to characterize a rectangle and what operations can be performed with rectangles, but the class itself is not yet functional because it has no reserved memory area (it is just an *abstraction* of real rectangles, characterizes rectangles in general). So the class *behaves* like a type, not like a variable.\n",
        "\n",
        "In order to use the class, it must be *instantiated*, or in other words, an *object* must be created from it; these will already be variables. During instantiation, we assign a memory area to the class, where its data members can be stored. If we want to work with several rectangles, we will create several copies, which may contain different pairs of side lengths.\n",
        "\n",
        "The data members of the objects are initialized by a special method, the so-called *constructor*. By specifying its parameters, the initial value of the data members can be set. In Python, the method name \\_\\_init\\_\\_ must be used when defining the constructor, but when instantiating, the values used for initialization must be passed to the method matching the name of the class.\n",
        "\n",
        "Since it can generally be said that the class is defined once, but several copies can be created, the data is stored in the memory as many times as necessary, but the methods need only be stored once, since the same operations are performed on different data. However, the methods must know from somewhere when and which instance's data members to perform operations on. A special variable, *self*, is used for this purpose, which selects the current instance. This must be indicated as the first parameter of every method, but it will receive a value automatically when the method is called, so we do not need to provide it (its value can be deduced automatically from the name of the instance).\n",
        "\n",
        "When writing OO programs, we will inevitably need to use the dot (.) operator. This is how we separate e.g. the keyword *self* and the name of a data member/method when we want to use them within the code of the class, or to call a given method of an instance. The name of the instance comes first, the dot follows, then the method to be called."
      ],
      "metadata": {
        "id": "OVIAmM6-qbMB"
      }
    },
    {
      "cell_type": "code",
      "source": [
        "class Rectangle:                # class definition starts here\n",
        "  def __init__(self, a : float, b : float): # constructor\n",
        "    self.a = a                  # initializing the attributes\n",
        "    self.b = b\n",
        "\n",
        "  def perimeter(self) -> float: # method definition\n",
        "    return (self.a + self.b) * 2\n",
        "\n",
        "  def area(self) -> float:\n",
        "    return self.a * self.b\n",
        "\n",
        "r1 = Rectangle(2, 5);\n",
        "print('Perimeter of the 1st rectangle: ', r1.perimeter(), ', it\\'s area is: ', r1.area())\n",
        "r2 = Rectangle(3, 6);\n",
        "print('Perimeter of the 2nd rectangle: ', r2.perimeter(), ', it\\'s area is: ', r2.area())"
      ],
      "metadata": {
        "id": "oQ7ASwOouYDk"
      },
      "execution_count": null,
      "outputs": []
    },
    {
      "cell_type": "markdown",
      "source": [
        "The following example shows the use of two classes together. The *Coordinate* class stores a plane coordinate. This is used by the *Polygon* class to determine the end points of the sections that make it up (the last point is automatically connected to the first). *Polygon* stores instances of *Coordinate*s in a list. Such a weak inclusion relationship (*Poligon* works fine without any instances of *Coordinate*s, too) is also called *aggregation*."
      ],
      "metadata": {
        "id": "vt2yue-DJvSd"
      }
    },
    {
      "cell_type": "code",
      "source": [
        "import math\n",
        "\n",
        "class Coordinate:\n",
        "  def __init__(self, x : float, y : float) -> None:\n",
        "    self.x = x\n",
        "    self.y = y\n",
        "\n",
        "class Polygon:\n",
        "  def __init__(self) -> None:\n",
        "    self.points = [] # We store here the instances of the Coordinate class\n",
        "  def addCoordinate(self, point: Coordinate) -> None:\n",
        "    self.points.append(point)\n",
        "  def getSegmentLength(self, a: Coordinate, b: Coordinate) -> float: # Length of a line segment\n",
        "    return math.sqrt((a.x-b.x)**2 + (a.y-b.y)**2)\n",
        "  def getPerimeter(self) -> float:\n",
        "    if len(self.points) == 0:\n",
        "      return 0.\n",
        "    perimeter = 0.\n",
        "    previous = self.points[0]\n",
        "    for i in range(1, len(self.points)):\n",
        "      current = self.points[i]\n",
        "      perimeter += self.getSegmentLength(previous, current) # The perimeter is the sum of the length of line segments\n",
        "      previous = current\n",
        "    return perimeter + self.getSegmentLength(previous, self.points[0])\n",
        "\n",
        "p1 = Polygon()\n",
        "p1.addCoordinate(Coordinate(0, 0))\n",
        "p1.addCoordinate(Coordinate(2, 0))\n",
        "p1.addCoordinate(Coordinate(2, 2))\n",
        "p1.addCoordinate(Coordinate(0, 2))\n",
        "print(\"The perimeter of the polygon is: \", p1.getPerimeter())\n",
        "\n",
        "p2 = Polygon()\n",
        "p2.addCoordinate(Coordinate(1, 1))\n",
        "print(\"The perimeter of the polygon is: \", p2.getPerimeter())\n",
        "\n",
        "p3 = Polygon()\n",
        "print(\"The perimeter of the polygon is: \", p3.getPerimeter())"
      ],
      "metadata": {
        "colab": {
          "base_uri": "https://localhost:8080/"
        },
        "id": "0PT_m066J1HN",
        "outputId": "0b365254-c54f-4b56-87b5-e91cc15354c4"
      },
      "execution_count": null,
      "outputs": [
        {
          "output_type": "stream",
          "name": "stdout",
          "text": [
            "The perimeter of the polygon is:  8.0\n",
            "The perimeter of the polygon is:  0.0\n",
            "The perimeter of the polygon is:  0.0\n"
          ]
        }
      ]
    },
    {
      "cell_type": "markdown",
      "source": [
        "### SELF TEST\n",
        "\n",
        "> Create a *Triangle* class that stores the lengths of the three sides of a triangle. Elaborate methods to calculate the perimeter and [area](https://en.wikipedia.org/wiki/Heron%27s_formula) of triangles. Document the methods and the [class](https://realpython.com/documenting-python-code/) as well.\n",
        "\n"
      ],
      "metadata": {
        "id": "JeG_lBCIh2vY"
      }
    }
  ]
}