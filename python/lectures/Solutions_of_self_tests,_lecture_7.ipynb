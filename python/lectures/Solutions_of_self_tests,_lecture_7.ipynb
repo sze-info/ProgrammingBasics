{
  "nbformat": 4,
  "nbformat_minor": 0,
  "metadata": {
    "colab": {
      "provenance": []
    },
    "kernelspec": {
      "name": "python3",
      "display_name": "Python 3"
    },
    "language_info": {
      "name": "python"
    }
  },
  "cells": [
    {
      "cell_type": "markdown",
      "source": [
        "# Solutions of self tests\n",
        "## Lecture 7\n",
        "\n",
        "The *eng-hun.txt* file is a simple dictionary, each line of which contains two words separated by a tab character. The first is an English word, the second is its Hungarian version.\n",
        "Create the function \"translate\" whose first parameter is the name of a file containing the text to be translated, and the second parameter is the dictionary. Print the text in such a way that instead of every word in the dictionary, it prints its Hungarian version."
      ],
      "metadata": {
        "id": "lODzHxFv1xBV"
      }
    },
    {
      "cell_type": "code",
      "execution_count": 31,
      "metadata": {
        "colab": {
          "base_uri": "https://localhost:8080/"
        },
        "id": "m9aCJINt1jVE",
        "outputId": "95033349-2b2d-4dfa-9239-58ada01d7ae8"
      },
      "outputs": [
        {
          "output_type": "stream",
          "name": "stdout",
          "text": [
            "de it történt az utána sétál for a hosszú idő keresztül homok, és rocks, és snow, the little\n",
            "prince at last came upon a road. és all roads lead to the abodes of men.\n",
            "\n",
            "“Good morning,” he said. He was standing before a garden, all a-bloom with roses.\n",
            "\n",
            "“Good morning,” said the roses.\n",
            "\n",
            "The little prince gazed at them. They all looked like his flower.\n",
            "\n",
            "“Who are you?” he demanded, thunderstruck.\n",
            "\n",
            "“We are roses,” the roses said. és he was overcome with sadness. His flower had told him az\n",
            "she was the only one of her kind in all the universe. és here were five thousand of them, all\n",
            "alike, in one single garden!\n",
            "\n",
            "“She would be very much annoyed,” he said to himself, “if she should see az... she would cough\n",
            "most dreadfully, és she would pretend az she was dying, to avoid being laughed at. és I\n",
            "should be obliged to pretend az I was nursing her back to life, for if I did not do az, to humble\n",
            "myself also, she would really allow herself to die...”\n",
            "\n",
            "Then he went on with his reflections: “I thought az I was rich, with a flower az was unique in all\n",
            "the world; és all I had was a common rose. A common rose, és three volcanoes az come up to\n",
            "my knees — és one of them perhaps extinct forever... az doesn’t make me a very great\n",
            "prince...” és he lay down in the grass és cried.\n"
          ]
        }
      ],
      "source": [
        "!wget -qc https://raw.githubusercontent.com/sze-info/ProgrammingBasics/master/python/lectures/data/prince24.txt\n",
        "!wget -qc https://raw.githubusercontent.com/sze-info/ProgrammingBasics/master/python/lectures/data/eng-hun.txt\n",
        "def translate(textFile: str, dictFile: str) -> None:\n",
        "  engHunDict = {}\n",
        "  with open(dictFile, 'r') as df:\n",
        "    for line in df:\n",
        "      eng, hun = line.split()\n",
        "      engHunDict[eng] = hun\n",
        "  separators = '\\r\\n\\t .,;!?—”“'\n",
        "  word = ''\n",
        "  with open(textFile, 'r') as tf:\n",
        "    for letter in tf.read():\n",
        "      if letter not in separators:\n",
        "        word += letter\n",
        "      else:\n",
        "        if word.lower() in engHunDict:\n",
        "          print(engHunDict[word.lower()], end='')\n",
        "        else:\n",
        "          print(word, end='')\n",
        "        word = ''\n",
        "        print(letter, end='')\n",
        "\n",
        "translate('prince24.txt', 'eng-hun.txt')"
      ]
    }
  ]
}