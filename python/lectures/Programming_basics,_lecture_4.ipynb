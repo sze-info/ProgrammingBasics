{
  "nbformat": 4,
  "nbformat_minor": 0,
  "metadata": {
    "colab": {
      "provenance": []
    },
    "kernelspec": {
      "name": "python3",
      "display_name": "Python 3"
    },
    "language_info": {
      "name": "python"
    }
  },
  "cells": [
    {
      "cell_type": "markdown",
      "source": [
        "# Collections\n",
        "\n",
        "Complex data structures that can be used to store a group of data.\n",
        "\n",
        "## Tuple\n",
        "* preserves the order of elements\n",
        "* allows repetition\n",
        "* stored items can be selected by indexing\n",
        "* the type of elements may be different\n",
        "* read only\n",
        "* search can only be done serially (O(n))"
      ],
      "metadata": {
        "id": "jXO5Q3VpMMS-"
      }
    },
    {
      "cell_type": "code",
      "execution_count": 1,
      "metadata": {
        "colab": {
          "base_uri": "https://localhost:8080/"
        },
        "id": "ouConHzcLjLV",
        "outputId": "45b9e530-b873-4768-ccdf-cdceb7ff12f2"
      },
      "outputs": [
        {
          "output_type": "stream",
          "name": "stdout",
          "text": [
            "<class 'tuple'>\n",
            "size of t:  3\n",
            "42 3.14 kitten "
          ]
        }
      ],
      "source": [
        "t = (42, 3.14, 'kitten') # 3 element tuple\n",
        "print(type(t))\n",
        "print('size of t: ', len(t))\n",
        "i = 0\n",
        "while i < len(t):\n",
        "  print(t[i], end=' ') # the index of the 1st item is 0\n",
        "  i += 1"
      ]
    },
    {
      "cell_type": "code",
      "source": [
        "t[0] = 'something else' # tuples are read only"
      ],
      "metadata": {
        "colab": {
          "base_uri": "https://localhost:8080/",
          "height": 174
        },
        "id": "Y-6spVIdND81",
        "outputId": "d8ec3e53-c2df-46cb-e119-ca3dd9b2f237"
      },
      "execution_count": 3,
      "outputs": [
        {
          "output_type": "error",
          "ename": "TypeError",
          "evalue": "ignored",
          "traceback": [
            "\u001b[0;31m---------------------------------------------------------------------------\u001b[0m",
            "\u001b[0;31mTypeError\u001b[0m                                 Traceback (most recent call last)",
            "\u001b[0;32m<ipython-input-3-e10fd085345f>\u001b[0m in \u001b[0;36m<module>\u001b[0;34m\u001b[0m\n\u001b[0;32m----> 1\u001b[0;31m \u001b[0mt\u001b[0m\u001b[0;34m[\u001b[0m\u001b[0;36m0\u001b[0m\u001b[0;34m]\u001b[0m \u001b[0;34m=\u001b[0m \u001b[0;34m'something else'\u001b[0m \u001b[0;31m# tuples are read only\u001b[0m\u001b[0;34m\u001b[0m\u001b[0;34m\u001b[0m\u001b[0m\n\u001b[0m",
            "\u001b[0;31mTypeError\u001b[0m: 'tuple' object does not support item assignment"
          ]
        }
      ]
    },
    {
      "cell_type": "code",
      "source": [
        "print(t[3]) # index out of range"
      ],
      "metadata": {
        "colab": {
          "base_uri": "https://localhost:8080/",
          "height": 174
        },
        "id": "xqW7YR1aNPS1",
        "outputId": "3040c36b-587b-4cb1-fb37-d6154a4d4d17"
      },
      "execution_count": 4,
      "outputs": [
        {
          "output_type": "error",
          "ename": "IndexError",
          "evalue": "ignored",
          "traceback": [
            "\u001b[0;31m---------------------------------------------------------------------------\u001b[0m",
            "\u001b[0;31mIndexError\u001b[0m                                Traceback (most recent call last)",
            "\u001b[0;32m<ipython-input-4-eebb080cce14>\u001b[0m in \u001b[0;36m<module>\u001b[0;34m\u001b[0m\n\u001b[0;32m----> 1\u001b[0;31m \u001b[0mprint\u001b[0m\u001b[0;34m(\u001b[0m\u001b[0mt\u001b[0m\u001b[0;34m[\u001b[0m\u001b[0;36m3\u001b[0m\u001b[0;34m]\u001b[0m\u001b[0;34m)\u001b[0m \u001b[0;31m# index out of range\u001b[0m\u001b[0;34m\u001b[0m\u001b[0;34m\u001b[0m\u001b[0m\n\u001b[0m",
            "\u001b[0;31mIndexError\u001b[0m: tuple index out of range"
          ]
        }
      ]
    },
    {
      "cell_type": "code",
      "source": [
        "print(t[-1]) # negative index: -1 --> the 1st one from behind\n",
        "t2 = () # empty tuple\n",
        "t3 = (1,) # 1 element tuple\n",
        "t4 = (1) # not a tuple, but an int in parentheses\n",
        "print(type(t2), type(t3), type(t4))"
      ],
      "metadata": {
        "colab": {
          "base_uri": "https://localhost:8080/"
        },
        "id": "ys4jgInHNXDr",
        "outputId": "3ee91424-72a5-4b81-842d-c407028831c2"
      },
      "execution_count": 5,
      "outputs": [
        {
          "output_type": "stream",
          "name": "stdout",
          "text": [
            "kitten\n",
            "<class 'tuple'> <class 'tuple'> <class 'int'>\n"
          ]
        }
      ]
    },
    {
      "cell_type": "code",
      "source": [
        "t = (42, 3.14, 'kitten')\n",
        "print('id of t: ', id(t))\n",
        "t += (True, None) # instead of modifying the existing tuple, a new one is created (tuples are immutable objects)\n",
        "print('id of t: ', id(t))\n",
        "print(t)"
      ],
      "metadata": {
        "colab": {
          "base_uri": "https://localhost:8080/"
        },
        "id": "Q3CgHpGoOFze",
        "outputId": "ec0226fd-f5e6-46b9-e573-4eb9ab12ae8e"
      },
      "execution_count": 6,
      "outputs": [
        {
          "output_type": "stream",
          "name": "stdout",
          "text": [
            "id of t:  140230215337408\n",
            "id of t:  140230215715472\n",
            "(42, 3.14, 'kitten', True, None)\n"
          ]
        }
      ]
    },
    {
      "cell_type": "code",
      "source": [
        "backpack = ('tea', 'sandwiches', 'swiss army knife', 'phone', 'keys', 'wallet')\n",
        "thing = input('What are you searching for? ')\n",
        "if thing in backpack: # content test\n",
        "  print('Relax, you put it in the backpack.')\n",
        "else:\n",
        "  print('Oops, missed that!')"
      ],
      "metadata": {
        "colab": {
          "base_uri": "https://localhost:8080/"
        },
        "id": "yyRsqbmMOgIA",
        "outputId": "bf12b549-7a8f-4a9c-dff0-b543ecadf06a"
      },
      "execution_count": 7,
      "outputs": [
        {
          "output_type": "stream",
          "name": "stdout",
          "text": [
            "What are you searching for? handkerchief\n",
            "Oops, missed that!\n"
          ]
        }
      ]
    },
    {
      "cell_type": "markdown",
      "source": [
        "Determining the minimum, maximum and average of numbers stored in a tuple"
      ],
      "metadata": {
        "id": "wGZcHcjJPfVe"
      }
    },
    {
      "cell_type": "code",
      "source": [
        "numbers = (1, 3, 2, 4)\n",
        "smallest = greatest = sum = numbers[0]\n",
        "i = 1\n",
        "while i < len(numbers):\n",
        "  if numbers[i] < smallest:\n",
        "    smallest = numbers[i]\n",
        "  if numbers[i] > greatest:\n",
        "    greatest = numbers[i]\n",
        "  sum += numbers[i]\n",
        "  i += 1\n",
        "print('The smallest number:', smallest)\n",
        "print('The geatest number:', greatest)\n",
        "print(f'The average (arithmetic mean): {sum / len(numbers):.2f}')"
      ],
      "metadata": {
        "colab": {
          "base_uri": "https://localhost:8080/"
        },
        "id": "kRG612gOPmRp",
        "outputId": "b4184b50-4d02-4196-e506-eeff8910d367"
      },
      "execution_count": 9,
      "outputs": [
        {
          "output_type": "stream",
          "name": "stdout",
          "text": [
            "The smallest number: 1\n",
            "The geatest number: 4\n",
            "The average (arithmetic mean): 2.50\n"
          ]
        }
      ]
    },
    {
      "cell_type": "markdown",
      "source": [
        "[The statistics module](https://docs.python.org/3/library/statistics.html)"
      ],
      "metadata": {
        "id": "yNynnmkvQH-m"
      }
    },
    {
      "cell_type": "code",
      "source": [
        "import statistics as stat\n",
        "print('Determining the minimum, maximum and average of numbers')\n",
        "print('Enter non-negative numbers! Exit to a negative value.')\n",
        "numbers = ()\n",
        "while True:\n",
        "  number = float(input('Next number: '))\n",
        "  if number < 0.:\n",
        "    break\n",
        "  numbers += (number,)\n",
        "  #numbers += number # only tuples can be concatenated, a new item cannot be included this way\n",
        "print(f'Minimum: {min(numbers)}, maximum: {max(numbers)}, average: {stat.mean(numbers):.2f}')"
      ],
      "metadata": {
        "colab": {
          "base_uri": "https://localhost:8080/"
        },
        "id": "LloUhxTcQatu",
        "outputId": "8b77e6b0-2d7c-4622-8b79-ae1dec41ecda"
      },
      "execution_count": 10,
      "outputs": [
        {
          "output_type": "stream",
          "name": "stdout",
          "text": [
            "Determining the minimum, maximum and average of numbers\n",
            "Enter non-negative numbers! Exit to a negative value.\n",
            "Next number: 1\n",
            "Next number: 3\n",
            "Next number: 2\n",
            "Next number: 4\n",
            "Next number: -1\n",
            "Minimum: 1.0, maximum: 4.0, average: 2.50\n"
          ]
        }
      ]
    },
    {
      "cell_type": "markdown",
      "source": [
        "## Lists\n",
        "\n",
        "Similar to tuples, but their content can be modified (mutable)"
      ],
      "metadata": {
        "id": "AGQfZV3sRWWq"
      }
    },
    {
      "cell_type": "code",
      "source": [
        "myList = [42, 3.14, 'kitten'] # 3 element list\n",
        "print(type(myList))\n",
        "myList[0] = 'something else' # a list can be modified\n",
        "print('id of the list: ', id(myList))\n",
        "myList += ['Fred']\n",
        "print('id of the list: ', id(myList))\n",
        "print('Content: ', myList)\n",
        "myList += 'Wilma' # add the string letter by letter\n",
        "print('Content: ', myList)\n",
        "myList = myList[:-len('Wilma')] # slicing can be used here, too\n",
        "myList.append('Wilma')\n",
        "print('Content: ', myList)\n",
        "myList.insert(0, 'Dino') # insertion in front of the element with index 0\n",
        "print('Content: ', myList)"
      ],
      "metadata": {
        "colab": {
          "base_uri": "https://localhost:8080/"
        },
        "id": "uTa6_cTPRiOx",
        "outputId": "904b57e9-bed5-4225-f4d2-042baa6f8f84"
      },
      "execution_count": 11,
      "outputs": [
        {
          "output_type": "stream",
          "name": "stdout",
          "text": [
            "<class 'list'>\n",
            "id of the list:  140229490532928\n",
            "id of the list:  140229490532928\n",
            "Content:  ['something else', 3.14, 'kitten', 'Fred']\n",
            "Content:  ['something else', 3.14, 'kitten', 'Fred', 'W', 'i', 'l', 'm', 'a']\n",
            "Content:  ['something else', 3.14, 'kitten', 'Fred', 'Wilma']\n",
            "Content:  ['Dino', 'something else', 3.14, 'kitten', 'Fred', 'Wilma']\n"
          ]
        }
      ]
    },
    {
      "cell_type": "markdown",
      "source": [
        "Reading numbers and then writing them out in reverse order"
      ],
      "metadata": {
        "id": "xuXr_mXmTISv"
      }
    },
    {
      "cell_type": "code",
      "source": [
        "count = int(input('How many numbers do you like to work with? '))\n",
        "numbers = []\n",
        "i = 0\n",
        "while i < count:\n",
        "  numbers.append(int(input('Next number: ')))\n",
        "  i += 1\n",
        "print('The entered numbers in reverse order:')\n",
        "i -= 1\n",
        "while i >= 0:\n",
        "  print(numbers[i])\n",
        "  i -= 1"
      ],
      "metadata": {
        "colab": {
          "base_uri": "https://localhost:8080/"
        },
        "id": "2C9DLqX2TO_A",
        "outputId": "34e34490-a34f-418e-97af-9d4eab106c52"
      },
      "execution_count": 12,
      "outputs": [
        {
          "output_type": "stream",
          "name": "stdout",
          "text": [
            "How many numbers do you like to work with? 4\n",
            "Next number: 1\n",
            "Next number: 2\n",
            "Next number: 3\n",
            "Next number: 4\n",
            "The entered numbers in reverse order:\n",
            "4\n",
            "3\n",
            "2\n",
            "1\n"
          ]
        }
      ]
    },
    {
      "cell_type": "markdown",
      "source": [
        "Lists can also be used as [stack](https://en.wikipedia.org/wiki/Stack_(abstract_data_type))-organized storage"
      ],
      "metadata": {
        "id": "U096pQbCTowx"
      }
    },
    {
      "cell_type": "code",
      "source": [
        "storage = []\n",
        "storage.append(1)\n",
        "storage.append(2)\n",
        "storage.append(3)\n",
        "print(storage.pop()) # it returns / removes the last element by default, but it can be altered\n",
        "print(storage.pop())\n",
        "print(storage.pop())"
      ],
      "metadata": {
        "colab": {
          "base_uri": "https://localhost:8080/"
        },
        "id": "0l9FEg5BT6b2",
        "outputId": "7385be7a-f1df-4a51-ccdc-6bfd2f738da9"
      },
      "execution_count": 13,
      "outputs": [
        {
          "output_type": "stream",
          "name": "stdout",
          "text": [
            "3\n",
            "2\n",
            "1\n"
          ]
        }
      ]
    },
    {
      "cell_type": "code",
      "source": [
        "count = int(input('How many numbers do you like to work with? '))\n",
        "numbers = []\n",
        "i = 0\n",
        "while i < count:\n",
        "  numbers.append(int(input('Next number: ')))\n",
        "  i += 1\n",
        "print('The entered numbers in reverse order:')\n",
        "# while len(numbers) > 0:\n",
        "# while len(numbers):\n",
        "while numbers:\n",
        "  print(numbers.pop())"
      ],
      "metadata": {
        "colab": {
          "base_uri": "https://localhost:8080/"
        },
        "id": "GKce0vYAUUs_",
        "outputId": "b6bb8369-b38c-491f-bc6a-bc8ca5a17ada"
      },
      "execution_count": 17,
      "outputs": [
        {
          "output_type": "stream",
          "name": "stdout",
          "text": [
            "How many numbers do you like to work with? 4\n",
            "Next number: 1\n",
            "Next number: 2\n",
            "Next number: 3\n",
            "Next number: 4\n",
            "The entered numbers in reverse order:\n",
            "4\n",
            "3\n",
            "2\n",
            "1\n"
          ]
        }
      ]
    },
    {
      "cell_type": "code",
      "source": [
        "colors = ['white', 'green']\n",
        "colors.insert(0, 'red') # insertion to specified position\n",
        "print(colors)\n",
        "colors.remove('green') # removing an item with given value (only the first occurrence of it)\n",
        "print(colors)\n",
        "del colors[-1] # negative index can be used -> removing the last item\n",
        "print(colors)"
      ],
      "metadata": {
        "colab": {
          "base_uri": "https://localhost:8080/"
        },
        "id": "PQeXOzYKVXEk",
        "outputId": "5bf5f425-7dc8-4e32-b596-5da1c67a6711"
      },
      "execution_count": 18,
      "outputs": [
        {
          "output_type": "stream",
          "name": "stdout",
          "text": [
            "['red', 'white', 'green']\n",
            "['red', 'white']\n",
            "['red']\n"
          ]
        }
      ]
    },
    {
      "cell_type": "code",
      "source": [
        "date = '02-03-2023'.split('-') # Makes a list based on the items of the splitted date (DD-MM-YYYY) string. The default separator is the space character.\n",
        "print(date)\n",
        "print('.'.join(date)) # concatenation, makes a string from the items of the list"
      ],
      "metadata": {
        "colab": {
          "base_uri": "https://localhost:8080/"
        },
        "id": "a417Lq1kWAun",
        "outputId": "72e982a9-ad36-46bb-a4cd-aa4a64683bee"
      },
      "execution_count": 20,
      "outputs": [
        {
          "output_type": "stream",
          "name": "stdout",
          "text": [
            "['02', '03', '2023']\n",
            "02.03.2023\n"
          ]
        }
      ]
    },
    {
      "cell_type": "markdown",
      "source": [
        "## for loop\n",
        "\n",
        "During each iteration, the next element of a sequence (string letters, tuple/list elements) can be processed.\n",
        "\n",
        "The sequence can also be generated with the range() function. The advantage of range is that you don't actually have to store each element of the interval, only the properties on the basis of which the elements of the interval can be produced are sufficient."
      ],
      "metadata": {
        "id": "kCdhtQGbXr-U"
      }
    },
    {
      "cell_type": "code",
      "source": [
        "# Generation of even integers without range() in the interval [0, 10).\n",
        "i = 0 # 1st argument of range()\n",
        "even = []\n",
        "while i < 10: # 2nd argument of range()\n",
        "  even.append(i)\n",
        "  i += 2 # 3rd argument of range\n",
        "print(even)"
      ],
      "metadata": {
        "colab": {
          "base_uri": "https://localhost:8080/"
        },
        "id": "8MDqsalwYJHq",
        "outputId": "bcd14bf8-e915-4853-b3e9-d691ee8ad3c2"
      },
      "execution_count": 21,
      "outputs": [
        {
          "output_type": "stream",
          "name": "stdout",
          "text": [
            "[0, 2, 4, 6, 8]\n"
          ]
        }
      ]
    },
    {
      "cell_type": "code",
      "source": [
        "print(list(range(0, 10, 2))) # range object: initial value, last value (not included), step size\n",
        "print(list(range(0, 10))) # the default initial value is 0, the step size is 1\n",
        "print(list(range(10)))"
      ],
      "metadata": {
        "colab": {
          "base_uri": "https://localhost:8080/"
        },
        "id": "T8UvL2F9YhC7",
        "outputId": "f5d9ae02-b198-4895-da46-5078da387379"
      },
      "execution_count": 22,
      "outputs": [
        {
          "output_type": "stream",
          "name": "stdout",
          "text": [
            "[0, 2, 4, 6, 8]\n",
            "[0, 1, 2, 3, 4, 5, 6, 7, 8, 9]\n",
            "[0, 1, 2, 3, 4, 5, 6, 7, 8, 9]\n"
          ]
        }
      ]
    },
    {
      "cell_type": "code",
      "source": [
        "even = list(range(0, 10, 2))\n",
        "\n",
        "# iterating over the elements with while, indexing\n",
        "i = 0\n",
        "while i < len(even):\n",
        "  print(even[i], end=' ')\n",
        "  i += 1\n",
        "print()\n",
        "\n",
        "# iterating with for, indexing\n",
        "for i in range(len(even)):\n",
        "  print(even[i], end=' ')\n",
        "print()\n",
        "\n",
        "# iterating with for, without indexing\n",
        "for number in even:\n",
        "  print(number, end=' ')"
      ],
      "metadata": {
        "colab": {
          "base_uri": "https://localhost:8080/"
        },
        "id": "V_XP8COqZELF",
        "outputId": "59da5a7a-5ed8-471b-d82d-c1b2b1592cf5"
      },
      "execution_count": 23,
      "outputs": [
        {
          "output_type": "stream",
          "name": "stdout",
          "text": [
            "0 2 4 6 8 \n",
            "0 2 4 6 8 \n",
            "0 2 4 6 8 "
          ]
        }
      ]
    },
    {
      "cell_type": "code",
      "source": [
        "count = int(input('How many numbers do you like to work with? '))\n",
        "numbers = []\n",
        "for i in range(1, count+1):\n",
        "  numbers.append(int(input(f'Value #{i}: ')))\n",
        "print('The entered numbers in reverse order:')\n",
        "for i in range(len(numbers)-1, -1, -1):\n",
        "  print(numbers[i])"
      ],
      "metadata": {
        "colab": {
          "base_uri": "https://localhost:8080/"
        },
        "id": "GoTBztd1ZnHj",
        "outputId": "8fc7704e-028b-4e56-9b51-fecd9794f732"
      },
      "execution_count": 24,
      "outputs": [
        {
          "output_type": "stream",
          "name": "stdout",
          "text": [
            "How many numbers do you like to work with? 4\n",
            "Value #1: 1\n",
            "Value #2: 2\n",
            "Value #3: 3\n",
            "Value #4: 4\n",
            "The entered numbers in reverse order:\n",
            "4\n",
            "3\n",
            "2\n",
            "1\n"
          ]
        }
      ]
    },
    {
      "cell_type": "code",
      "source": [
        "count = int(input('How many numbers do you like to work with? '))\n",
        "numbers = []\n",
        "for i in range(1, count+1):\n",
        "  numbers.append(int(input(f'Value #{i}: ')))\n",
        "print('The entered numbers in reverse order:')\n",
        "numbers.reverse() # reversing the order of items in the list\n",
        "for number in numbers:\n",
        "  print(number)"
      ],
      "metadata": {
        "colab": {
          "base_uri": "https://localhost:8080/"
        },
        "id": "FRj1Dgy-aNKT",
        "outputId": "a80c5613-a2a4-4bb9-db9a-e33ed9371c62"
      },
      "execution_count": 25,
      "outputs": [
        {
          "output_type": "stream",
          "name": "stdout",
          "text": [
            "How many numbers do you like to work with? 4\n",
            "Value #1: 1\n",
            "Value #2: 2\n",
            "Value #3: 3\n",
            "Value #4: 4\n",
            "The entered numbers in reverse order:\n",
            "4\n",
            "3\n",
            "2\n",
            "1\n"
          ]
        }
      ]
    },
    {
      "cell_type": "markdown",
      "source": [
        "range() can only be used with integers!"
      ],
      "metadata": {
        "id": "vmmRBWd5alwZ"
      }
    },
    {
      "cell_type": "code",
      "source": [
        "for f in range(0, 10, 0.5):\n",
        "  print(f)"
      ],
      "metadata": {
        "colab": {
          "base_uri": "https://localhost:8080/",
          "height": 193
        },
        "id": "bO61l3vXaq0f",
        "outputId": "6f03d23f-39ef-48ac-edb2-aba4449c1ed0"
      },
      "execution_count": 26,
      "outputs": [
        {
          "output_type": "error",
          "ename": "TypeError",
          "evalue": "ignored",
          "traceback": [
            "\u001b[0;31m---------------------------------------------------------------------------\u001b[0m",
            "\u001b[0;31mTypeError\u001b[0m                                 Traceback (most recent call last)",
            "\u001b[0;32m<ipython-input-26-ea3c49cb7e9d>\u001b[0m in \u001b[0;36m<module>\u001b[0;34m\u001b[0m\n\u001b[0;32m----> 1\u001b[0;31m \u001b[0;32mfor\u001b[0m \u001b[0mf\u001b[0m \u001b[0;32min\u001b[0m \u001b[0mrange\u001b[0m\u001b[0;34m(\u001b[0m\u001b[0;36m0\u001b[0m\u001b[0;34m,\u001b[0m \u001b[0;36m10\u001b[0m\u001b[0;34m,\u001b[0m \u001b[0;36m0.5\u001b[0m\u001b[0;34m)\u001b[0m\u001b[0;34m:\u001b[0m\u001b[0;34m\u001b[0m\u001b[0;34m\u001b[0m\u001b[0m\n\u001b[0m\u001b[1;32m      2\u001b[0m   \u001b[0mprint\u001b[0m\u001b[0;34m(\u001b[0m\u001b[0mf\u001b[0m\u001b[0;34m)\u001b[0m\u001b[0;34m\u001b[0m\u001b[0;34m\u001b[0m\u001b[0m\n",
            "\u001b[0;31mTypeError\u001b[0m: 'float' object cannot be interpreted as an integer"
          ]
        }
      ]
    },
    {
      "cell_type": "code",
      "source": [
        "for f in range(0, 20):\n",
        "  print(f * 0.5)"
      ],
      "metadata": {
        "colab": {
          "base_uri": "https://localhost:8080/"
        },
        "id": "IpAo0B1Mawe-",
        "outputId": "bd204189-5c6b-467e-9499-7ee36eceafa5"
      },
      "execution_count": 30,
      "outputs": [
        {
          "output_type": "stream",
          "name": "stdout",
          "text": [
            "0.0\n",
            "0.5\n",
            "1.0\n",
            "1.5\n",
            "2.0\n",
            "2.5\n",
            "3.0\n",
            "3.5\n",
            "4.0\n",
            "4.5\n",
            "5.0\n",
            "5.5\n",
            "6.0\n",
            "6.5\n",
            "7.0\n",
            "7.5\n",
            "8.0\n",
            "8.5\n",
            "9.0\n",
            "9.5\n"
          ]
        }
      ]
    },
    {
      "cell_type": "markdown",
      "source": [
        "## Sorting the elements of a list\n",
        "\n",
        "The sequence of two elements can be easily ensured:"
      ],
      "metadata": {
        "id": "SQTveo5ibJ7A"
      }
    },
    {
      "cell_type": "code",
      "source": [
        "numbers = [3, 2]\n",
        "if numbers[1] < numbers[0]:\n",
        "  swap = numbers[0]\n",
        "  numbers[0] = numbers[1]\n",
        "  numbers[1] = swap\n",
        "print('Numbers after sorting:', numbers)"
      ],
      "metadata": {
        "colab": {
          "base_uri": "https://localhost:8080/"
        },
        "id": "pouYec6FbNpT",
        "outputId": "210bc6dd-816f-4a14-bfbb-86cb183cc8f9"
      },
      "execution_count": 31,
      "outputs": [
        {
          "output_type": "stream",
          "name": "stdout",
          "text": [
            "Numbers after sorting: [2, 3]\n"
          ]
        }
      ]
    },
    {
      "cell_type": "markdown",
      "source": [
        "Even the order of three numbers can be ensured relatively easily:"
      ],
      "metadata": {
        "id": "6xb4h_j2bdxX"
      }
    },
    {
      "cell_type": "code",
      "source": [
        "numbers = [3, 2, 1]\n",
        "if numbers[1] < numbers[0]:\n",
        "  swap = numbers[0]\n",
        "  numbers[0] = numbers[1]\n",
        "  numbers[1] = swap\n",
        "if numbers[2] < numbers[1]:\n",
        "  swap = numbers[1]\n",
        "  numbers[1] = numbers[2]\n",
        "  numbers[2] = swap\n",
        "if numbers[1] < numbers[0]:\n",
        "  swap = numbers[0]\n",
        "  numbers[0] = numbers[1]\n",
        "  numbers[1] = swap\n",
        "print('Numbers after sorting:', numbers)"
      ],
      "metadata": {
        "colab": {
          "base_uri": "https://localhost:8080/"
        },
        "id": "1_77jnSTblMR",
        "outputId": "08f565cf-5128-4c6d-ae3c-a1cfd39a12e9"
      },
      "execution_count": 32,
      "outputs": [
        {
          "output_type": "stream",
          "name": "stdout",
          "text": [
            "Numbers after sorting: [1, 2, 3]\n"
          ]
        }
      ]
    },
    {
      "cell_type": "markdown",
      "source": [
        "[Bubble sort](https://en.wikipedia.org/wiki/Bubble_sort)"
      ],
      "metadata": {
        "id": "W4-nejVEcDYT"
      }
    },
    {
      "cell_type": "code",
      "source": [
        "numbers = [23, -5, 9, 7, 42, 123, 99, 666, -76, 12]\n",
        "print('Initial state:', numbers)\n",
        "for back in range(len(numbers)-1, 1, -1):\n",
        "  for front in range(back):\n",
        "    if numbers[front] > numbers[front+1]:\n",
        "      swap = numbers[front]\n",
        "      numbers[front] = numbers[front+1]\n",
        "      numbers[front+1] = swap\n",
        "      print('Current state:', numbers)\n",
        "  print(f'One item ({numbers[back]}) is now on it\\'s final place!')\n",
        "print('Numbers after sorting:', numbers)"
      ],
      "metadata": {
        "colab": {
          "base_uri": "https://localhost:8080/"
        },
        "id": "1LeJWlrpcKjl",
        "outputId": "5df35522-23d5-4140-fee3-98e9e9bbba5a"
      },
      "execution_count": 33,
      "outputs": [
        {
          "output_type": "stream",
          "name": "stdout",
          "text": [
            "Initial state: [23, -5, 9, 7, 42, 123, 99, 666, -76, 12]\n",
            "Current state: [-5, 23, 9, 7, 42, 123, 99, 666, -76, 12]\n",
            "Current state: [-5, 9, 23, 7, 42, 123, 99, 666, -76, 12]\n",
            "Current state: [-5, 9, 7, 23, 42, 123, 99, 666, -76, 12]\n",
            "Current state: [-5, 9, 7, 23, 42, 99, 123, 666, -76, 12]\n",
            "Current state: [-5, 9, 7, 23, 42, 99, 123, -76, 666, 12]\n",
            "Current state: [-5, 9, 7, 23, 42, 99, 123, -76, 12, 666]\n",
            "One item (666) is now on it's final place!\n",
            "Current state: [-5, 7, 9, 23, 42, 99, 123, -76, 12, 666]\n",
            "Current state: [-5, 7, 9, 23, 42, 99, -76, 123, 12, 666]\n",
            "Current state: [-5, 7, 9, 23, 42, 99, -76, 12, 123, 666]\n",
            "One item (123) is now on it's final place!\n",
            "Current state: [-5, 7, 9, 23, 42, -76, 99, 12, 123, 666]\n",
            "Current state: [-5, 7, 9, 23, 42, -76, 12, 99, 123, 666]\n",
            "One item (99) is now on it's final place!\n",
            "Current state: [-5, 7, 9, 23, -76, 42, 12, 99, 123, 666]\n",
            "Current state: [-5, 7, 9, 23, -76, 12, 42, 99, 123, 666]\n",
            "One item (42) is now on it's final place!\n",
            "Current state: [-5, 7, 9, -76, 23, 12, 42, 99, 123, 666]\n",
            "Current state: [-5, 7, 9, -76, 12, 23, 42, 99, 123, 666]\n",
            "One item (23) is now on it's final place!\n",
            "Current state: [-5, 7, -76, 9, 12, 23, 42, 99, 123, 666]\n",
            "One item (12) is now on it's final place!\n",
            "Current state: [-5, -76, 7, 9, 12, 23, 42, 99, 123, 666]\n",
            "One item (9) is now on it's final place!\n",
            "Current state: [-76, -5, 7, 9, 12, 23, 42, 99, 123, 666]\n",
            "One item (7) is now on it's final place!\n",
            "Numbers after sorting: [-76, -5, 7, 9, 12, 23, 42, 99, 123, 666]\n"
          ]
        }
      ]
    },
    {
      "cell_type": "markdown",
      "source": [
        "Arrange 10 integers in ascending order! (Built-in sorting algorithm)"
      ],
      "metadata": {
        "id": "UqaET34ZdEXX"
      }
    },
    {
      "cell_type": "code",
      "source": [
        "numbers = [23, -5, 9, 7, 42, 123, 99, 666, -76, 12]\n",
        "numbers.sort()\n",
        "print('Numbers after sorting:', numbers)"
      ],
      "metadata": {
        "colab": {
          "base_uri": "https://localhost:8080/"
        },
        "id": "AAfvojTVdHEe",
        "outputId": "ae1f42cf-ba1c-46e6-98e0-7eadfa416fee"
      },
      "execution_count": 34,
      "outputs": [
        {
          "output_type": "stream",
          "name": "stdout",
          "text": [
            "Numbers after sorting: [-76, -5, 7, 9, 12, 23, 42, 99, 123, 666]\n"
          ]
        }
      ]
    },
    {
      "cell_type": "markdown",
      "source": [
        "Let's compare the running time of the two solutions when sorting 10,000 random-generated numbers!"
      ],
      "metadata": {
        "id": "mRl75DQ7dS3W"
      }
    },
    {
      "cell_type": "code",
      "source": [
        "import time, random\n",
        "numbers = []\n",
        "for i in range(10_000):\n",
        "  numbers.append(random.randint(-100_000, +100_000))\n",
        "start = time.time()\n",
        "for back in range(len(numbers)-1, 1, -1):\n",
        "  for front in range(back):\n",
        "    if numbers[front]>numbers[front+1]:\n",
        "      swap = numbers[front]\n",
        "      numbers[front] = numbers[front+1]\n",
        "      numbers[front+1] = swap\n",
        "finish = time.time()\n",
        "print(f'Duration of sorting: {finish-start:.2f} sec.')"
      ],
      "metadata": {
        "colab": {
          "base_uri": "https://localhost:8080/"
        },
        "id": "GYk7lE2ddXNG",
        "outputId": "70511978-d183-4616-bfc5-67babd30c9df"
      },
      "execution_count": 35,
      "outputs": [
        {
          "output_type": "stream",
          "name": "stdout",
          "text": [
            "Duration of sorting: 18.48 sec.\n"
          ]
        }
      ]
    },
    {
      "cell_type": "code",
      "source": [
        "import time, random\n",
        "numbers = []\n",
        "for i in range(10_000):\n",
        "  numbers.append(random.randint(-100_000, +100_000))\n",
        "start = time.time()\n",
        "numbers.sort()\n",
        "finish = time.time()\n",
        "print(f'Duration of sorting: {finish-start:.2f} sec.')"
      ],
      "metadata": {
        "colab": {
          "base_uri": "https://localhost:8080/"
        },
        "id": "jzJbDIyod5Cl",
        "outputId": "b6f00f34-e1e2-4adc-8f48-1559983b81fa"
      },
      "execution_count": 36,
      "outputs": [
        {
          "output_type": "stream",
          "name": "stdout",
          "text": [
            "Duration of sorting: 0.00 sec.\n"
          ]
        }
      ]
    },
    {
      "cell_type": "markdown",
      "source": [
        "An alternative to the sort method is sorted. It does not alter the original list."
      ],
      "metadata": {
        "id": "8cvjGoNUeKs_"
      }
    },
    {
      "cell_type": "code",
      "source": [
        "numbers = [23, -5, 9, 7, 42, 123, 99, 666, -76, 12]\n",
        "ordered = sorted(numbers)\n",
        "print('Numbers before sorting:', numbers)\n",
        "print('Numbers after sorting:', ordered)"
      ],
      "metadata": {
        "colab": {
          "base_uri": "https://localhost:8080/"
        },
        "id": "FsBatv_geWLY",
        "outputId": "1ab6bd5c-e12b-444d-a91f-e6b06857e9db"
      },
      "execution_count": 37,
      "outputs": [
        {
          "output_type": "stream",
          "name": "stdout",
          "text": [
            "Numbers before sorting: [23, -5, 9, 7, 42, 123, 99, 666, -76, 12]\n",
            "Numbers after sorting: [-76, -5, 7, 9, 12, 23, 42, 99, 123, 666]\n"
          ]
        }
      ]
    },
    {
      "cell_type": "markdown",
      "source": [
        "Arrange the numbers in descending order!"
      ],
      "metadata": {
        "id": "Hb1n2rBFenWF"
      }
    },
    {
      "cell_type": "code",
      "source": [
        "numbers = [23, -5, 9, 7, 42, 123, 99, 666, -76, 12]\n",
        "numbers.sort(reverse=True)\n",
        "print('Numbers after sorting:', numbers)"
      ],
      "metadata": {
        "colab": {
          "base_uri": "https://localhost:8080/"
        },
        "id": "aDxmJe3peoq2",
        "outputId": "2e5dd3ed-07af-4afc-cd2f-a3368ead8fb9"
      },
      "execution_count": 38,
      "outputs": [
        {
          "output_type": "stream",
          "name": "stdout",
          "text": [
            "Numbers after sorting: [666, 123, 99, 42, 23, 12, 9, 7, -5, -76]\n"
          ]
        }
      ]
    },
    {
      "cell_type": "markdown",
      "source": [
        "It is also possible to sort textual data"
      ],
      "metadata": {
        "id": "ihAvDV3We43P"
      }
    },
    {
      "cell_type": "code",
      "source": [
        "names = ['James', 'Robert', 'John', 'Mary', 'Patricia', 'Jennifer']\n",
        "names.sort()\n",
        "print('Names after sorting:', names)"
      ],
      "metadata": {
        "colab": {
          "base_uri": "https://localhost:8080/"
        },
        "id": "ESv4hPvHe_kn",
        "outputId": "ccd196d6-383d-4840-bdaf-b82247508240"
      },
      "execution_count": 39,
      "outputs": [
        {
          "output_type": "stream",
          "name": "stdout",
          "text": [
            "Names after sorting: ['James', 'Jennifer', 'John', 'Mary', 'Patricia', 'Robert']\n"
          ]
        }
      ]
    },
    {
      "cell_type": "markdown",
      "source": [
        "The sort order is based on the Unicode code value of the letters, not the alphabetical order!"
      ],
      "metadata": {
        "id": "pYP65SMefiaE"
      }
    },
    {
      "cell_type": "code",
      "source": [
        "names = ['Ádám', 'András', 'Éva', 'Elemér', 'Ödön', 'Olivér']\n",
        "names.sort()\n",
        "print('Names after sorting:', names)"
      ],
      "metadata": {
        "colab": {
          "base_uri": "https://localhost:8080/"
        },
        "id": "0Z7aaezQfypL",
        "outputId": "54e1d46f-a3a2-4c51-8963-5f25a4e6fff2"
      },
      "execution_count": 40,
      "outputs": [
        {
          "output_type": "stream",
          "name": "stdout",
          "text": [
            "Names after sorting: ['András', 'Elemér', 'Olivér', 'Ádám', 'Éva', 'Ödön']\n"
          ]
        }
      ]
    },
    {
      "cell_type": "markdown",
      "source": [
        "Solution: comparison according to locale (although some letters are still considered the same)"
      ],
      "metadata": {
        "id": "I0VbTWedf-gD"
      }
    },
    {
      "cell_type": "code",
      "source": [
        "#!apt install language-pack-hu\n",
        "#!dpkg-reconfigure locales\n",
        "#!locale -a\n",
        "import locale, os\n",
        "#os.kill(os.getpid(), 9)\n",
        "\n",
        "names = ['Ádám', 'András', 'Éva', 'Elemér', 'Ödön', 'Olivér']\n",
        "locale.setlocale(locale.LC_ALL, 'hu_HU.utf8')\n",
        "names.sort(key=locale.strxfrm)\n",
        "print('Names after sorting:', names)"
      ],
      "metadata": {
        "colab": {
          "base_uri": "https://localhost:8080/"
        },
        "id": "QPJ4_teNgBsb",
        "outputId": "36252780-b188-4ca5-a05f-c7f60845bc7a"
      },
      "execution_count": 1,
      "outputs": [
        {
          "output_type": "stream",
          "name": "stdout",
          "text": [
            "Names after sorting: ['Ádám', 'András', 'Elemér', 'Éva', 'Olivér', 'Ödön']\n"
          ]
        }
      ]
    },
    {
      "cell_type": "markdown",
      "source": [
        "## Two-dimensional lists: every element of a one-dimensional list is another one-dimensional list\n",
        "\n",
        "Let's create the [transpose](https://en.wikipedia.org/wiki/Transpose) of a matrix!"
      ],
      "metadata": {
        "id": "ArAX00bPgoki"
      }
    },
    {
      "cell_type": "code",
      "source": [
        "# reading a matrix\n",
        "row = int(input('How many rows does the matrix have? '))\n",
        "column = int(input('How many columns does the matrix have? '))\n",
        "mtx = []\n",
        "for r in range(row):\n",
        "  newRow = []\n",
        "  for c in range(column):\n",
        "    newRow.append(float(input(f'[{r+1}][{c+1}]: ')))\n",
        "  mtx.append(newRow)\n",
        "# transpose\n",
        "tr = []\n",
        "for c in range(column):\n",
        "  newRow = []\n",
        "  for r in range(row):\n",
        "    newRow.append(mtx[r][c])\n",
        "  tr.append(newRow)\n",
        "# printing\n",
        "print('Original:', mtx)\n",
        "print('Transposed:', tr)"
      ],
      "metadata": {
        "colab": {
          "base_uri": "https://localhost:8080/"
        },
        "id": "710IjFvPhFyE",
        "outputId": "f87a43a8-3b50-4a1b-f47e-83e46515451a"
      },
      "execution_count": 2,
      "outputs": [
        {
          "output_type": "stream",
          "name": "stdout",
          "text": [
            "How many rows does the matrix have? 2\n",
            "How many columns does the matrix have? 2\n",
            "[1][1]: 11\n",
            "[1][2]: 12\n",
            "[2][1]: 21\n",
            "[2][2]: 22\n",
            "Original: [[11.0, 12.0], [21.0, 22.0]]\n",
            "Transposed: [[11.0, 21.0], [12.0, 22.0]]\n"
          ]
        }
      ]
    },
    {
      "cell_type": "markdown",
      "source": [
        "Notice the difference between the operation of the append() and extend() methods!"
      ],
      "metadata": {
        "id": "X6yrugeThyNh"
      }
    },
    {
      "cell_type": "code",
      "source": [
        "even = [0, 2, 4]\n",
        "odd = [1, 3, 5]\n",
        "numbers = []\n",
        "numbers.append(even)\n",
        "print(numbers)\n",
        "numbers.extend(odd)\n",
        "print(numbers)"
      ],
      "metadata": {
        "colab": {
          "base_uri": "https://localhost:8080/"
        },
        "id": "jvad16Pth1Pi",
        "outputId": "1791b185-e45c-4463-d1dc-6945b8d93f90"
      },
      "execution_count": 3,
      "outputs": [
        {
          "output_type": "stream",
          "name": "stdout",
          "text": [
            "[[0, 2, 4]]\n",
            "[[0, 2, 4], 1, 3, 5]\n"
          ]
        }
      ]
    },
    {
      "cell_type": "code",
      "source": [
        "students = [\n",
        "  ['1Q2W3E', 'Strong Stephen'],\n",
        "  ['ASD123', 'Alga Rithem'],\n",
        "  ['LKJHGF', 'Dawn Bright']\n",
        "]\n",
        "print('Students of the course:')\n",
        "for s in students:\n",
        "  print(s[0], ':', s[1])"
      ],
      "metadata": {
        "colab": {
          "base_uri": "https://localhost:8080/"
        },
        "id": "0mDQ_h_KiG_G",
        "outputId": "66bc5e2d-59d3-4f85-e93a-ce94ce8b3bd4"
      },
      "execution_count": 5,
      "outputs": [
        {
          "output_type": "stream",
          "name": "stdout",
          "text": [
            "Students of the course:\n",
            "1Q2W3E : Strong Stephen\n",
            "ASD123 : Alga Rithem\n",
            "LKJHGF : Dawn Bright\n"
          ]
        }
      ]
    },
    {
      "cell_type": "markdown",
      "source": [
        "### Unpacking: loading sequence elements into simple variables"
      ],
      "metadata": {
        "id": "Io8S_Cd_jDdE"
      }
    },
    {
      "cell_type": "code",
      "source": [
        "a, (b, c) = (1, [2, (3, 4)])\n",
        "print(a)\n",
        "print(b)\n",
        "print(c)"
      ],
      "metadata": {
        "colab": {
          "base_uri": "https://localhost:8080/"
        },
        "id": "aTGYVixNjHXt",
        "outputId": "fd850c42-0275-42f6-c9fe-778e8a2678c0"
      },
      "execution_count": 6,
      "outputs": [
        {
          "output_type": "stream",
          "name": "stdout",
          "text": [
            "1\n",
            "2\n",
            "(3, 4)\n"
          ]
        }
      ]
    },
    {
      "cell_type": "code",
      "source": [
        "students = [\n",
        "  ['1Q2W3E', 'Strong Stephen'],\n",
        "  ['ASD123', 'Alga Rithem'],\n",
        "  ['LKJHGF', 'Dawn Bright']\n",
        "]\n",
        "print('Students of the course:')\n",
        "for neptun, name in students:\n",
        "  print(neptun, ':', name)"
      ],
      "metadata": {
        "colab": {
          "base_uri": "https://localhost:8080/"
        },
        "id": "NzfoRMbIjWZC",
        "outputId": "0e509fa6-26e2-489e-fdf2-3888dcf18ed1"
      },
      "execution_count": 7,
      "outputs": [
        {
          "output_type": "stream",
          "name": "stdout",
          "text": [
            "Students of the course:\n",
            "1Q2W3E : Strong Stephen\n",
            "ASD123 : Alga Rithem\n",
            "LKJHGF : Dawn Bright\n"
          ]
        }
      ]
    },
    {
      "cell_type": "code",
      "source": [
        "# swapping the contents of two variables without unpacking...\n",
        "a = 1\n",
        "b = 2\n",
        "swap = a\n",
        "a = b\n",
        "b = swap\n",
        "print('a =', a, 'b =', b)"
      ],
      "metadata": {
        "colab": {
          "base_uri": "https://localhost:8080/"
        },
        "id": "nvfa-nrUjiob",
        "outputId": "01e040c2-6de8-44ca-ff09-bc410bb57927"
      },
      "execution_count": 8,
      "outputs": [
        {
          "output_type": "stream",
          "name": "stdout",
          "text": [
            "a = 2 b = 1\n"
          ]
        }
      ]
    },
    {
      "cell_type": "code",
      "source": [
        "# ...and with unpacking even if the emphasis is not on \"real\" unpacking of sequence elements\n",
        "a = 1\n",
        "b = 2\n",
        "a, b = b, a\n",
        "print('a =', a, 'b =', b)"
      ],
      "metadata": {
        "colab": {
          "base_uri": "https://localhost:8080/"
        },
        "id": "ex-wp3wAjsib",
        "outputId": "86901e94-e823-4395-84a9-9837df0cfd5a"
      },
      "execution_count": 9,
      "outputs": [
        {
          "output_type": "stream",
          "name": "stdout",
          "text": [
            "a = 2 b = 1\n"
          ]
        }
      ]
    },
    {
      "cell_type": "code",
      "source": [
        "numbers = [23, -5, 9, 7, 42, 123, 99, 666, -76, 12]\n",
        "for back in range(len(numbers)-1, 0, -1):\n",
        "  for front in range(back):\n",
        "    if numbers[front] > numbers[front+1]:\n",
        "      numbers[front], numbers[front+1] = numbers[front+1], numbers[front]\n",
        "print('Numbers after sorting:', numbers)"
      ],
      "metadata": {
        "colab": {
          "base_uri": "https://localhost:8080/"
        },
        "id": "vCbRMy2zj8hX",
        "outputId": "6ed991e6-11a9-4c38-c32e-c2688778e7cd"
      },
      "execution_count": 10,
      "outputs": [
        {
          "output_type": "stream",
          "name": "stdout",
          "text": [
            "Numbers after sorting: [-76, -5, 7, 9, 12, 23, 42, 99, 123, 666]\n"
          ]
        }
      ]
    },
    {
      "cell_type": "code",
      "source": [
        "a, b, c = '123'\n",
        "print(a)\n",
        "print(b)\n",
        "print(c)"
      ],
      "metadata": {
        "colab": {
          "base_uri": "https://localhost:8080/"
        },
        "id": "g0eEU5Z6lwsF",
        "outputId": "a94ea16d-916c-4d5f-9171-36b976ca9e96"
      },
      "execution_count": 11,
      "outputs": [
        {
          "output_type": "stream",
          "name": "stdout",
          "text": [
            "1\n",
            "2\n",
            "3\n"
          ]
        }
      ]
    },
    {
      "cell_type": "markdown",
      "source": [
        "### Packing several values into a single (list or tuple) variable: *"
      ],
      "metadata": {
        "id": "02itDVMml5km"
      }
    },
    {
      "cell_type": "code",
      "execution_count": 12,
      "metadata": {
        "colab": {
          "base_uri": "https://localhost:8080/"
        },
        "id": "qnUIjaqSu1EA",
        "outputId": "7be53328-e2cc-45a0-8b3d-3954d49eaf95"
      },
      "outputs": [
        {
          "output_type": "stream",
          "name": "stdout",
          "text": [
            "[1, 2]\n",
            "3\n"
          ]
        }
      ],
      "source": [
        "*a, b = 1, 2, 3\n",
        "print(a)\n",
        "print(b)"
      ]
    },
    {
      "cell_type": "code",
      "execution_count": null,
      "metadata": {
        "colab": {
          "base_uri": "https://localhost:8080/"
        },
        "id": "xGWT4myhvB6t",
        "outputId": "e2e0c2b5-786e-4aa8-f28b-2bb461acb508"
      },
      "outputs": [
        {
          "name": "stdout",
          "output_type": "stream",
          "text": [
            "1\n",
            "[2, 3]\n"
          ]
        }
      ],
      "source": [
        "a, *b = 1, 2, 3\n",
        "print(a)\n",
        "print(b)"
      ]
    },
    {
      "cell_type": "code",
      "execution_count": 15,
      "metadata": {
        "colab": {
          "base_uri": "https://localhost:8080/"
        },
        "id": "IHhTI3MVvGHf",
        "outputId": "51421f37-ba86-4fa2-d2ca-e04ab9ef3bf0"
      },
      "outputs": [
        {
          "output_type": "stream",
          "name": "stdout",
          "text": [
            "[1, 2, 3]\n"
          ]
        }
      ],
      "source": [
        "*a, = 1, 2, 3 # without comma a is considered an int\n",
        "print(a)"
      ]
    },
    {
      "cell_type": "code",
      "execution_count": 16,
      "metadata": {
        "colab": {
          "base_uri": "https://localhost:8080/"
        },
        "id": "lLsW2iNkvWEM",
        "outputId": "cc1350f3-8a41-4108-ec58-fd6c0bad2be7"
      },
      "outputs": [
        {
          "output_type": "stream",
          "name": "stdout",
          "text": [
            "[]\n",
            "1\n",
            "2\n"
          ]
        }
      ],
      "source": [
        "*a, b, c = 1, 2\n",
        "print(a)\n",
        "print(b)\n",
        "print(c)"
      ]
    },
    {
      "cell_type": "code",
      "execution_count": 17,
      "metadata": {
        "colab": {
          "base_uri": "https://localhost:8080/"
        },
        "id": "pA-MkjDbwVoC",
        "outputId": "d8e97063-109a-464e-c0be-e59daa46c409"
      },
      "outputs": [
        {
          "output_type": "stream",
          "name": "stdout",
          "text": [
            "[0, 1, 2, 3, 4, 5, 6, 7, 8, 9]\n"
          ]
        }
      ],
      "source": [
        "*a, = range(10)\n",
        "print(a)"
      ]
    },
    {
      "cell_type": "code",
      "source": [
        "numbers = range(2, 4)\n",
        "print([0, 1, numbers, 4, 5])\n",
        "print([0, 1, *numbers, 4, 5])"
      ],
      "metadata": {
        "colab": {
          "base_uri": "https://localhost:8080/"
        },
        "id": "fSPnaJB-mpJN",
        "outputId": "bcc509e5-8a56-4d52-88c2-b22ca308f8a1"
      },
      "execution_count": 18,
      "outputs": [
        {
          "output_type": "stream",
          "name": "stdout",
          "text": [
            "[0, 1, range(2, 4), 4, 5]\n",
            "[0, 1, 2, 3, 4, 5]\n"
          ]
        }
      ]
    },
    {
      "cell_type": "code",
      "source": [
        "# equivalent solutions of an earlier example with different techniques\n",
        "even1 = list(range(0, 10, 2))\n",
        "even2 = [*range(0, 10, 2)]\n",
        "print(even1, even2, sep='\\n')"
      ],
      "metadata": {
        "colab": {
          "base_uri": "https://localhost:8080/"
        },
        "id": "Je2qmyBCmwQF",
        "outputId": "1b08e286-78af-4b80-cc1a-0179da44e446"
      },
      "execution_count": 20,
      "outputs": [
        {
          "output_type": "stream",
          "name": "stdout",
          "text": [
            "[0, 2, 4, 6, 8]\n",
            "[0, 2, 4, 6, 8]\n"
          ]
        }
      ]
    },
    {
      "cell_type": "markdown",
      "source": [
        "## Search\n",
        "\n",
        "How to find the location (indexes) and value of all occurrences of an element?"
      ],
      "metadata": {
        "id": "XPGKhSqUnSFL"
      }
    },
    {
      "cell_type": "code",
      "source": [
        "names = ['James', 'Robert', 'Jennifer', 'John', 'James', 'Mary', 'Patricia', 'James', 'Jennifer']\n",
        "name = input('Who are we looking for? ')\n",
        "if name in names:\n",
        "  print('Index of first occurrence:', names.index(name))\n",
        "  places = []\n",
        "  for i in range(len(names)):\n",
        "    if names[i] == name:\n",
        "      places.append(i)\n",
        "  if len(places) > 1:\n",
        "    print('Indices of further occurrences:', places[1:])\n",
        "else:\n",
        "  print(name, 'is not included in the list.')"
      ],
      "metadata": {
        "colab": {
          "base_uri": "https://localhost:8080/"
        },
        "id": "sv1G7kxfnW4s",
        "outputId": "6e1db0f0-0d5b-480e-fdbd-8f32f2b1c594"
      },
      "execution_count": 23,
      "outputs": [
        {
          "output_type": "stream",
          "name": "stdout",
          "text": [
            "Who are we looking for? James\n",
            "Index of first occurrence: 0\n",
            "Indices of further occurrences: [4, 7]\n"
          ]
        }
      ]
    },
    {
      "cell_type": "markdown",
      "source": [
        "enumerate: returns both the index and the value of the current element of the sequence"
      ],
      "metadata": {
        "id": "GEO7n9bQoC1I"
      }
    },
    {
      "cell_type": "code",
      "source": [
        "names = ['James', 'Robert', 'Jennifer', 'John', 'James', 'Mary', 'Patricia', 'James', 'Jennifer']\n",
        "name = input('Who are we looking for? ')\n",
        "if name in names:\n",
        "  print('Index of first occurrence:', names.index(name))\n",
        "  places = []\n",
        "  for i,n in enumerate(names):\n",
        "    if n==name:\n",
        "      places.append(i)\n",
        "  if len(places) > 1:\n",
        "    print('Indices of further occurrences:', places[1:])\n",
        "else:\n",
        "  print(name, 'is not included in the list.')"
      ],
      "metadata": {
        "colab": {
          "base_uri": "https://localhost:8080/"
        },
        "id": "G6jTD7dPoIZC",
        "outputId": "aeaf252f-021d-4b4e-ac43-e3b3f45eed39"
      },
      "execution_count": 24,
      "outputs": [
        {
          "output_type": "stream",
          "name": "stdout",
          "text": [
            "Who are we looking for? Jennifer\n",
            "Index of first occurrence: 2\n",
            "Indices of further occurrences: [8]\n"
          ]
        }
      ]
    },
    {
      "cell_type": "markdown",
      "source": [
        "### Search algorithms"
      ],
      "metadata": {
        "id": "ostIuphJoe89"
      }
    },
    {
      "cell_type": "code",
      "source": [
        "import random as rnd\n",
        "\n",
        "unordered = []\n",
        "for i in range(100_000_000):\n",
        "  unordered.append(rnd.random())\n",
        "sought = unordered[rnd.randint(0, len(unordered)-1)]\n",
        "print('We are looking for this value:', sought)"
      ],
      "metadata": {
        "colab": {
          "base_uri": "https://localhost:8080/"
        },
        "id": "PCHNco9qokE8",
        "outputId": "94c4cb8d-a3f1-40c0-ca48-8617bb2d1924"
      },
      "execution_count": 25,
      "outputs": [
        {
          "output_type": "stream",
          "name": "stdout",
          "text": [
            "We are looking for this value: 0.9317756799792568\n"
          ]
        }
      ]
    },
    {
      "cell_type": "markdown",
      "source": [
        "Buil-in search"
      ],
      "metadata": {
        "id": "UJKyMa-Xo34S"
      }
    },
    {
      "cell_type": "code",
      "source": [
        "import time\n",
        "\n",
        "# index method of list\n",
        "start = time.time()\n",
        "index = unordered.index(sought)\n",
        "finish = time.time()\n",
        "print(f'Index of first occurrence: {index}, required time: {finish-start:.2f}')"
      ],
      "metadata": {
        "colab": {
          "base_uri": "https://localhost:8080/"
        },
        "id": "rkFHB8FEo7MX",
        "outputId": "75e20ed2-0b70-4897-d0e9-343753277505"
      },
      "execution_count": 26,
      "outputs": [
        {
          "output_type": "stream",
          "name": "stdout",
          "text": [
            "Index of first occurrence: 65867688, required time: 0.85\n"
          ]
        }
      ]
    },
    {
      "cell_type": "markdown",
      "source": [
        "Serial/linear search: we go through each element one by one to see if we can find what we were looking for."
      ],
      "metadata": {
        "id": "_J34bFecpUX2"
      }
    },
    {
      "cell_type": "code",
      "source": [
        "# linear search\n",
        "start = time.time()\n",
        "for i in range(len(unordered)-1):\n",
        "  if unordered[i] == sought:\n",
        "    index = i\n",
        "    break\n",
        "finish = time.time()\n",
        "print(f'Index of first occurrence: {index}, required time: {finish-start:.2f}')"
      ],
      "metadata": {
        "colab": {
          "base_uri": "https://localhost:8080/"
        },
        "id": "lgsCvANbpThP",
        "outputId": "e11991c3-4caa-4162-bf63-927f4baa0483"
      },
      "execution_count": 28,
      "outputs": [
        {
          "output_type": "stream",
          "name": "stdout",
          "text": [
            "Index of first occurrence: 65867688, required time: 9.16\n"
          ]
        }
      ]
    },
    {
      "cell_type": "markdown",
      "source": [
        "[Binary search](https://en.wikipedia.org/wiki/Binary_search_algorithm): in each step, we halve the set in which the sought value can occur. Can only be used on sorted data."
      ],
      "metadata": {
        "id": "_MDvZMl5sTJN"
      }
    },
    {
      "cell_type": "code",
      "source": [
        "# binary search\n",
        "ordered = sorted(unordered)\n",
        "start = time.time()\n",
        "index = None\n",
        "front = 0\n",
        "back = len(ordered)-1\n",
        "while front <= back:\n",
        "  middle = (front + back) // 2\n",
        "  if ordered[middle] == sought:\n",
        "    index = middle\n",
        "    break\n",
        "  elif ordered[middle] > sought:\n",
        "    back = middle - 1\n",
        "  else:\n",
        "    front = middle + 1\n",
        "finish = time.time()\n",
        "if index is not None:\n",
        "  print(f'Index of first occurrence: {index}, required time: {finish-start:.2f}')\n",
        "else:\n",
        "  print('We did not find the value you were looking for, but it would be located at this index::', front)"
      ],
      "metadata": {
        "colab": {
          "base_uri": "https://localhost:8080/"
        },
        "id": "FXbatjGFswYb",
        "outputId": "9dcbdcbb-783b-4b1a-dd24-524e66ffbfba"
      },
      "execution_count": 29,
      "outputs": [
        {
          "output_type": "stream",
          "name": "stdout",
          "text": [
            "Index of first occurrence: 93184591, required time: 0.00\n"
          ]
        }
      ]
    }
  ]
}