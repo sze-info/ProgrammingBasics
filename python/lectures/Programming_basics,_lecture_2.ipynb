{
  "nbformat": 4,
  "nbformat_minor": 0,
  "metadata": {
    "colab": {
      "provenance": []
    },
    "kernelspec": {
      "name": "python3",
      "display_name": "Python 3"
    },
    "language_info": {
      "name": "python"
    }
  },
  "cells": [
    {
      "cell_type": "markdown",
      "source": [
        "# The basics of string handling\n",
        "* string constants can be enclosed in apostrophes or quotation marks\n",
        "* if one of them is used, the other can be included in the string\n",
        "* for more complicated cases: [Escape sequences](https://docs.python.org/3/reference/lexical_analysis.html#string-and-bytes-literals), [Unicode names](https://www.unicode.org/Public/UCD/latest/ucd/NamesList.txt)\n",
        "* Default character encoding: UTF-8"
      ],
      "metadata": {
        "id": "XZf8jVQV6ecy"
      }
    },
    {
      "cell_type": "code",
      "source": [
        "print(type('text')) # string data type\n",
        "print('Hello Python!') # string literal between apostrophes\n",
        "print(\"Hello Balboa!\") # or between quotation marks\n",
        "# \\ → the long text continues in the next line; nothing is allowed to stay after this character\n",
        "print('She\\'s got a smile that it seems to me\\n' \\\n",
        "      'Reminds me of childhood memories\\n' \\\n",
        "      'Where everything was as fresh as the bright blue sky')\n",
        "print(\"1\\t2\\t3\\t4\\n11\\t12\\t13\\t14\\n\") # tab, new line control characters given by escape sequences\n",
        "print('''And it all crashes down\n",
        "And you break your crown\n",
        "And you point your finger, but there's no one around\n",
        "Just want one thing, just to play the king\n",
        "But the castle crumbled and you're left with just a name\n",
        "Where's your crown, King Nothing?\n",
        "Where's your crown?''') # Multiline string, can be given with \"\"\" as well\n",
        "\"\"\"\n",
        "Long comments are also made\n",
        "with multiline string literals that\n",
        "are not assigned to a variable and\n",
        "they are not utilized in any other way.\n",
        "\"\"\""
      ],
      "metadata": {
        "colab": {
          "base_uri": "https://localhost:8080/",
          "height": 329
        },
        "id": "DfW8Vt2m6d9-",
        "outputId": "7002549a-aa28-499d-ce2a-39ae0451cd54"
      },
      "execution_count": 1,
      "outputs": [
        {
          "output_type": "stream",
          "name": "stdout",
          "text": [
            "<class 'str'>\n",
            "Hello Python!\n",
            "Hello Balboa!\n",
            "She's got a smile that it seems to me\n",
            "Reminds me of childhood memories\n",
            "Where everything was as fresh as the bright blue sky\n",
            "1\t2\t3\t4\n",
            "11\t12\t13\t14\n",
            "\n",
            "And it all crashes down\n",
            "And you break your crown\n",
            "And you point your finger, but there's no one around\n",
            "Just want one thing, just to play the king\n",
            "But the castle crumbled and you're left with just a name\n",
            "Where's your crown, King Nothing?\n",
            "Where's your crown?\n"
          ]
        },
        {
          "output_type": "execute_result",
          "data": {
            "text/plain": [
              "'\\nLong comments are also made\\nwith multiline string literals that\\nare not assigned to a variable and\\nthey are not utilized in any other way.\\n'"
            ],
            "application/vnd.google.colaboratory.intrinsic+json": {
              "type": "string"
            }
          },
          "metadata": {},
          "execution_count": 1
        }
      ]
    },
    {
      "cell_type": "code",
      "execution_count": 2,
      "metadata": {
        "colab": {
          "base_uri": "https://localhost:8080/"
        },
        "id": "1ihrlvjr6Z1q",
        "outputId": "eb4c726d-028e-455f-e9d7-f46f09c6120d"
      },
      "outputs": [
        {
          "output_type": "stream",
          "name": "stdout",
          "text": [
            "Guns 'n' Roses\n",
            "Dwayne \"The Rock\" Johnson\n",
            "How to print ' and \" at the same time?\n",
            "€\n",
            "€\n"
          ]
        }
      ],
      "source": [
        "print(\"Guns 'n' Roses\") # printing apostrophes between quotation marks\n",
        "print('Dwayne \"The Rock\" Johnson') # or vice versa\n",
        "print('How to print \\' and \\\" at the same time?') # Escape sequences\n",
        "print('\\N{euro sign}') # Printing special characters using their unicode name\n",
        "print('\\u20AC') # or with their unicodes directly"
      ]
    },
    {
      "cell_type": "markdown",
      "source": [
        "Raw string literals: escape sequences are not processed"
      ],
      "metadata": {
        "id": "XW4sRSTJXfu9"
      }
    },
    {
      "cell_type": "code",
      "source": [
        "print(\"back\\tslash\")\n",
        "print(r\"back\\tslash\")"
      ],
      "metadata": {
        "id": "Q3mfB1gNV1Yc",
        "colab": {
          "base_uri": "https://localhost:8080/"
        },
        "outputId": "94fd3b30-d58e-41b0-8251-82d5ab55299a"
      },
      "execution_count": 3,
      "outputs": [
        {
          "output_type": "stream",
          "name": "stdout",
          "text": [
            "back\tslash\n",
            "back\\tslash\n"
          ]
        }
      ]
    },
    {
      "cell_type": "markdown",
      "source": [
        "Operators of strings"
      ],
      "metadata": {
        "id": "hXwWVRYZ-RyS"
      }
    },
    {
      "cell_type": "code",
      "metadata": {
        "id": "CUj1aU9-_tby",
        "colab": {
          "base_uri": "https://localhost:8080/"
        },
        "outputId": "1c670fc3-dfba-48a4-d348-b21113b296d3"
      },
      "source": [
        "print('Six ' + 'little ' + 'ducks ' + 'that ' + 'I ' + 'once ' + 'knew,\\nFat ' + 'ones, ' + 'skinny ' + 'ones, ' + 'fair ' + 'ones ' + 'too!\\n') # merge / concatenate\n",
        "print('rat' in 'tattaratta') # containing\n",
        "print('RAT' in 'tattaratta') # differentiates lower- and uppercase letters\n",
        "print('RAT' not in 'tattaratta') # not containing\n",
        "print(not 'RAT' in 'tattaratta') # the same in a different way\n",
        "print('bla' * 3) # repeating the same text\n",
        "print('Text'[0]) # Characters can be accessed by indexing\n",
        "print(type('Text'[0])) # Even sole characters are represented as strings"
      ],
      "execution_count": 4,
      "outputs": [
        {
          "output_type": "stream",
          "name": "stdout",
          "text": [
            "Six little ducks that I once knew,\n",
            "Fat ones, skinny ones, fair ones too!\n",
            "\n",
            "True\n",
            "False\n",
            "True\n",
            "True\n",
            "blablabla\n",
            "T\n",
            "<class 'str'>\n"
          ]
        }
      ]
    },
    {
      "cell_type": "code",
      "metadata": {
        "id": "5-FL2DcV9HYf",
        "colab": {
          "base_uri": "https://localhost:8080/",
          "height": 193
        },
        "outputId": "b8c5bd0a-cde5-4459-8191-dc83a66d21e8"
      },
      "source": [
        "s = 'Agra Cadabara'\n",
        "s[1] = 'b' # the string cannot be modified, \"immutable object\""
      ],
      "execution_count": 5,
      "outputs": [
        {
          "output_type": "error",
          "ename": "TypeError",
          "evalue": "ignored",
          "traceback": [
            "\u001b[0;31m---------------------------------------------------------------------------\u001b[0m",
            "\u001b[0;31mTypeError\u001b[0m                                 Traceback (most recent call last)",
            "\u001b[0;32m<ipython-input-5-44ad9bd5be67>\u001b[0m in \u001b[0;36m<module>\u001b[0;34m\u001b[0m\n\u001b[1;32m      1\u001b[0m \u001b[0ms\u001b[0m \u001b[0;34m=\u001b[0m \u001b[0;34m'Agra Cadabara'\u001b[0m\u001b[0;34m\u001b[0m\u001b[0;34m\u001b[0m\u001b[0m\n\u001b[0;32m----> 2\u001b[0;31m \u001b[0ms\u001b[0m\u001b[0;34m[\u001b[0m\u001b[0;36m1\u001b[0m\u001b[0;34m]\u001b[0m \u001b[0;34m=\u001b[0m \u001b[0;34m'b'\u001b[0m \u001b[0;31m# the string cannot be modified, \"immutable object\"\u001b[0m\u001b[0;34m\u001b[0m\u001b[0;34m\u001b[0m\u001b[0m\n\u001b[0m",
            "\u001b[0;31mTypeError\u001b[0m: 'str' object does not support item assignment"
          ]
        }
      ]
    },
    {
      "cell_type": "code",
      "metadata": {
        "id": "dL4DafR49M--",
        "colab": {
          "base_uri": "https://localhost:8080/"
        },
        "outputId": "fe58343f-6640-42f0-8d13-88efe6c51f08"
      },
      "source": [
        "s = 'Tom & Jerry'\n",
        "print(s[0:3]) # substring created using [startindex, endindex); \"slicing\"\n",
        "print(s[:3]) # the default start index is 0, thus can be omitted\n",
        "print(s[6:11])\n",
        "print(s[6:]) # the default end index is the same as the length of the string\n",
        "print(s[:-8]) # negative indices can be used as well; the 8th character backwards won't be included in the substring\n",
        "print(s[:]) # provides a copy of the original string"
      ],
      "execution_count": 8,
      "outputs": [
        {
          "output_type": "stream",
          "name": "stdout",
          "text": [
            "Tom\n",
            "Tom\n",
            "Jerry\n",
            "Jerry\n",
            "Tom\n",
            "Tom & Jerry\n"
          ]
        }
      ]
    },
    {
      "cell_type": "code",
      "metadata": {
        "id": "9y4p_pVQ_jYj",
        "colab": {
          "base_uri": "https://localhost:8080/"
        },
        "outputId": "f85d8754-53b7-4547-8a60-561845af683b"
      },
      "source": [
        "print(s[::2]) # you can provide a step size, too; the start index is 0, step is 2 → every character at even indices\n",
        "print(s[1::2]) # every character at odd indices\n",
        "print(s[0:11:1]) # every character in an intricate way"
      ],
      "execution_count": 9,
      "outputs": [
        {
          "output_type": "stream",
          "name": "stdout",
          "text": [
            "Tm&Jry\n",
            "o  er\n",
            "Tom & Jerry\n"
          ]
        }
      ]
    },
    {
      "cell_type": "markdown",
      "metadata": {
        "id": "UfX_suYzDIE_"
      },
      "source": [
        "Functions\n",
        "\n",
        "* Function: a block of code which only runs when it is called (invoked). You can pass data into a function to work with. (From the _caller_'s perspective, these are called _arguments_, from the _function_'s perspective the same data are called _parameters_.) A function can return data as a result. \n",
        "* Method: a function that performs operations on the data it received or of an object. A dot (.) separates the object name from the method name.\n",
        "* Object: unit of data and operations (functions/methods)\n",
        "* [String methods](https://docs.python.org/3/library/stdtypes.html#string-methods)"
      ]
    },
    {
      "cell_type": "code",
      "metadata": {
        "id": "NzjwTERWAR0e",
        "colab": {
          "base_uri": "https://localhost:8080/"
        },
        "outputId": "d14408df-4c07-47f1-9576-01132f2bb65d"
      },
      "source": [
        "print(len('Eve')) # length/size of the string\n",
        "print('Abc'.isalpha()) # Does it contain only letters?\n",
        "print('123'.isdigit()) # Does it contain only digits?\n",
        "print('Kitten'.find('ten')) # provides the index of the 1st occurrence\n",
        "print('textfile.txt'.endswith('txt')) # what is the end (extension in this case) of the string?\n",
        "print('LOW'.lower()) # converts to lowercase\n",
        "print('tall'.upper()) # converts to uppercase\n",
        "print(' \\t\\ntext \\t\\n'.rstrip(' \\t\\n')) # strips the spaces (or the passed characters) on the right\n",
        "print(' \\t\\ntext \\t\\n'.lstrip(' \\t\\n')) # the same from the right\n",
        "print(' \\t\\ntext \\t\\n'.strip(' \\t\\n')) # from both sides"
      ],
      "execution_count": 10,
      "outputs": [
        {
          "output_type": "stream",
          "name": "stdout",
          "text": [
            "3\n",
            "True\n",
            "True\n",
            "3\n",
            "True\n",
            "low\n",
            "TALL\n",
            " \t\n",
            "text\n",
            "text \t\n",
            "\n",
            "text\n"
          ]
        }
      ]
    },
    {
      "cell_type": "markdown",
      "metadata": {
        "id": "fPV5VO4KiKeJ"
      },
      "source": [
        "# Reading, printing and conversion of data\n",
        "\n",
        "Determine the perimeter and area of a triangle!"
      ]
    },
    {
      "cell_type": "code",
      "metadata": {
        "id": "ejARJysyiTqs",
        "colab": {
          "base_uri": "https://localhost:8080/"
        },
        "outputId": "cfffbc0c-b80f-4e9e-8047-0093ed62ec86"
      },
      "source": [
        "import math\n",
        "\n",
        "a = 3\n",
        "b = 4\n",
        "c = 5\n",
        "\n",
        "p = a + b + c\n",
        "# https://en.wikipedia.org/wiki/Heron%27s_formula\n",
        "s = p / 2\n",
        "a = math.sqrt(s * (s - a) * (s - b) * (s - c))\n",
        "print('Perimeter of the triangle:')\n",
        "print(p)\n",
        "print('Area:')\n",
        "print(a)"
      ],
      "execution_count": 11,
      "outputs": [
        {
          "output_type": "stream",
          "name": "stdout",
          "text": [
            "Perimeter of the triangle:\n",
            "12\n",
            "Area:\n",
            "6.0\n"
          ]
        }
      ]
    },
    {
      "cell_type": "markdown",
      "metadata": {
        "id": "6jAAEcXejcfp"
      },
      "source": [
        "Problems:\n",
        "1. work with a new triangle always requires rewriting the code\n",
        "2. displaying the results is difficult\n",
        "3. everything is placed on a new line\n",
        "4. the number of decimal places changes, formatting is not uniform\n",
        "\n",
        "Solutions:\n",
        "\n",
        "1. reading with input() (the return value is always a string)"
      ]
    },
    {
      "cell_type": "code",
      "metadata": {
        "id": "piVXtI42kOIe",
        "colab": {
          "base_uri": "https://localhost:8080/"
        },
        "outputId": "ba44989c-29e1-4dee-98c6-f3ee090d7e79"
      },
      "source": [
        "print('Enter your name!')\n",
        "name = input() # reading name\n",
        "name = 'Hello ' + name + '!'\n",
        "print(name)"
      ],
      "execution_count": 12,
      "outputs": [
        {
          "output_type": "stream",
          "name": "stdout",
          "text": [
            "Enter your name!\n",
            "Miklós\n",
            "Hello Miklós!\n"
          ]
        }
      ]
    },
    {
      "cell_type": "code",
      "metadata": {
        "id": "Tmt_xotylC4k",
        "colab": {
          "base_uri": "https://localhost:8080/",
          "height": 193
        },
        "outputId": "b448ed03-b717-44b9-bff5-59509fb09822"
      },
      "source": [
        "p = 12\n",
        "message = 'Perimeter of the triangle: ' + p # the interpreter cannot convert arithmetic and textual data to the same type automatically"
      ],
      "execution_count": 13,
      "outputs": [
        {
          "output_type": "error",
          "ename": "TypeError",
          "evalue": "ignored",
          "traceback": [
            "\u001b[0;31m---------------------------------------------------------------------------\u001b[0m",
            "\u001b[0;31mTypeError\u001b[0m                                 Traceback (most recent call last)",
            "\u001b[0;32m<ipython-input-13-373c5c681ab5>\u001b[0m in \u001b[0;36m<module>\u001b[0;34m\u001b[0m\n\u001b[1;32m      1\u001b[0m \u001b[0mp\u001b[0m \u001b[0;34m=\u001b[0m \u001b[0;36m12\u001b[0m\u001b[0;34m\u001b[0m\u001b[0;34m\u001b[0m\u001b[0m\n\u001b[0;32m----> 2\u001b[0;31m \u001b[0mmessage\u001b[0m \u001b[0;34m=\u001b[0m \u001b[0;34m'Perimeter of the triangle: '\u001b[0m \u001b[0;34m+\u001b[0m \u001b[0mp\u001b[0m \u001b[0;31m# the interpreter cannot convert arithmetic and textual data to the same type automatically\u001b[0m\u001b[0;34m\u001b[0m\u001b[0;34m\u001b[0m\u001b[0m\n\u001b[0m",
            "\u001b[0;31mTypeError\u001b[0m: can only concatenate str (not \"int\") to str"
          ]
        }
      ]
    },
    {
      "cell_type": "markdown",
      "metadata": {
        "id": "yIjMByYOmEzt"
      },
      "source": [
        "Solution to problems 2 and 3: explicit type conversion (type casting)"
      ]
    },
    {
      "cell_type": "code",
      "metadata": {
        "id": "kIMx9en-lXd6",
        "colab": {
          "base_uri": "https://localhost:8080/"
        },
        "outputId": "d2e8ac1c-7aec-4726-c304-3eda1040d990"
      },
      "source": [
        "p = 12\n",
        "a = 6.0\n",
        "message = 'Perimeter of the triangle: ' + str(p) + '\\nArea: ' + str(a)\n",
        "print(message)"
      ],
      "execution_count": 14,
      "outputs": [
        {
          "output_type": "stream",
          "name": "stdout",
          "text": [
            "Perimeter of the triangle: 12\n",
            "Area: 6.0\n"
          ]
        }
      ]
    },
    {
      "cell_type": "code",
      "metadata": {
        "id": "Vcy-4acdol36",
        "colab": {
          "base_uri": "https://localhost:8080/"
        },
        "outputId": "35730dce-7946-413d-b39d-4b61008c2c73"
      },
      "source": [
        "type(int('123'))"
      ],
      "execution_count": 16,
      "outputs": [
        {
          "output_type": "execute_result",
          "data": {
            "text/plain": [
              "int"
            ]
          },
          "metadata": {},
          "execution_count": 16
        }
      ]
    },
    {
      "cell_type": "code",
      "metadata": {
        "id": "gORWkVIVoqYH",
        "colab": {
          "base_uri": "https://localhost:8080/"
        },
        "outputId": "c2e72397-aef8-42c2-dd42-4051509fcb0c"
      },
      "source": [
        "type(float('3.14'))"
      ],
      "execution_count": 17,
      "outputs": [
        {
          "output_type": "execute_result",
          "data": {
            "text/plain": [
              "float"
            ]
          },
          "metadata": {},
          "execution_count": 17
        }
      ]
    },
    {
      "cell_type": "code",
      "source": [
        "print(float('inf'))\n",
        "print(float('-inf'))\n",
        "print(float('nan'))"
      ],
      "metadata": {
        "id": "60CfHTrZe-7z",
        "colab": {
          "base_uri": "https://localhost:8080/"
        },
        "outputId": "af4ca699-d074-4a65-b453-490590cdb842"
      },
      "execution_count": 18,
      "outputs": [
        {
          "output_type": "stream",
          "name": "stdout",
          "text": [
            "inf\n",
            "-inf\n",
            "nan\n"
          ]
        }
      ]
    },
    {
      "cell_type": "markdown",
      "metadata": {
        "id": "NX5tAHwXmgvH"
      },
      "source": [
        "Alternative: \n",
        "* [**print()**](https://docs.python.org/3/library/functions.html#print) is capable to receive multiple arguments and print them one after the other\n",
        "* data are speparated by spaces by default\n",
        "* printing is terminated with a new line character\n",
        "* but it's behaviour is customizable."
      ]
    },
    {
      "cell_type": "code",
      "metadata": {
        "id": "-hUpaRUqmVEl",
        "colab": {
          "base_uri": "https://localhost:8080/"
        },
        "outputId": "16765830-5cfd-4660-95b9-136bab0aa21b"
      },
      "source": [
        "p = 12\n",
        "a = 6.0\n",
        "print('Perimeter of the triangle:', p)\n",
        "print('Area:', a)"
      ],
      "execution_count": 19,
      "outputs": [
        {
          "output_type": "stream",
          "name": "stdout",
          "text": [
            "Perimeter of the triangle: 12\n",
            "Area: 6.0\n"
          ]
        }
      ]
    },
    {
      "cell_type": "code",
      "metadata": {
        "id": "E2ETWfmLozeT",
        "colab": {
          "base_uri": "https://localhost:8080/"
        },
        "outputId": "4584a86e-0151-4599-a4b5-8254bfe2e0ca"
      },
      "source": [
        "print('one', 'two', 'three', sep=', ') # separators can be specified by a keyword argument\n",
        "print('one', 'two', 'three', sep='')\n",
        "\n",
        "print('one', end=' ') # line end characters\n",
        "print('two', end='')\n",
        "print(' three')\n",
        "\n",
        "print('one', 'two', 'three', sep=', ', end=', ') # they can be combined as well\n",
        "print('four')"
      ],
      "execution_count": 20,
      "outputs": [
        {
          "output_type": "stream",
          "name": "stdout",
          "text": [
            "one, two, three\n",
            "onetwothree\n",
            "one two three\n",
            "one, two, three, four\n"
          ]
        }
      ]
    },
    {
      "cell_type": "markdown",
      "metadata": {
        "id": "ot7dAvKSupHA"
      },
      "source": [
        "A possible solution to problem 4: usage of [**f-strings**](https://docs.python.org/3/tutorial/inputoutput.html#formatted-string-literals) (Python 3.6+)\n",
        "* the string literal is preceded by letter **f**\n",
        "* inside the literal between **{** and **}** characters an expression be be written and it's value is substituted\n",
        "* the value can be formatted with a [*format string*](https://docs.python.org/3/library/string.html#format-specification-mini-language) after **:**"
      ]
    },
    {
      "cell_type": "code",
      "metadata": {
        "id": "XF9LAwv0tuqu",
        "colab": {
          "base_uri": "https://localhost:8080/"
        },
        "outputId": "e3c5dab2-5599-4fe4-b902-7bc486ae70c1"
      },
      "source": [
        "import math\n",
        "print(f'The value of \\N{Greek Small Letter Pi} is {math.pi:.3f}')"
      ],
      "execution_count": 21,
      "outputs": [
        {
          "output_type": "stream",
          "name": "stdout",
          "text": [
            "The value of π is 3.142\n"
          ]
        }
      ]
    },
    {
      "cell_type": "markdown",
      "metadata": {
        "id": "X1JKj_F9xghj"
      },
      "source": [
        "A more elegant solution to the triangle problem"
      ]
    },
    {
      "cell_type": "code",
      "metadata": {
        "id": "xn_JWb8Dxkct",
        "colab": {
          "base_uri": "https://localhost:8080/"
        },
        "outputId": "dd562cc9-2582-417e-e155-dba64afd2fba"
      },
      "source": [
        "import math\n",
        "print(\"Enter side lengths of a triangle!\")\n",
        "a = float(input('Length of side \"A\": '))\n",
        "b = float(input('Length of side \"B\": '))\n",
        "c = float(input('Length of side \"C\": '))\n",
        "p = a + b + c\n",
        "s = p / 2\n",
        "a = math.sqrt(s * (s - a) * (s - b) * (s - c))\n",
        "print(f'The perimeter of the triangle is: {p:.2f}, area: {a:.2f}')"
      ],
      "execution_count": 23,
      "outputs": [
        {
          "output_type": "stream",
          "name": "stdout",
          "text": [
            "Enter side lengths of a triangle!\n",
            "Length of side \"A\": 3\n",
            "Length of side \"B\": 4\n",
            "Length of side \"C\": 5\n",
            "The perimeter of the triangle is: 12.00, area: 6.00\n"
          ]
        }
      ]
    },
    {
      "cell_type": "markdown",
      "source": [
        "The conversion between types and the \\_ (underscore) character makes easier to read long numbers"
      ],
      "metadata": {
        "id": "ESSRrWUPTkHY"
      }
    },
    {
      "cell_type": "code",
      "source": [
        "print(int(1_000_000))"
      ],
      "metadata": {
        "id": "M4cyrqu6Tu54",
        "colab": {
          "base_uri": "https://localhost:8080/"
        },
        "outputId": "a8e435cd-581d-4256-9a54-457e277d58cc"
      },
      "execution_count": 24,
      "outputs": [
        {
          "output_type": "stream",
          "name": "stdout",
          "text": [
            "1000000\n"
          ]
        }
      ]
    },
    {
      "cell_type": "markdown",
      "metadata": {
        "id": "OfQy04Z_1JuV"
      },
      "source": [
        "# Logical (boolean) type (_bool_) and operators\n",
        "* only _True_ and _False_ values exist\n",
        "* logical operators: _not_, _and_, _or_ (permissive or)\n",
        "\n",
        "| A | B | not A | A or B | A and B |\n",
        "|---|---|---|---|---|\n",
        "|True|True|False|True|True|\n",
        "|True|False|False|True|False|\n",
        "|False|True|True|True|False|\n",
        "|False|False|True|False|False|\n",
        "\n"
      ]
    },
    {
      "cell_type": "code",
      "metadata": {
        "id": "WSFjLt2D1Vp5",
        "colab": {
          "base_uri": "https://localhost:8080/"
        },
        "outputId": "a09b59c6-8a73-4c30-86a2-2d97bb43982b"
      },
      "source": [
        "print(type(True))\n",
        "print(not True)\n",
        "print(True or False)\n",
        "print(True and False)"
      ],
      "execution_count": 25,
      "outputs": [
        {
          "output_type": "stream",
          "name": "stdout",
          "text": [
            "<class 'bool'>\n",
            "False\n",
            "True\n",
            "False\n"
          ]
        }
      ]
    },
    {
      "cell_type": "markdown",
      "metadata": {
        "id": "9VOMME4p5FEU"
      },
      "source": [
        "Relational operators → boolean result\n",
        "\n",
        "| Operator | Meaning |\n",
        "|---|---|\n",
        "| < | Less than |\n",
        "|---|---|\n",
        "| <= | Less than or equal |\n",
        "|---|---|\n",
        "| > | Greater than |\n",
        "|---|---|\n",
        "| >= | Greater than or equal |\n",
        "|---|---|\n",
        "| == | Equal |\n",
        "|---|---|\n",
        "| != | Not equal |"
      ]
    },
    {
      "cell_type": "code",
      "metadata": {
        "id": "-zGSdWVy4VuB",
        "colab": {
          "base_uri": "https://localhost:8080/"
        },
        "outputId": "d52717dd-7708-4b7c-8c8c-7439f07f206b"
      },
      "source": [
        "print(1 < 3)"
      ],
      "execution_count": 26,
      "outputs": [
        {
          "output_type": "stream",
          "name": "stdout",
          "text": [
            "True\n"
          ]
        }
      ]
    },
    {
      "cell_type": "markdown",
      "metadata": {
        "id": "_Wav9hUH_8hf"
      },
      "source": [
        "Interesting fact: the logical value is handled numerically by Python, considering true as 1 and false as 0."
      ]
    },
    {
      "cell_type": "code",
      "metadata": {
        "id": "QXQwBMKK_yO_",
        "colab": {
          "base_uri": "https://localhost:8080/"
        },
        "outputId": "00c748e0-f828-41ed-bef3-b55c5d6050ac"
      },
      "source": [
        "print(True + True)\n",
        "print(False + False)\n",
        "print('Number of strings containing only digits:', \n",
        "      '123'.isdigit() + '-1.2'.isdigit() + 'Joe'.isdigit())"
      ],
      "execution_count": 27,
      "outputs": [
        {
          "output_type": "stream",
          "name": "stdout",
          "text": [
            "2\n",
            "0\n",
            "Number of strings containing only digits: 1\n"
          ]
        }
      ]
    },
    {
      "cell_type": "markdown",
      "metadata": {
        "id": "A6veCmSu6s0B"
      },
      "source": [
        "# Control flow statemants\n",
        "* Sequential (execution in the order in which instructions are given)\n",
        "* Selection\n",
        "* Repetition (loop, will be covered later)\n",
        "\n",
        "## Selection, decision control\n",
        "\n",
        "If a given condition is met, *statements* must be executed\n",
        "\n",
        "**if** *condition* **:**\n",
        "> *statements*\n",
        "\n",
        "If the *condition* is met, *statements1* must be executed, otherwise *statements2*\n",
        "\n",
        "**if** *condition* **:**\n",
        "> *statements1*\n",
        "\n",
        "**else:**\n",
        "\n",
        "> *statements2*\n",
        "\n",
        "Branching in several directions is also possible\n",
        "\n",
        "**if** *condition1* **:**\n",
        "> *statements1*\n",
        "\n",
        "**elif** *condition2* **:**\n",
        "> *statements2*\n",
        "\n",
        "**else:**\n",
        "\n",
        "> *statements3*\n",
        "\n",
        "Pay close attention to the indentations! Those define a group (block) of related statements to be evaluated.\n",
        "\n",
        "Let's decide whether a number is even or odd!"
      ]
    },
    {
      "cell_type": "code",
      "metadata": {
        "id": "NXxmfmmR-p5Y",
        "colab": {
          "base_uri": "https://localhost:8080/"
        },
        "outputId": "3025bcc0-d530-45fc-9be1-a3d878a1e3bb"
      },
      "source": [
        "number = int(input('Enter an integer! '))\n",
        "if number % 2 == 1:\n",
        "  print('Odd')\n",
        "else:\n",
        "  print('Even')"
      ],
      "execution_count": 28,
      "outputs": [
        {
          "output_type": "stream",
          "name": "stdout",
          "text": [
            "Enter an integer! 11\n",
            "Odd\n"
          ]
        }
      ]
    },
    {
      "cell_type": "code",
      "metadata": {
        "id": "BB-t_GJv_emd",
        "colab": {
          "base_uri": "https://localhost:8080/"
        },
        "outputId": "eab092bd-f32d-44b7-d2a3-41606851fefe"
      },
      "source": [
        "if int(input('Enter an integer! ')) % 2: # shortcut: zero is considered false, everything else is true. Even the variable can be saved\n",
        "  print('Odd')\n",
        "else:\n",
        "  print('Even')"
      ],
      "execution_count": 29,
      "outputs": [
        {
          "output_type": "stream",
          "name": "stdout",
          "text": [
            "Enter an integer! 10\n",
            "Even\n"
          ]
        }
      ]
    },
    {
      "cell_type": "markdown",
      "source": [
        "Don't be afraid to use the same operator multiple times within an expression. For example, we can easily check the equality of several values in this way."
      ],
      "metadata": {
        "id": "k3VaCiIOvDcB"
      }
    },
    {
      "cell_type": "code",
      "source": [
        "a = float(input('A: '))\n",
        "b = float(input('B: '))\n",
        "c = float(input('C: '))\n",
        "if a == b == c:\n",
        "  print('All three numbers are the same!')\n",
        "else:\n",
        "  print('At least one value differs from the others.')"
      ],
      "metadata": {
        "id": "rah1da6B2fd1",
        "colab": {
          "base_uri": "https://localhost:8080/"
        },
        "outputId": "4a2694e2-a3f6-4c27-a405-f9700f5267da"
      },
      "execution_count": 30,
      "outputs": [
        {
          "output_type": "stream",
          "name": "stdout",
          "text": [
            "A: 1\n",
            "B: 2\n",
            "C: 2\n",
            "At least one value differs from the others.\n"
          ]
        }
      ]
    },
    {
      "cell_type": "markdown",
      "source": [
        "We can quickly assign the same value to several variables."
      ],
      "metadata": {
        "id": "qtuAN1Q23dL3"
      }
    },
    {
      "cell_type": "code",
      "source": [
        "a = b = 3\n",
        "print(a**b)"
      ],
      "metadata": {
        "id": "_wxxU_jP3LW-",
        "colab": {
          "base_uri": "https://localhost:8080/"
        },
        "outputId": "e99d24e9-01d1-4c12-da64-c653b5855f4d"
      },
      "execution_count": 31,
      "outputs": [
        {
          "output_type": "stream",
          "name": "stdout",
          "text": [
            "27\n"
          ]
        }
      ]
    },
    {
      "cell_type": "markdown",
      "metadata": {
        "id": "0Sh3r395-pDj"
      },
      "source": [
        "Let's read the three side lengths of a triangle and determine whether it can be constructed!"
      ]
    },
    {
      "cell_type": "code",
      "metadata": {
        "id": "4tTRDKkC9T60",
        "colab": {
          "base_uri": "https://localhost:8080/"
        },
        "outputId": "df019edf-478a-4322-fcb7-a33971b2dbce"
      },
      "source": [
        "print(\"Enter side lengths of a triangle!\")\n",
        "a = float(input('Length of side \"A\": '))\n",
        "b = float(input('Length of side \"B\": '))\n",
        "c = float(input('Length of side \"C\": '))\n",
        "if (a + b > c) and (b + c > a) and (c + a > b):\n",
        "  print('This triangle can be constructed.')\n",
        "else:\n",
        "  print('This triangle cannot be constructed.')"
      ],
      "execution_count": 32,
      "outputs": [
        {
          "output_type": "stream",
          "name": "stdout",
          "text": [
            "Enter side lengths of a triangle!\n",
            "Length of side \"A\": 1\n",
            "Length of side \"B\": 1\n",
            "Length of side \"C\": 5\n",
            "This triangle cannot be constructed.\n"
          ]
        }
      ]
    },
    {
      "cell_type": "markdown",
      "metadata": {
        "id": "DrG85JUX2gow"
      },
      "source": [
        "Solving a quadratic equation\n"
      ]
    },
    {
      "cell_type": "code",
      "metadata": {
        "id": "jSnqx0QX2mRc",
        "colab": {
          "base_uri": "https://localhost:8080/"
        },
        "outputId": "353952d1-0e0a-4a25-bee8-41fb5b6f0590"
      },
      "source": [
        "import math\n",
        "print('Solving the equation ax^2 + bx + c = 0')\n",
        "a = float(input('Value of \"a\": '))\n",
        "if a == 0.:\n",
        "  print('The equation in not quadratic!')\n",
        "else:\n",
        "  b = float(input('Value of \"b\": '))\n",
        "  c = float(input('Value of \"c\": '))\n",
        "  d = b**2 - 4.*a*c\n",
        "  if d < 0.:\n",
        "    print('No real root!')\n",
        "  else:\n",
        "    print('x_1 = ', (-b + math.sqrt(d)) / (2. * a))\n",
        "    if d != 0.:\n",
        "      print('x_2 = ', (-b - math.sqrt(d)) / (2. * a))"
      ],
      "execution_count": 33,
      "outputs": [
        {
          "output_type": "stream",
          "name": "stdout",
          "text": [
            "Solving the equation ax^2 + bx + c = 0\n",
            "Value of \"a\": 1\n",
            "Value of \"b\": 2\n",
            "Value of \"c\": 4\n",
            "No real root!\n"
          ]
        }
      ]
    },
    {
      "cell_type": "markdown",
      "source": [
        "## Conditional expression\n",
        "*a* __if__ the condition is met __else__ *b*"
      ],
      "metadata": {
        "id": "CBh5A5Jl6ZUa"
      }
    },
    {
      "cell_type": "code",
      "source": [
        "print(\"Enter side lengths of a triangle!\")\n",
        "a = float(input('Length of side \"A\": '))\n",
        "b = float(input('Length of side \"B\": '))\n",
        "c = float(input('Length of side \"C\": '))\n",
        "print('This triangle can be constructed.' if ((a + b > c) and (b + c > a) and (c + a > b)) else 'This triangle cannot be constructed.')"
      ],
      "metadata": {
        "colab": {
          "base_uri": "https://localhost:8080/"
        },
        "id": "FdSYWqoxYd_M",
        "outputId": "7d20e691-9230-4fb5-f3ec-0519d8014626"
      },
      "execution_count": 34,
      "outputs": [
        {
          "output_type": "stream",
          "name": "stdout",
          "text": [
            "Enter side lengths of a triangle!\n",
            "Length of side \"A\": 6\n",
            "Length of side \"B\": 8\n",
            "Length of side \"C\": 5\n",
            "This triangle can be constructed.\n"
          ]
        }
      ]
    },
    {
      "cell_type": "markdown",
      "metadata": {
        "id": "X77a-6Tk55Ae"
      },
      "source": [
        "# Complex numbers\n",
        "\n",
        "Built-in type in Python, but you may need e.g. [function libraries designed specifically for complex numbers](https://docs.python.org/3/library/cmath.html)"
      ]
    },
    {
      "cell_type": "code",
      "metadata": {
        "id": "nVrghMzv42BB",
        "colab": {
          "base_uri": "https://localhost:8080/"
        },
        "outputId": "d904d0e2-cac4-4738-b58a-6f9f3cedad43"
      },
      "source": [
        "print(type((1 + 0j)))\n",
        "print(type(complex(1., 0.)))\n",
        "(-1+1j) + (1-1j)"
      ],
      "execution_count": 35,
      "outputs": [
        {
          "output_type": "stream",
          "name": "stdout",
          "text": [
            "<class 'complex'>\n",
            "<class 'complex'>\n"
          ]
        },
        {
          "output_type": "execute_result",
          "data": {
            "text/plain": [
              "0j"
            ]
          },
          "metadata": {},
          "execution_count": 35
        }
      ]
    },
    {
      "cell_type": "code",
      "source": [
        "import cmath\n",
        "print('Solving the equation ax^2 + bx + c = 0')\n",
        "a = float(input('Value of \"a\": '))\n",
        "if a == 0.:\n",
        "  print('The equation in not quadratic!')\n",
        "else:\n",
        "  b = float(input('Value of \"b\": '))\n",
        "  c = float(input('Value of \"c\": '))\n",
        "  d = b**2 - 4.*a*c\n",
        "  print('x_1 = ', (-b + cmath.sqrt(d)) / (2. * a))\n",
        "  if d != 0.:\n",
        "    print('x_2 = ', (-b - cmath.sqrt(d)) / (2. * a))"
      ],
      "metadata": {
        "colab": {
          "base_uri": "https://localhost:8080/"
        },
        "id": "wu9m8w-0ZTL4",
        "outputId": "de68d56b-e022-425a-9bcc-4ca79ab31f93"
      },
      "execution_count": 37,
      "outputs": [
        {
          "output_type": "stream",
          "name": "stdout",
          "text": [
            "Solving the equation ax^2 + bx + c = 0\n",
            "Value of \"a\": 1\n",
            "Value of \"b\": 2\n",
            "Value of \"c\": 3\n",
            "x_1 =  (-1+1.4142135623730951j)\n",
            "x_2 =  (-1-1.4142135623730951j)\n"
          ]
        }
      ]
    },
    {
      "cell_type": "markdown",
      "metadata": {
        "id": "8Bcsdi7MBF9v"
      },
      "source": [
        "## The last type: NoneType\n",
        "\n",
        "It indicates the absence of something. The only possible value is None."
      ]
    },
    {
      "cell_type": "code",
      "metadata": {
        "id": "_UU-SsPKBP6r",
        "colab": {
          "base_uri": "https://localhost:8080/"
        },
        "outputId": "f57bcc41-13d8-413b-b898-49acf52f04c6"
      },
      "source": [
        "type(None)"
      ],
      "execution_count": 38,
      "outputs": [
        {
          "output_type": "execute_result",
          "data": {
            "text/plain": [
              "NoneType"
            ]
          },
          "metadata": {},
          "execution_count": 38
        }
      ]
    }
  ]
}