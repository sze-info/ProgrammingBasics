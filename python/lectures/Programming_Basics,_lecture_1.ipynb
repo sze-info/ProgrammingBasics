{
  "nbformat": 4,
  "nbformat_minor": 0,
  "metadata": {
    "colab": {
      "provenance": []
    },
    "kernelspec": {
      "name": "python3",
      "display_name": "Python 3"
    },
    "language_info": {
      "name": "python"
    }
  },
  "cells": [
    {
      "cell_type": "markdown",
      "source": [
        "# Introduction to programming in Python\n",
        "## Introduction\n",
        "Programming\n",
        "\n",
        "* [Algorithm + data structure = program](https://people.inf.ethz.ch/wirth/AD.pdf)\n",
        "* Implementation using a programming language\n",
        "\n",
        "Data structure\n",
        "\n",
        "> Way of storing data, the range of operations that can be performed, required amount of memory\n",
        "\n",
        "Algorithm\n",
        "\n",
        "> A finite long sequence of steps suitable for solving a given task.\n",
        "\n",
        "\n",
        "* range of tasks that can be solved\n",
        "* efficiency: storage requirements and processing speed\n",
        "\n",
        "Some programming languages: low → high level\n",
        "\n",
        "* machine code\n",
        "* assembly\n",
        "* C, C++\n",
        "* Java, C#\n",
        "* Python\n",
        "\n",
        "Source code → executable program\n",
        "* interpreter\n",
        "* compiler\n",
        "* Just-in-time compiler\n",
        "\n",
        "Why Python? \n",
        "\n",
        "* [Popular](https://www.tiobe.com/tiobe-index/)\n",
        "* [Did I mention it's popular?](https://insights.stackoverflow.com/survey/2020#technology-most-loved-dreaded-and-wanted-languages-loved)\n",
        "* Characteristics:\n",
        "  * simple, easy to understand, highly expressive, terse language → easy to learn\n",
        "  * extremely extensive built-in function library, wide applicability\n",
        "    * automation\n",
        "    * data analysis\n",
        "    * database handling\n",
        "    * image processing\n",
        "    * machine learning\n",
        "    * scientific applications\n",
        "    * command line and graphical user interfaces\n",
        "    * web applications\n",
        "  * thousands of available [external packages](https://pypi.org/)\n",
        "  * strong and extensive community, regular [conferences](https://pycon.org/)\n",
        "  * free to use and platform independent (but version changes may cause surprises)\n",
        "\n",
        "Development tools\n",
        "\n",
        "* On your own computer\n",
        "  * [Visual Studio Code](https://code.visualstudio.com/)\n",
        "  * [Geany](https://www.geany.org/)\n",
        "  * [Jupyter notebook](https://jupyter-notebook.readthedocs.io/en/stable/)\n",
        "* On the web\n",
        "  * [Colab](https://colab.research.google.com)\n",
        "  * [repl.it](https://repl.it)\n",
        "\n",
        "Lecture notes, tutorials, help\n",
        "* [Official tutorial](https://docs.python.org/3/tutorial/)\n",
        "* [Auxiliary materials of the subject](https://github.com/sze-info/gknb_inta023)\n",
        "* [W3Schools](https://www.w3schools.com/python/)\n",
        "* [Tutorialspoint](https://www.tutorialspoint.com/python/index.htm)\n",
        "* [Lecture notes of Gábor Takács, PhD.](http://www.sze.hu/~gtakacs/oktatas/pyprog/pyprog_jegyzet.pdf) (in Hungarian)\n",
        "* [Education materials of Ernő Horváth, PhD. and János Hollósi](https://github.com/sze-info/sze-academic-python) (in Hungarian)\n",
        "\n",
        "\n",
        "Further properties of Python\n",
        "* Popular versions: (2 vs.) 3\n",
        "* interpreted language\n",
        "  * dynamic types\n",
        "  * slow\n",
        "* supports multiple paradigms (structured, object-oriented, functional)\n",
        "\n",
        "## Data types\n",
        "\n",
        "Primitive types:\n",
        "* integer numbers\n",
        "* floating point numbers (fractional number, rational numbers)\n",
        "* strings (text)\n",
        "* logical values (Booelan values, true/false)\n",
        "\n",
        "Some further types:\n",
        "* complex numbers\n",
        "* None\n",
        "\n",
        "### Integer numbers (int)\n",
        "\n",
        "Main characteristics\n",
        "* can be positive or negative\n",
        "* their absolute value can be arbitrarily large, there is no overflow error\n",
        "\n",
        "Executable operations (available operators):\n",
        "* addition **+**\n",
        "* subtraction **-**\n",
        "* multiplication __*__\n",
        "* (floating point) division **/**\n",
        "* integer division **//**\n",
        "* modulo, remainder **%**\n",
        "* power __**__\n",
        "\n",
        "**Spaces and indentation** does not have importance here, but later becomes **very important**! See e.g.: [PEP 8](https://www.python.org/dev/peps/pep-0008/)"
      ],
      "metadata": {
        "id": "RK5HJ5od4fsL"
      }
    },
    {
      "cell_type": "code",
      "metadata": {
        "id": "QijUxXVQxPVe",
        "colab": {
          "base_uri": "https://localhost:8080/"
        },
        "outputId": "4a684f9f-88d3-4763-ac33-25bac7b90174"
      },
      "source": [
        "2 + 3+4"
      ],
      "execution_count": null,
      "outputs": [
        {
          "output_type": "execute_result",
          "data": {
            "text/plain": [
              "9"
            ]
          },
          "metadata": {},
          "execution_count": 1
        }
      ]
    },
    {
      "cell_type": "code",
      "metadata": {
        "id": "cWSRH7nUwnL6",
        "colab": {
          "base_uri": "https://localhost:8080/"
        },
        "outputId": "b558c04a-e866-496b-f3b6-1f25a1075a06"
      },
      "source": [
        "-4 - 3"
      ],
      "execution_count": null,
      "outputs": [
        {
          "output_type": "execute_result",
          "data": {
            "text/plain": [
              "-7"
            ]
          },
          "metadata": {},
          "execution_count": 2
        }
      ]
    },
    {
      "cell_type": "code",
      "metadata": {
        "id": "ggniDjECx6fr",
        "colab": {
          "base_uri": "https://localhost:8080/"
        },
        "outputId": "333c24ab-6e73-481d-d634-71e6dc0c547d"
      },
      "source": [
        "5 * 3"
      ],
      "execution_count": null,
      "outputs": [
        {
          "output_type": "execute_result",
          "data": {
            "text/plain": [
              "15"
            ]
          },
          "metadata": {},
          "execution_count": 3
        }
      ]
    },
    {
      "cell_type": "code",
      "metadata": {
        "id": "GTvtLHZEx9uo",
        "colab": {
          "base_uri": "https://localhost:8080/"
        },
        "outputId": "12c06899-1898-4d4e-d033-4e79bd2586c3"
      },
      "source": [
        "5 / 3"
      ],
      "execution_count": null,
      "outputs": [
        {
          "output_type": "execute_result",
          "data": {
            "text/plain": [
              "1.6666666666666667"
            ]
          },
          "metadata": {},
          "execution_count": 4
        }
      ]
    },
    {
      "cell_type": "code",
      "metadata": {
        "id": "MQXhq7h5x_xr",
        "colab": {
          "base_uri": "https://localhost:8080/"
        },
        "outputId": "025c65a4-5baa-431c-8df8-b81bf0f9ed3d"
      },
      "source": [
        "5 // 3"
      ],
      "execution_count": null,
      "outputs": [
        {
          "output_type": "execute_result",
          "data": {
            "text/plain": [
              "1"
            ]
          },
          "metadata": {},
          "execution_count": 5
        }
      ]
    },
    {
      "cell_type": "code",
      "metadata": {
        "id": "zsRMmhu5yCi3",
        "colab": {
          "base_uri": "https://localhost:8080/"
        },
        "outputId": "eacf66b0-72cb-4295-cc6a-351445c65577"
      },
      "source": [
        "5 % 3"
      ],
      "execution_count": null,
      "outputs": [
        {
          "output_type": "execute_result",
          "data": {
            "text/plain": [
              "2"
            ]
          },
          "metadata": {},
          "execution_count": 6
        }
      ]
    },
    {
      "cell_type": "code",
      "metadata": {
        "id": "MRpwZJnoyHS6",
        "colab": {
          "base_uri": "https://localhost:8080/"
        },
        "outputId": "d47a6b11-3785-4815-93f6-2a8ee0dcc426"
      },
      "source": [
        "2 ** 6"
      ],
      "execution_count": null,
      "outputs": [
        {
          "output_type": "execute_result",
          "data": {
            "text/plain": [
              "64"
            ]
          },
          "metadata": {},
          "execution_count": 8
        }
      ]
    },
    {
      "cell_type": "code",
      "metadata": {
        "id": "gOvp1Wmsy-5s",
        "colab": {
          "base_uri": "https://localhost:8080/"
        },
        "outputId": "57c14b08-cde0-45fa-beef-9720efbba757"
      },
      "source": [
        "999999999999999999999999999999999999999999999999999999999999999999999999999999999999999999999 + 1"
      ],
      "execution_count": null,
      "outputs": [
        {
          "output_type": "execute_result",
          "data": {
            "text/plain": [
              "1000000000000000000000000000000000000000000000000000000000000000000000000000000000000000000000"
            ]
          },
          "metadata": {},
          "execution_count": 7
        }
      ]
    },
    {
      "cell_type": "markdown",
      "source": [
        "The base of the number system can be other than 10:"
      ],
      "metadata": {
        "id": "fzByp0mxUnki"
      }
    },
    {
      "cell_type": "code",
      "source": [
        "0b11 # bynary number"
      ],
      "metadata": {
        "id": "JJz6wfpLUFvF",
        "colab": {
          "base_uri": "https://localhost:8080/"
        },
        "outputId": "5d811e38-a0a5-486e-8c73-c1cdacd59469"
      },
      "execution_count": null,
      "outputs": [
        {
          "output_type": "execute_result",
          "data": {
            "text/plain": [
              "3"
            ]
          },
          "metadata": {},
          "execution_count": 1
        }
      ]
    },
    {
      "cell_type": "code",
      "source": [
        "0o11 # octal number"
      ],
      "metadata": {
        "id": "RV1w1OAzUbU3",
        "colab": {
          "base_uri": "https://localhost:8080/"
        },
        "outputId": "d8cafa5f-b091-4e83-abdf-8ed193489ba9"
      },
      "execution_count": null,
      "outputs": [
        {
          "output_type": "execute_result",
          "data": {
            "text/plain": [
              "9"
            ]
          },
          "metadata": {},
          "execution_count": 2
        }
      ]
    },
    {
      "cell_type": "code",
      "source": [
        "0x11 # hexadecimal number"
      ],
      "metadata": {
        "id": "nPTTRYaqUgHb",
        "colab": {
          "base_uri": "https://localhost:8080/"
        },
        "outputId": "e2d9a1a2-cab9-49fc-e551-bae6b108e2a6"
      },
      "execution_count": null,
      "outputs": [
        {
          "output_type": "execute_result",
          "data": {
            "text/plain": [
              "17"
            ]
          },
          "metadata": {},
          "execution_count": 3
        }
      ]
    },
    {
      "cell_type": "markdown",
      "source": [
        "The data type is always clearly defined even if the programmer did not explicitely indicate it."
      ],
      "metadata": {
        "id": "E4hdidXLFEU4"
      }
    },
    {
      "cell_type": "code",
      "metadata": {
        "id": "u9Nk6W1dyoeK",
        "colab": {
          "base_uri": "https://localhost:8080/"
        },
        "outputId": "dbe2a0be-a260-4890-b5a5-c4ca5355a03b"
      },
      "source": [
        "type(42)"
      ],
      "execution_count": null,
      "outputs": [
        {
          "output_type": "execute_result",
          "data": {
            "text/plain": [
              "int"
            ]
          },
          "metadata": {},
          "execution_count": 7
        }
      ]
    },
    {
      "cell_type": "markdown",
      "metadata": {
        "id": "x3Nrf1llwNbr"
      },
      "source": [
        "type() function: provides the type of data\n",
        "\n",
        "Function: part of a program identified by a name, the operation of which can be influenced by parameters and can provide a value\n",
        "\n",
        "Expressions\n",
        "* sequence of data (operands) and operations (operators) performed with them\n",
        "* data can be: constant (literal) or variable\n",
        "* the order of precedence can be influenced by (even with multiple levels, pairs of) parentheses\n",
        "* [precedence](https://docs.python.org/3/reference/expressions.html#operator-precedence) and associativity of operators"
      ]
    },
    {
      "cell_type": "code",
      "metadata": {
        "id": "mqpo2lkSzph7",
        "colab": {
          "base_uri": "https://localhost:8080/"
        },
        "outputId": "24ef5815-ac40-4e67-dd7c-22867cf45751"
      },
      "source": [
        "(1 + 2) * (3 + 4)"
      ],
      "execution_count": null,
      "outputs": [
        {
          "output_type": "execute_result",
          "data": {
            "text/plain": [
              "21"
            ]
          },
          "metadata": {},
          "execution_count": 8
        }
      ]
    },
    {
      "cell_type": "code",
      "metadata": {
        "id": "ecTk398d1IBk",
        "colab": {
          "base_uri": "https://localhost:8080/"
        },
        "outputId": "e64984f3-71be-4ace-99ef-69be6dbcfd0f"
      },
      "source": [
        "-10**2"
      ],
      "execution_count": null,
      "outputs": [
        {
          "output_type": "execute_result",
          "data": {
            "text/plain": [
              "-100"
            ]
          },
          "metadata": {},
          "execution_count": 9
        }
      ]
    },
    {
      "cell_type": "code",
      "metadata": {
        "id": "hjjpou8-1jsH",
        "colab": {
          "base_uri": "https://localhost:8080/"
        },
        "outputId": "4be1d43c-c924-43bc-a400-ecceaca1a5f0"
      },
      "source": [
        "(-10)**2"
      ],
      "execution_count": null,
      "outputs": [
        {
          "output_type": "execute_result",
          "data": {
            "text/plain": [
              "100"
            ]
          },
          "metadata": {},
          "execution_count": 10
        }
      ]
    },
    {
      "cell_type": "code",
      "metadata": {
        "id": "RrpiIdLr1PY2",
        "colab": {
          "base_uri": "https://localhost:8080/"
        },
        "outputId": "8eb2a9a3-6f10-46e2-8368-b6427c6f0e31"
      },
      "source": [
        "10**-2"
      ],
      "execution_count": null,
      "outputs": [
        {
          "output_type": "execute_result",
          "data": {
            "text/plain": [
              "0.01"
            ]
          },
          "metadata": {},
          "execution_count": 11
        }
      ]
    },
    {
      "cell_type": "markdown",
      "metadata": {
        "id": "Mu3jOJpU2dtb"
      },
      "source": [
        "Variable (object, see later):\n",
        "* name (identifier)\n",
        "* type → size, memory need\n",
        "* value\n",
        "* created during the first assignment (definition)\n",
        "\n",
        "Assignment operator: **=**"
      ]
    },
    {
      "cell_type": "code",
      "metadata": {
        "id": "rhK1qFbC4WH9",
        "colab": {
          "base_uri": "https://localhost:8080/",
          "height": 174
        },
        "outputId": "d913be97-2bc3-4625-f16d-cf0a85949748"
      },
      "source": [
        "type(nonExisting)"
      ],
      "execution_count": null,
      "outputs": [
        {
          "output_type": "error",
          "ename": "NameError",
          "evalue": "ignored",
          "traceback": [
            "\u001b[0;31m---------------------------------------------------------------------------\u001b[0m",
            "\u001b[0;31mNameError\u001b[0m                                 Traceback (most recent call last)",
            "\u001b[0;32m<ipython-input-1-b8eb79949a36>\u001b[0m in \u001b[0;36m<module>\u001b[0;34m\u001b[0m\n\u001b[0;32m----> 1\u001b[0;31m \u001b[0mtype\u001b[0m\u001b[0;34m(\u001b[0m\u001b[0mnonExisting\u001b[0m\u001b[0;34m)\u001b[0m\u001b[0;34m\u001b[0m\u001b[0;34m\u001b[0m\u001b[0m\n\u001b[0m",
            "\u001b[0;31mNameError\u001b[0m: name 'nonExisting' is not defined"
          ]
        }
      ]
    },
    {
      "cell_type": "code",
      "metadata": {
        "id": "lXdeZn892SOO",
        "colab": {
          "base_uri": "https://localhost:8080/"
        },
        "outputId": "12bd09c7-d372-4c10-ff9d-67e0089cd8b8"
      },
      "source": [
        "a = 3\n",
        "b = 4\n",
        "c = a + b + 5\n",
        "c"
      ],
      "execution_count": null,
      "outputs": [
        {
          "output_type": "execute_result",
          "data": {
            "text/plain": [
              "12"
            ]
          },
          "metadata": {},
          "execution_count": 13
        }
      ]
    },
    {
      "cell_type": "markdown",
      "metadata": {
        "id": "f-xjxWO28QTz"
      },
      "source": [
        "Displaying the result with print() function"
      ]
    },
    {
      "cell_type": "code",
      "metadata": {
        "id": "jawn4Muq82pC",
        "colab": {
          "base_uri": "https://localhost:8080/"
        },
        "outputId": "b4dc509f-c6da-4565-d861-013b20bd26fa"
      },
      "source": [
        "print(c)"
      ],
      "execution_count": null,
      "outputs": [
        {
          "output_type": "stream",
          "name": "stdout",
          "text": [
            "12\n"
          ]
        }
      ]
    },
    {
      "cell_type": "markdown",
      "metadata": {
        "id": "5qLkGXS39Cp_"
      },
      "source": [
        "The type of the variable can be identified as well"
      ]
    },
    {
      "cell_type": "code",
      "metadata": {
        "id": "VE7hduVI4psR",
        "colab": {
          "base_uri": "https://localhost:8080/"
        },
        "outputId": "0bb54f2c-6779-4702-83ca-a3ed3648a2bf"
      },
      "source": [
        "type(c)"
      ],
      "execution_count": null,
      "outputs": [
        {
          "output_type": "execute_result",
          "data": {
            "text/plain": [
              "int"
            ]
          },
          "metadata": {},
          "execution_count": 15
        }
      ]
    },
    {
      "cell_type": "markdown",
      "metadata": {
        "id": "THsErpva3_QN"
      },
      "source": [
        "Every arithmetic operator has a compound version (with assignment)"
      ]
    },
    {
      "cell_type": "code",
      "metadata": {
        "id": "oNSFS8SX4GWK",
        "colab": {
          "base_uri": "https://localhost:8080/"
        },
        "outputId": "cf428a77-3812-461c-f23f-709f3efe07a1"
      },
      "source": [
        "a = 5\n",
        "a *= 2 + 3\n",
        "print(a)"
      ],
      "execution_count": null,
      "outputs": [
        {
          "output_type": "stream",
          "name": "stdout",
          "text": [
            "25\n"
          ]
        }
      ]
    },
    {
      "cell_type": "markdown",
      "metadata": {
        "id": "sCNalgXk5k9E"
      },
      "source": [
        "## Comments\n",
        "* do not affect the running of the program, they have documentation purpose only\n",
        "* they are also often used to \"disable\" certain parts of programs\n",
        "* one line comments: after **#**\n",
        "<div><img src=\"data:image/jpeg;base64,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\" width=\"400\" /></div>"
      ]
    },
    {
      "cell_type": "code",
      "metadata": {
        "id": "3F5WTzwY55s1"
      },
      "source": [
        "shoe = 38 # shoe size\n",
        "bust = 90 # dress sizes\n",
        "hip = 60\n",
        "# waist = bust\n",
        "height = 170 # height of the lady"
      ],
      "execution_count": null,
      "outputs": []
    },
    {
      "cell_type": "markdown",
      "metadata": {
        "id": "2gKdzltg-rab"
      },
      "source": [
        "## [Floating point numbers](https://en.wikipedia.org/wiki/Floating-point_arithmetic) (float)\n",
        "* they allow representing and handling rational numbers\n",
        "* implementation: [IEEE-754](https://www.h-schmidt.net/FloatConverter/IEEE754.html) double precision version (double)\n",
        "* 8 bytes, approx. 15-16 decimal digit precision, number representation limits: from ±1.7 x 10<sup>-308</sup> to ±1.7 x 10<sup>+308</sup>\n",
        "* representation errors\n",
        "* the operations are slower than the equivalent integer operations\n",
        "* special values: inf, NaN"
      ]
    },
    {
      "cell_type": "code",
      "metadata": {
        "id": "ZnbFRVWWBFEt",
        "colab": {
          "base_uri": "https://localhost:8080/"
        },
        "outputId": "42044c04-c099-45ab-a034-ec6d448de7c3"
      },
      "source": [
        "pi = 3.14159265358979323846264338327950288419716939937510\n",
        "r = 2\n",
        "print(2. * r * pi) # perimeter"
      ],
      "execution_count": null,
      "outputs": [
        {
          "output_type": "stream",
          "name": "stdout",
          "text": [
            "12.566370614359172\n"
          ]
        }
      ]
    },
    {
      "cell_type": "code",
      "metadata": {
        "id": "jwnA8ePrBfEj",
        "colab": {
          "base_uri": "https://localhost:8080/"
        },
        "outputId": "fd5a8b59-c6d7-4cd6-be07-2dffd35f20b4"
      },
      "source": [
        "print(1.) # the fractional part can be omitted\n",
        "print(.2) # the integer part can be omitted\n",
        "# but not both\n",
        "print(1.2e3) # exponential (scientific) form\n",
        "print(1E-3) # lowercase and uppercae 'e' cause the same\n",
        "print(-1.2e3)\n",
        "print(type(1)) # int type\n",
        "print(type(1.)) # float type\n",
        "print(type(1e0)) # float again"
      ],
      "execution_count": null,
      "outputs": [
        {
          "output_type": "stream",
          "name": "stdout",
          "text": [
            "1.0\n",
            "0.2\n",
            "1200.0\n",
            "0.001\n",
            "-1200.0\n",
            "<class 'int'>\n",
            "<class 'float'>\n",
            "<class 'float'>\n"
          ]
        }
      ]
    },
    {
      "cell_type": "markdown",
      "metadata": {
        "id": "vO-8D3FCCnQn"
      },
      "source": [
        "Automatic type conversion\n",
        "* operation is only possible with data of the same type\n",
        "* the interpreter converts automatically (implicitly) according to fixed rules\n",
        "* rule of thumb: from smaller to larger, from a type with a narrower representation capacity to a larger one, to avoid data loss\n",
        "* implicit conversion occurs in a few cases, e.g.: int → float, but does not convert int to string or vice versa"
      ]
    },
    {
      "cell_type": "code",
      "metadata": {
        "id": "A8KIPIl1C-dq",
        "colab": {
          "base_uri": "https://localhost:8080/"
        },
        "outputId": "d67b4a81-586d-4159-95a7-3d75c0763114"
      },
      "source": [
        "a = 1\n",
        "b = 2.3\n",
        "c = a + b\n",
        "print(type(a))\n",
        "print(type(b))\n",
        "print(type(c))\n",
        "print(c)"
      ],
      "execution_count": null,
      "outputs": [
        {
          "output_type": "stream",
          "name": "stdout",
          "text": [
            "<class 'int'>\n",
            "<class 'float'>\n",
            "<class 'float'>\n",
            "3.3\n"
          ]
        }
      ]
    },
    {
      "cell_type": "markdown",
      "metadata": {
        "id": "Jfz5RW_0Dh1l"
      },
      "source": [
        "We can do the same in an easier way:"
      ]
    },
    {
      "cell_type": "code",
      "metadata": {
        "id": "E7uTbqroDkQW",
        "colab": {
          "base_uri": "https://localhost:8080/"
        },
        "outputId": "a4c470ce-6aab-4a1c-f8c7-c863f4c810b6"
      },
      "source": [
        "type(1 + 2.3)"
      ],
      "execution_count": null,
      "outputs": [
        {
          "output_type": "execute_result",
          "data": {
            "text/plain": [
              "float"
            ]
          },
          "metadata": {},
          "execution_count": 22
        }
      ]
    },
    {
      "cell_type": "code",
      "metadata": {
        "id": "vvrYUBDWkUeu",
        "colab": {
          "base_uri": "https://localhost:8080/",
          "height": 208
        },
        "outputId": "5bd7cda3-d940-43f5-b405-d492820cd29f"
      },
      "source": [
        "a = 1\n",
        "b = '2'\n",
        "a + b"
      ],
      "execution_count": null,
      "outputs": [
        {
          "output_type": "error",
          "ename": "TypeError",
          "evalue": "ignored",
          "traceback": [
            "\u001b[0;31m---------------------------------------------------------------------------\u001b[0m",
            "\u001b[0;31mTypeError\u001b[0m                                 Traceback (most recent call last)",
            "\u001b[0;32m<ipython-input-23-783d199d7919>\u001b[0m in \u001b[0;36m<module>\u001b[0;34m\u001b[0m\n\u001b[1;32m      1\u001b[0m \u001b[0ma\u001b[0m \u001b[0;34m=\u001b[0m \u001b[0;36m1\u001b[0m\u001b[0;34m\u001b[0m\u001b[0;34m\u001b[0m\u001b[0m\n\u001b[1;32m      2\u001b[0m \u001b[0mb\u001b[0m \u001b[0;34m=\u001b[0m \u001b[0;34m'2'\u001b[0m\u001b[0;34m\u001b[0m\u001b[0;34m\u001b[0m\u001b[0m\n\u001b[0;32m----> 3\u001b[0;31m \u001b[0ma\u001b[0m \u001b[0;34m+\u001b[0m \u001b[0mb\u001b[0m\u001b[0;34m\u001b[0m\u001b[0;34m\u001b[0m\u001b[0m\n\u001b[0m",
            "\u001b[0;31mTypeError\u001b[0m: unsupported operand type(s) for +: 'int' and 'str'"
          ]
        }
      ]
    },
    {
      "cell_type": "markdown",
      "metadata": {
        "id": "-e-BpPXtoP0V"
      },
      "source": [
        "Converting Fahrenheit degrees to Celsius"
      ]
    },
    {
      "cell_type": "code",
      "metadata": {
        "id": "WshOXYoRnWva",
        "colab": {
          "base_uri": "https://localhost:8080/"
        },
        "outputId": "e652b2e5-91a4-47c8-a282-348bf3c09cbc"
      },
      "source": [
        "f = 72\n",
        "c = 5/9 * (f - 32)\n",
        "print(c)"
      ],
      "execution_count": null,
      "outputs": [
        {
          "output_type": "stream",
          "name": "stdout",
          "text": [
            "22.22222222222222\n"
          ]
        }
      ]
    },
    {
      "cell_type": "markdown",
      "metadata": {
        "id": "w-c8TN4PERnx"
      },
      "source": [
        "## [Math library](https://docs.python.org/3/library/math.html)\n",
        "\n",
        "* part of Python's [standard libraries](https://docs.python.org/3/library/index.html)\n",
        "* the module must be imported\n",
        "* provides several math functions and constants"
      ]
    },
    {
      "cell_type": "code",
      "metadata": {
        "id": "pQkYgGb-E8S9",
        "colab": {
          "base_uri": "https://localhost:8080/"
        },
        "outputId": "dec20940-7b96-466d-be3d-a81ab7d03f4e"
      },
      "source": [
        "import math\n",
        "r = 1\n",
        "print(2. * r * math.pi)\n",
        "print(r**2 * math.pi)"
      ],
      "execution_count": null,
      "outputs": [
        {
          "output_type": "stream",
          "name": "stdout",
          "text": [
            "6.283185307179586\n",
            "3.141592653589793\n"
          ]
        }
      ]
    },
    {
      "cell_type": "code",
      "metadata": {
        "id": "2Pwif-ceGLP8",
        "colab": {
          "base_uri": "https://localhost:8080/"
        },
        "outputId": "7abe8f31-9e37-4514-81d6-1ec175e10438"
      },
      "source": [
        "print(math.e) # Euler-constant\n",
        "print(math.inf) # \"infinity\" can be represented with float type\n",
        "print(-math.inf)\n",
        "print(math.nan) # \"Not A Number\" special value"
      ],
      "execution_count": null,
      "outputs": [
        {
          "output_type": "stream",
          "name": "stdout",
          "text": [
            "2.718281828459045\n",
            "inf\n",
            "-inf\n",
            "nan\n"
          ]
        }
      ]
    },
    {
      "cell_type": "markdown",
      "metadata": {
        "id": "voECuuZeHQ3C"
      },
      "source": [
        "\"Rounding\""
      ]
    },
    {
      "cell_type": "code",
      "metadata": {
        "id": "uYoOrY30HqMm",
        "colab": {
          "base_uri": "https://localhost:8080/"
        },
        "outputId": "25bf2a29-76ca-4e49-cc74-058dfeaf2cb1"
      },
      "source": [
        "number = 1.4\n",
        "print(math.floor(number))\n",
        "print(math.ceil(number))\n",
        "print(round(number)) # not part of the math library"
      ],
      "execution_count": null,
      "outputs": [
        {
          "output_type": "stream",
          "name": "stdout",
          "text": [
            "1\n",
            "2\n",
            "1\n"
          ]
        }
      ]
    },
    {
      "cell_type": "markdown",
      "metadata": {
        "id": "uSoxHPj7IuOy"
      },
      "source": [
        "Logarithm"
      ]
    },
    {
      "cell_type": "code",
      "metadata": {
        "id": "HDNeXAIeIxVi",
        "colab": {
          "base_uri": "https://localhost:8080/"
        },
        "outputId": "785c36a7-58e4-40bd-bf96-9576905602cd"
      },
      "source": [
        "print(math.log(math.e)) # natural base logarithm\n",
        "print(math.log(64, 2)) # base 2"
      ],
      "execution_count": null,
      "outputs": [
        {
          "output_type": "stream",
          "name": "stdout",
          "text": [
            "1.0\n",
            "6.0\n"
          ]
        }
      ]
    },
    {
      "cell_type": "markdown",
      "metadata": {
        "id": "xLeYnRSxJLp_"
      },
      "source": [
        "Trigonometric functions\n",
        "* angles specified in radians"
      ]
    },
    {
      "cell_type": "code",
      "metadata": {
        "id": "AbZOLnyuJOlW",
        "colab": {
          "base_uri": "https://localhost:8080/"
        },
        "outputId": "d9c16322-9655-46f0-a435-4db140e51981"
      },
      "source": [
        "print(math.sin(math.pi / 2))\n",
        "print(math.sin(math.radians(270))) # converting degrees to radians"
      ],
      "execution_count": null,
      "outputs": [
        {
          "output_type": "stream",
          "name": "stdout",
          "text": [
            "1.0\n",
            "-1.0\n"
          ]
        }
      ]
    },
    {
      "cell_type": "code",
      "metadata": {
        "id": "zF7NCaCVJ2_E",
        "colab": {
          "base_uri": "https://localhost:8080/"
        },
        "outputId": "a576485d-d7b2-4768-c033-d3a152bc4405"
      },
      "source": [
        "print(math.degrees(math.asin(1)))"
      ],
      "execution_count": null,
      "outputs": [
        {
          "output_type": "stream",
          "name": "stdout",
          "text": [
            "90.0\n"
          ]
        }
      ]
    }
  ]
}